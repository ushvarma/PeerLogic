{
 "cells": [
  {
   "cell_type": "markdown",
   "metadata": {},
   "source": [
    "# Sentiment Classifiers Binary:\n",
    "#### This notebook contains various classifiers that can be used on a provided text dataset."
   ]
  },
  {
   "cell_type": "code",
   "execution_count": 1,
   "metadata": {},
   "outputs": [
    {
     "name": "stderr",
     "output_type": "stream",
     "text": [
      "C:\\Users\\Gabri\\Anaconda3\\lib\\site-packages\\nltk\\twitter\\__init__.py:20: UserWarning: The twython library has not been installed. Some functionality from the twitter package will not be available.\n",
      "  warnings.warn(\"The twython library has not been installed. \"\n",
      "C:\\Users\\Gabri\\Anaconda3\\lib\\site-packages\\h5py\\__init__.py:34: FutureWarning: Conversion of the second argument of issubdtype from `float` to `np.floating` is deprecated. In future, it will be treated as `np.float64 == np.dtype(float).type`.\n",
      "  from ._conv import register_converters as _register_converters\n",
      "Using TensorFlow backend.\n"
     ]
    }
   ],
   "source": [
    "import pandas as pd\n",
    "import numpy as np\n",
    "from sklearn.model_selection import train_test_split\n",
    "from sklearn.feature_extraction.text import CountVectorizer\n",
    "from sklearn.feature_extraction.text import TfidfTransformer\n",
    "from sklearn.naive_bayes import MultinomialNB\n",
    "from sklearn.naive_bayes import ComplementNB\n",
    "from sklearn.linear_model import LogisticRegression\n",
    "from sklearn.ensemble import AdaBoostClassifier\n",
    "from sklearn.ensemble import RandomForestClassifier\n",
    "from sklearn.pipeline import Pipeline\n",
    "from sklearn.linear_model import SGDClassifier\n",
    "from sklearn.svm import SVC\n",
    "from sklearn.metrics import confusion_matrix, classification_report\n",
    "from sklearn.model_selection import GridSearchCV\n",
    "import nltk\n",
    "from nltk.sentiment.vader import SentimentIntensityAnalyzer\n",
    "import tensorflow as tf\n",
    "import keras\n",
    "import sklearn\n",
    "import csv\n",
    "import itertools\n",
    "import matplotlib.pyplot as plt\n",
    "from sklearn import svm, datasets\n",
    "import operator\n",
    "import seaborn as sns\n",
    "import pickle"
   ]
  },
  {
   "cell_type": "code",
   "execution_count": 2,
   "metadata": {
    "collapsed": true
   },
   "outputs": [],
   "source": [
    "## This function is called by the classifiers to provide a visulization of the results\n",
    "def plot_confusion_matrix(cm, classes, Y_test,\n",
    "                          predictions,\n",
    "                          title='Confusion matrix',\n",
    "                          cmap=plt.cm.Blues):\n",
    "    print(\"Confusion Matrix:\")\n",
    "    print(cm)\n",
    "\n",
    "    plt.clf()\n",
    "    plt.imshow(cm, interpolation='nearest', cmap=cmap)\n",
    "    plt.title(title)\n",
    "    plt.colorbar()\n",
    "    tick_marks = np.arange(len(classes))\n",
    "    plt.xticks(tick_marks, classes, rotation=45)\n",
    "    plt.yticks(tick_marks, classes)\n",
    "\n",
    "    thresh = cm.max() / 2.\n",
    "    for i, j in itertools.product(range(cm.shape[0]), range(cm.shape[1])):\n",
    "        plt.text(j, i, format(cm[i, j],'d'),\n",
    "                 horizontalalignment=\"center\",\n",
    "                 color=\"white\" if cm[i, j] > thresh else \"black\")\n",
    "\n",
    "    plt.ylabel('True label')\n",
    "    plt.xlabel('Predicted label')\n",
    "    plt.tight_layout()\n",
    "    plt.show()\n",
    "    print(classification_report(Y_test, predictions, target_names = classes))"
   ]
  },
  {
   "cell_type": "markdown",
   "metadata": {},
   "source": [
    "### Complete -> Enter the name of the dataset you want to test into the file_in variable:\n",
    "##### The file_out dataset is the name of the dataset that will stored the number converted version of the text data. Set the name of file_out to the name of the converted dataset if you already have a dataset that has numeric representations of the dataset already instead of words. Otherwise, file_out will be the output file name that is the converted data of the file_in dataset that gets read in for classification for the tensorflow model. Also, if you already have a converted file, make sure that re_read is set to 0 so that it does not get overwritten."
   ]
  },
  {
   "cell_type": "code",
   "execution_count": 3,
   "metadata": {
    "collapsed": true
   },
   "outputs": [],
   "source": [
    "### Enter filenames below:\n",
    "file_in = \"problems_expertiza_balanced_final_combined.csv\"\n",
    "file_out = \"problems_expertiza_balanced_final_combined_converted.csv\"\n",
    "### Enter column names for data and labels below:\n",
    "data_col = \"REVIEW\"\n",
    "label_col = \"TAG\"\n",
    "### Set re_read to 0 if you already have a converted text file, 1 if it needs to be created\n",
    "re_read = 0"
   ]
  },
  {
   "cell_type": "code",
   "execution_count": 4,
   "metadata": {},
   "outputs": [
    {
     "name": "stdout",
     "output_type": "stream",
     "text": [
      "problems_expertiza_balanced_final_combined.csv\n",
      "TAG        int64\n",
      "REVIEW    object\n",
      "dtype: object\n",
      "Sample size: 11170\n",
      "   TAG                                             REVIEW\n",
      "0    0  Great testing plan. They have worked on it ver...\n",
      "1    0                          Test plan is pretty good.\n",
      "2    0  The test plan is good and covers every details...\n",
      "3    1  The team has done good job in test plan sectio...\n",
      "4    1  They have visualization which are some tables ...\n"
     ]
    }
   ],
   "source": [
    "df = pd.read_csv(file_in, engine = 'python');\n",
    "df = df.dropna()\n",
    "df = df.reset_index()\n",
    "df = df.drop(columns = ['index'])\n",
    "print(file_in)\n",
    "print(df.dtypes)\n",
    "print(\"Sample size:\", len(df))\n",
    "print(df.head(5))"
   ]
  },
  {
   "cell_type": "markdown",
   "metadata": {},
   "source": [
    "#### Setting up the data."
   ]
  },
  {
   "cell_type": "code",
   "execution_count": 5,
   "metadata": {
    "collapsed": true
   },
   "outputs": [],
   "source": [
    "X = df[data_col]\n",
    "Y = df[label_col]"
   ]
  },
  {
   "cell_type": "code",
   "execution_count": 266,
   "metadata": {},
   "outputs": [
    {
     "name": "stdout",
     "output_type": "stream",
     "text": [
      "['Great', 'testing', 'plan', '.', 'They', 'have', 'worked', 'on', 'it', 'very', 'hard', 'to', 'give', 'a', 'thorough', 'test', 'plan', 'with', 'different', 'scenarios', 'in', 'mind', '.']\n",
      "[('Great', 'NNP'), ('testing', 'VBG'), ('plan', 'NN'), ('.', '.'), ('They', 'PRP'), ('have', 'VBP'), ('worked', 'VBN'), ('on', 'IN'), ('it', 'PRP'), ('very', 'RB'), ('hard', 'RB'), ('to', 'TO'), ('give', 'VB'), ('a', 'DT'), ('thorough', 'JJ'), ('test', 'NN'), ('plan', 'NN'), ('with', 'IN'), ('different', 'JJ'), ('scenarios', 'NNS'), ('in', 'IN'), ('mind', 'NN'), ('.', '.')]\n",
      "\n",
      "VBG\n",
      "\n",
      "NNP VBG NN . PRP VBP VBN IN PRP RB RB TO VB DT JJ NN NN IN JJ NNS IN NN .\n"
     ]
    }
   ],
   "source": [
    "######## START CONVERSION: Convert data to POS tags\n",
    "# txt = nltk.word_tokenize(X[0])\n",
    "# print(txt)\n",
    "# txt = nltk.pos_tag(txt)\n",
    "# print(txt)\n",
    "# print()\n",
    "# print(txt[1][1])\n",
    "# print()\n",
    "# x_data = []\n",
    "# for i in range(len(txt)):\n",
    "#     x_data.append(txt[i][1])\n",
    "# txt = x_data\n",
    "# print(' '.join(txt))"
   ]
  },
  {
   "cell_type": "code",
   "execution_count": 267,
   "metadata": {},
   "outputs": [
    {
     "name": "stdout",
     "output_type": "stream",
     "text": [
      "Update: 0\n",
      "Update: 1000\n",
      "Update: 2000\n",
      "Update: 3000\n",
      "Update: 4000\n",
      "Update: 5000\n",
      "Update: 6000\n",
      "Update: 7000\n",
      "Update: 8000\n",
      "Update: 9000\n",
      "Update: 10000\n",
      "Update: 11000\n"
     ]
    }
   ],
   "source": [
    "# X_pos = []\n",
    "# for i in range(len(df)):\n",
    "#     if (i % 1000 == 0):\n",
    "#         print(\"Update:\", i) # Check spot in data converter process\n",
    "#     txt = nltk.word_tokenize(X[i])\n",
    "#     txt = nltk.pos_tag(txt)\n",
    "#     x_data = []\n",
    "#     for j in range(len(txt)):\n",
    "#         x_data.append(txt[j][1])\n",
    "#     txt = ' '.join(x_data)\n",
    "#     X_pos.append(txt)\n",
    "# X = X_pos\n",
    "# df[data_col] = X\n",
    "######### END CONVERSTION"
   ]
  },
  {
   "cell_type": "code",
   "execution_count": 8,
   "metadata": {},
   "outputs": [
    {
     "name": "stdout",
     "output_type": "stream",
     "text": [
      "Train data amount: 10053\n",
      "Test data amount: 1117\n"
     ]
    }
   ],
   "source": [
    "X_train, X_test, Y_train, Y_test = train_test_split(\n",
    " X, Y, test_size=0.1, random_state=42, stratify=df[label_col])\n",
    "print(\"Train data amount:\", len(X_train))\n",
    "print(\"Test data amount:\", len(X_test))"
   ]
  },
  {
   "cell_type": "code",
   "execution_count": 31,
   "metadata": {
    "collapsed": true
   },
   "outputs": [],
   "source": [
    "### Stemming\n",
    "# from nltk.stem import *\n",
    "# stemmer = PorterStemmer()\n",
    "# new_xtr2 = []\n",
    "# new_xte2 = []\n",
    "# for sent in X_train:\n",
    "#     sent = nltk.word_tokenize(sent)\n",
    "#     sent = [stemmer.stem(w) for w in sent]\n",
    "#     sent = \" \".join(sent)\n",
    "#     new_xtr2.append(sent)\n",
    "# X_train = new_xtr2\n",
    "# for sent in X_test:\n",
    "#     sent = nltk.word_tokenize(sent)\n",
    "#     sent = [stemmer.stem(w) for w in sent]\n",
    "#     sent = \" \".join(sent)\n",
    "#     new_xte2.append(sent)\n",
    "# X_test = new_xte2\n",
    "# all_data = X_train + X_test"
   ]
  },
  {
   "cell_type": "markdown",
   "metadata": {},
   "source": [
    "## Logistic Regression Classifier:"
   ]
  },
  {
   "cell_type": "code",
   "execution_count": 169,
   "metadata": {
    "collapsed": true
   },
   "outputs": [],
   "source": [
    "#### Logistic Regression\n",
    "text_clf_log = Pipeline([('vect', CountVectorizer()),\n",
    " ('tfidf', TfidfTransformer()),\n",
    " ('clf-log', LogisticRegression(solver='liblinear')),\n",
    "])"
   ]
  },
  {
   "cell_type": "code",
   "execution_count": 10,
   "metadata": {
    "collapsed": true
   },
   "outputs": [],
   "source": [
    "text_clf_log = text_clf_log.fit(X_train,Y_train)"
   ]
  },
  {
   "cell_type": "code",
   "execution_count": 11,
   "metadata": {},
   "outputs": [
    {
     "name": "stdout",
     "output_type": "stream",
     "text": [
      "Accuracy: 0.8621307072515667\n",
      "[[469  90]\n",
      " [ 64 494]]\n"
     ]
    }
   ],
   "source": [
    "predicted_log = text_clf_log.predict(X_test)\n",
    "accuracy = np.mean(predicted_log == Y_test)\n",
    "print(\"Accuracy:\", accuracy)\n",
    "cm = confusion_matrix(Y_test, predicted_log)\n",
    "print(cm)"
   ]
  },
  {
   "cell_type": "code",
   "execution_count": 12,
   "metadata": {},
   "outputs": [
    {
     "name": "stdout",
     "output_type": "stream",
     "text": [
      "Confusion Matrix:\n",
      "[[469  90]\n",
      " [ 64 494]]\n"
     ]
    },
    {
     "data": {
      "image/png": "[encoded data removed]",
      "text/plain": [
       "<Figure size 432x288 with 2 Axes>"
      ]
     },
     "metadata": {},
     "output_type": "display_data"
    },
    {
     "name": "stdout",
     "output_type": "stream",
     "text": [
      "              precision    recall  f1-score   support\n",
      "\n",
      "       False       0.88      0.84      0.86       559\n",
      "        True       0.85      0.89      0.87       558\n",
      "\n",
      "   micro avg       0.86      0.86      0.86      1117\n",
      "   macro avg       0.86      0.86      0.86      1117\n",
      "weighted avg       0.86      0.86      0.86      1117\n",
      "\n"
     ]
    }
   ],
   "source": [
    "## Graphical visualization\n",
    "cnf_matrix = confusion_matrix(Y_test, predicted_log)\n",
    "plt.figure()\n",
    "class_names = ['False', 'True']\n",
    "plot_confusion_matrix(cnf_matrix, classes=class_names,\n",
    "                      Y_test = Y_test, predictions = predicted_log,\n",
    "                      title='Confusion matrix')"
   ]
  },
  {
   "cell_type": "markdown",
   "metadata": {},
   "source": [
    "### Gridsearch: Logistic Regression"
   ]
  },
  {
   "cell_type": "code",
   "execution_count": 194,
   "metadata": {
    "collapsed": true
   },
   "outputs": [],
   "source": [
    "#### Gridsearch\n",
    "parameters = {'vect__ngram_range': [(1, 1), (1, 2)],\n",
    "              #'tfidf__use_idf': (True, False),\n",
    "              'clf-log__C': (10, 1, 1e-1),\n",
    "              'clf-log__solver': ('liblinear', 'newton-cg', 'lbfgs'),\n",
    "    }"
   ]
  },
  {
   "cell_type": "code",
   "execution_count": 262,
   "metadata": {},
   "outputs": [
    {
     "data": {
      "text/plain": [
       "dict_keys(['memory', 'steps', 'vect', 'tfidf', 'clf-log', 'vect__analyzer', 'vect__binary', 'vect__decode_error', 'vect__dtype', 'vect__encoding', 'vect__input', 'vect__lowercase', 'vect__max_df', 'vect__max_features', 'vect__min_df', 'vect__ngram_range', 'vect__preprocessor', 'vect__stop_words', 'vect__strip_accents', 'vect__token_pattern', 'vect__tokenizer', 'vect__vocabulary', 'tfidf__norm', 'tfidf__smooth_idf', 'tfidf__sublinear_tf', 'tfidf__use_idf', 'clf-log__C', 'clf-log__class_weight', 'clf-log__dual', 'clf-log__fit_intercept', 'clf-log__intercept_scaling', 'clf-log__max_iter', 'clf-log__multi_class', 'clf-log__n_jobs', 'clf-log__penalty', 'clf-log__random_state', 'clf-log__solver', 'clf-log__tol', 'clf-log__verbose', 'clf-log__warm_start'])"
      ]
     },
     "execution_count": 262,
     "metadata": {},
     "output_type": "execute_result"
    }
   ],
   "source": [
    "text_clf_log.get_params().keys()"
   ]
  },
  {
   "cell_type": "code",
   "execution_count": 263,
   "metadata": {
    "collapsed": true
   },
   "outputs": [],
   "source": [
    "## Cross-validation and fit\n",
    "gs_clf_log = GridSearchCV(text_clf_log, parameters, cv=5, n_jobs=-1)\n",
    "gs_clf_log = gs_clf_log.fit(X_train,Y_train)\n",
    "predicted_gs = gs_clf_log.predict(X_test)\n",
    "accuracy = np.mean(predicted_gs == Y_test)"
   ]
  },
  {
   "cell_type": "code",
   "execution_count": 264,
   "metadata": {},
   "outputs": [
    {
     "name": "stdout",
     "output_type": "stream",
     "text": [
      "Grid search best score: 0.8753605888789416\n",
      "{'clf-log__C': 10, 'clf-log__solver': 'liblinear', 'vect__ngram_range': (1, 2)}\n",
      "Accuracy: 0.88272157564906\n"
     ]
    }
   ],
   "source": [
    "print(\"Grid search best score:\", gs_clf.best_score_)\n",
    "print(gs_clf.best_params_)\n",
    "print(\"Accuracy:\", accuracy)"
   ]
  },
  {
   "cell_type": "code",
   "execution_count": 265,
   "metadata": {},
   "outputs": [
    {
     "name": "stdout",
     "output_type": "stream",
     "text": [
      "Confusion Matrix:\n",
      "[[479  80]\n",
      " [ 51 507]]\n"
     ]
    },
    {
     "data": {
      "image/png": "[encoded data removed]",
      "text/plain": [
       "<Figure size 432x288 with 2 Axes>"
      ]
     },
     "metadata": {},
     "output_type": "display_data"
    },
    {
     "name": "stdout",
     "output_type": "stream",
     "text": [
      "              precision    recall  f1-score   support\n",
      "\n",
      "       False       0.90      0.86      0.88       559\n",
      "        True       0.86      0.91      0.89       558\n",
      "\n",
      "   micro avg       0.88      0.88      0.88      1117\n",
      "   macro avg       0.88      0.88      0.88      1117\n",
      "weighted avg       0.88      0.88      0.88      1117\n",
      "\n"
     ]
    }
   ],
   "source": [
    "## Graphical visualization\n",
    "cnf_matrix = confusion_matrix(Y_test, predicted_gs)\n",
    "plt.figure()\n",
    "class_names = ['False', 'True']\n",
    "plot_confusion_matrix(cnf_matrix, classes=class_names,\n",
    "                      Y_test = Y_test, predictions = predicted_gs,\n",
    "                      title='Confusion matrix')"
   ]
  },
  {
   "cell_type": "markdown",
   "metadata": {},
   "source": [
    "## Random Forest Classifier"
   ]
  },
  {
   "cell_type": "code",
   "execution_count": 170,
   "metadata": {
    "collapsed": true
   },
   "outputs": [],
   "source": [
    "#### Random Forest\n",
    "text_clf_rfc = Pipeline([('vect', CountVectorizer()),\n",
    " ('tfidf', TfidfTransformer()),\n",
    " ('clf-rfc', RandomForestClassifier(n_estimators=200, max_depth=3, random_state=42)),\n",
    "])"
   ]
  },
  {
   "cell_type": "code",
   "execution_count": 274,
   "metadata": {
    "collapsed": true
   },
   "outputs": [],
   "source": [
    "text_clf_rfc = text_clf_rfc.fit(X_train,Y_train)"
   ]
  },
  {
   "cell_type": "code",
   "execution_count": 275,
   "metadata": {},
   "outputs": [
    {
     "name": "stdout",
     "output_type": "stream",
     "text": [
      "Accuracy: 0.720680393912265\n",
      "[[416 143]\n",
      " [169 389]]\n"
     ]
    }
   ],
   "source": [
    "predicted_rfc = text_clf_rfc.predict(X_test)\n",
    "accuracy = np.mean(predicted_rfc == Y_test)\n",
    "print(\"Accuracy:\", accuracy)\n",
    "cm = confusion_matrix(Y_test, predicted_rfc)\n",
    "print(cm)"
   ]
  },
  {
   "cell_type": "code",
   "execution_count": 276,
   "metadata": {},
   "outputs": [
    {
     "name": "stdout",
     "output_type": "stream",
     "text": [
      "Confusion Matrix:\n",
      "[[416 143]\n",
      " [169 389]]\n"
     ]
    },
    {
     "data": {
      "image/png": "[encoded data removed]",
      "text/plain": [
       "<Figure size 432x288 with 2 Axes>"
      ]
     },
     "metadata": {},
     "output_type": "display_data"
    },
    {
     "name": "stdout",
     "output_type": "stream",
     "text": [
      "              precision    recall  f1-score   support\n",
      "\n",
      "       False       0.71      0.74      0.73       559\n",
      "        True       0.73      0.70      0.71       558\n",
      "\n",
      "   micro avg       0.72      0.72      0.72      1117\n",
      "   macro avg       0.72      0.72      0.72      1117\n",
      "weighted avg       0.72      0.72      0.72      1117\n",
      "\n"
     ]
    }
   ],
   "source": [
    "## Graphical visualization\n",
    "cnf_matrix = confusion_matrix(Y_test, predicted_rfc)\n",
    "plt.figure()\n",
    "class_names = ['False', 'True']\n",
    "plot_confusion_matrix(cnf_matrix, classes=class_names,\n",
    "                      Y_test = Y_test, predictions = predicted_rfc,\n",
    "                      title='Confusion matrix')"
   ]
  },
  {
   "cell_type": "markdown",
   "metadata": {},
   "source": [
    "### Gridsearch: Random Forest"
   ]
  },
  {
   "cell_type": "code",
   "execution_count": 195,
   "metadata": {
    "collapsed": true
   },
   "outputs": [],
   "source": [
    "#### Gridsearch\n",
    "parameters = {'vect__ngram_range': [(1, 1), (1, 2)],\n",
    "              #'tfidf__use_idf': (True, False),\n",
    "              'clf-rfc__max_depth': (2, 3, 4),\n",
    "              'clf-rfc__criterion': (\"gini\", \"entropy\"),\n",
    "              'clf-rfc__n_estimators': (100, 200, 300),\n",
    "    }"
   ]
  },
  {
   "cell_type": "code",
   "execution_count": 22,
   "metadata": {},
   "outputs": [
    {
     "data": {
      "text/plain": [
       "dict_keys(['memory', 'steps', 'vect', 'tfidf', 'clf-rfc', 'vect__analyzer', 'vect__binary', 'vect__decode_error', 'vect__dtype', 'vect__encoding', 'vect__input', 'vect__lowercase', 'vect__max_df', 'vect__max_features', 'vect__min_df', 'vect__ngram_range', 'vect__preprocessor', 'vect__stop_words', 'vect__strip_accents', 'vect__token_pattern', 'vect__tokenizer', 'vect__vocabulary', 'tfidf__norm', 'tfidf__smooth_idf', 'tfidf__sublinear_tf', 'tfidf__use_idf', 'clf-rfc__bootstrap', 'clf-rfc__class_weight', 'clf-rfc__criterion', 'clf-rfc__max_depth', 'clf-rfc__max_features', 'clf-rfc__max_leaf_nodes', 'clf-rfc__min_impurity_decrease', 'clf-rfc__min_impurity_split', 'clf-rfc__min_samples_leaf', 'clf-rfc__min_samples_split', 'clf-rfc__min_weight_fraction_leaf', 'clf-rfc__n_estimators', 'clf-rfc__n_jobs', 'clf-rfc__oob_score', 'clf-rfc__random_state', 'clf-rfc__verbose', 'clf-rfc__warm_start'])"
      ]
     },
     "execution_count": 22,
     "metadata": {},
     "output_type": "execute_result"
    }
   ],
   "source": [
    "text_clf_rfc.get_params().keys()"
   ]
  },
  {
   "cell_type": "code",
   "execution_count": 23,
   "metadata": {
    "collapsed": true
   },
   "outputs": [],
   "source": [
    "## Cross-validation and fit\n",
    "gs_clf_rfc = GridSearchCV(text_clf_rfc, parameters, cv=5, n_jobs=-1)\n",
    "gs_clf_rfc = gs_clf_rfc.fit(X_train,Y_train)\n",
    "predicted_gs = gs_clf_rfc.predict(X_test)\n",
    "accuracy = np.mean(predicted_gs == Y_test)"
   ]
  },
  {
   "cell_type": "code",
   "execution_count": 24,
   "metadata": {},
   "outputs": [
    {
     "name": "stdout",
     "output_type": "stream",
     "text": [
      "Grid search best score: 0.7233809001097695\n",
      "{'clf-rfc__criterion': 'gini', 'clf-rfc__max_depth': 4, 'clf-rfc__n_estimators': 100, 'vect__ngram_range': (1, 1)}\n",
      "Accuracy: 0.7269736842105263\n"
     ]
    }
   ],
   "source": [
    "print(\"Grid search best score:\", gs_clf.best_score_)\n",
    "print(gs_clf.best_params_)\n",
    "print(\"Accuracy:\", accuracy)"
   ]
  },
  {
   "cell_type": "code",
   "execution_count": 25,
   "metadata": {
    "scrolled": false
   },
   "outputs": [
    {
     "name": "stdout",
     "output_type": "stream",
     "text": [
      "Confusion Matrix:\n",
      "[[147  12]\n",
      " [ 71  74]]\n"
     ]
    },
    {
     "data": {
      "image/png": "[encoded data removed]",
      "text/plain": [
       "<Figure size 432x288 with 2 Axes>"
      ]
     },
     "metadata": {},
     "output_type": "display_data"
    },
    {
     "name": "stdout",
     "output_type": "stream",
     "text": [
      "              precision    recall  f1-score   support\n",
      "\n",
      "       False       0.67      0.92      0.78       159\n",
      "        True       0.86      0.51      0.64       145\n",
      "\n",
      "   micro avg       0.73      0.73      0.73       304\n",
      "   macro avg       0.77      0.72      0.71       304\n",
      "weighted avg       0.76      0.73      0.71       304\n",
      "\n"
     ]
    }
   ],
   "source": [
    "## Graphical visualization\n",
    "cnf_matrix = confusion_matrix(Y_test, predicted_gs)\n",
    "plt.figure()\n",
    "class_names = ['False', 'True']\n",
    "plot_confusion_matrix(cnf_matrix, classes=class_names,\n",
    "                      Y_test = Y_test, predictions = predicted_gs,\n",
    "                      title='Confusion matrix')"
   ]
  },
  {
   "cell_type": "markdown",
   "metadata": {},
   "source": [
    "## Multinomial Naive Bayes classifier:"
   ]
  },
  {
   "cell_type": "code",
   "execution_count": 219,
   "metadata": {
    "collapsed": true
   },
   "outputs": [],
   "source": [
    "#### Multinomial Naive Bayes\n",
    "text_clf_mnb = Pipeline([('vect', CountVectorizer()),\n",
    " ('tfidf', TfidfTransformer()),\n",
    " ('clf-mnb', MultinomialNB()),\n",
    "])"
   ]
  },
  {
   "cell_type": "code",
   "execution_count": 220,
   "metadata": {
    "collapsed": true
   },
   "outputs": [],
   "source": [
    "text_clf_mnb = text_clf_mnb.fit(X_train,Y_train)"
   ]
  },
  {
   "cell_type": "code",
   "execution_count": 221,
   "metadata": {},
   "outputs": [
    {
     "name": "stdout",
     "output_type": "stream",
     "text": [
      "Accuracy: 0.8513876454789615\n",
      "[[446 112]\n",
      " [ 54 505]]\n"
     ]
    }
   ],
   "source": [
    "predicted_mnb = text_clf_mnb.predict(X_test)\n",
    "accuracy = np.mean(predicted_mnb == Y_test)\n",
    "print(\"Accuracy:\", accuracy)\n",
    "cm = confusion_matrix(Y_test, predicted_mnb)\n",
    "print(cm)"
   ]
  },
  {
   "cell_type": "code",
   "execution_count": 222,
   "metadata": {},
   "outputs": [
    {
     "name": "stdout",
     "output_type": "stream",
     "text": [
      "Confusion Matrix:\n",
      "[[446 112]\n",
      " [ 54 505]]\n"
     ]
    },
    {
     "data": {
      "image/png": "[encoded data removed]",
      "text/plain": [
       "<Figure size 432x288 with 2 Axes>"
      ]
     },
     "metadata": {},
     "output_type": "display_data"
    },
    {
     "name": "stdout",
     "output_type": "stream",
     "text": [
      "              precision    recall  f1-score   support\n",
      "\n",
      "       False       0.89      0.80      0.84       558\n",
      "        True       0.82      0.90      0.86       559\n",
      "\n",
      "   micro avg       0.85      0.85      0.85      1117\n",
      "   macro avg       0.86      0.85      0.85      1117\n",
      "weighted avg       0.86      0.85      0.85      1117\n",
      "\n"
     ]
    }
   ],
   "source": [
    "## Graphical visualization\n",
    "cnf_matrix = confusion_matrix(Y_test, predicted_mnb)\n",
    "plt.figure()\n",
    "class_names = ['False', 'True']\n",
    "plot_confusion_matrix(cnf_matrix, classes=class_names,\n",
    "                      Y_test = Y_test, predictions = predicted_mnb,\n",
    "                      title='Confusion matrix')"
   ]
  },
  {
   "cell_type": "markdown",
   "metadata": {},
   "source": [
    "### Gridsearch: Multinomial Naive Bayes"
   ]
  },
  {
   "cell_type": "code",
   "execution_count": 267,
   "metadata": {
    "collapsed": true
   },
   "outputs": [],
   "source": [
    "#### Gridsearch\n",
    "parameters = {'vect__ngram_range': [(1, 1), (1, 2)],\n",
    "#               'tfidf__use_idf': (True, False),\n",
    "              'clf-mnb__alpha': (0, 1e-1, 1e-2),\n",
    "    }"
   ]
  },
  {
   "cell_type": "code",
   "execution_count": 268,
   "metadata": {},
   "outputs": [
    {
     "data": {
      "text/plain": [
       "dict_keys(['memory', 'steps', 'vect', 'tfidf', 'clf-mnb', 'vect__analyzer', 'vect__binary', 'vect__decode_error', 'vect__dtype', 'vect__encoding', 'vect__input', 'vect__lowercase', 'vect__max_df', 'vect__max_features', 'vect__min_df', 'vect__ngram_range', 'vect__preprocessor', 'vect__stop_words', 'vect__strip_accents', 'vect__token_pattern', 'vect__tokenizer', 'vect__vocabulary', 'tfidf__norm', 'tfidf__smooth_idf', 'tfidf__sublinear_tf', 'tfidf__use_idf', 'clf-mnb__alpha', 'clf-mnb__class_prior', 'clf-mnb__fit_prior'])"
      ]
     },
     "execution_count": 268,
     "metadata": {},
     "output_type": "execute_result"
    }
   ],
   "source": [
    "text_clf_mnb.get_params().keys()"
   ]
  },
  {
   "cell_type": "code",
   "execution_count": 269,
   "metadata": {},
   "outputs": [
    {
     "name": "stderr",
     "output_type": "stream",
     "text": [
      "C:\\Users\\Gabri\\Anaconda3\\lib\\site-packages\\sklearn\\naive_bayes.py:480: UserWarning: alpha too small will result in numeric errors, setting alpha = 1.0e-10\n",
      "  'setting alpha = %.1e' % _ALPHA_MIN)\n",
      "C:\\Users\\Gabri\\Anaconda3\\lib\\site-packages\\sklearn\\naive_bayes.py:480: UserWarning: alpha too small will result in numeric errors, setting alpha = 1.0e-10\n",
      "  'setting alpha = %.1e' % _ALPHA_MIN)\n",
      "C:\\Users\\Gabri\\Anaconda3\\lib\\site-packages\\sklearn\\naive_bayes.py:480: UserWarning: alpha too small will result in numeric errors, setting alpha = 1.0e-10\n",
      "  'setting alpha = %.1e' % _ALPHA_MIN)\n",
      "C:\\Users\\Gabri\\Anaconda3\\lib\\site-packages\\sklearn\\naive_bayes.py:480: UserWarning: alpha too small will result in numeric errors, setting alpha = 1.0e-10\n",
      "  'setting alpha = %.1e' % _ALPHA_MIN)\n",
      "C:\\Users\\Gabri\\Anaconda3\\lib\\site-packages\\sklearn\\naive_bayes.py:480: UserWarning: alpha too small will result in numeric errors, setting alpha = 1.0e-10\n",
      "  'setting alpha = %.1e' % _ALPHA_MIN)\n",
      "C:\\Users\\Gabri\\Anaconda3\\lib\\site-packages\\sklearn\\naive_bayes.py:480: UserWarning: alpha too small will result in numeric errors, setting alpha = 1.0e-10\n",
      "  'setting alpha = %.1e' % _ALPHA_MIN)\n",
      "C:\\Users\\Gabri\\Anaconda3\\lib\\site-packages\\sklearn\\naive_bayes.py:480: UserWarning: alpha too small will result in numeric errors, setting alpha = 1.0e-10\n",
      "  'setting alpha = %.1e' % _ALPHA_MIN)\n",
      "C:\\Users\\Gabri\\Anaconda3\\lib\\site-packages\\sklearn\\naive_bayes.py:480: UserWarning: alpha too small will result in numeric errors, setting alpha = 1.0e-10\n",
      "  'setting alpha = %.1e' % _ALPHA_MIN)\n",
      "C:\\Users\\Gabri\\Anaconda3\\lib\\site-packages\\sklearn\\naive_bayes.py:480: UserWarning: alpha too small will result in numeric errors, setting alpha = 1.0e-10\n",
      "  'setting alpha = %.1e' % _ALPHA_MIN)\n",
      "C:\\Users\\Gabri\\Anaconda3\\lib\\site-packages\\sklearn\\naive_bayes.py:480: UserWarning: alpha too small will result in numeric errors, setting alpha = 1.0e-10\n",
      "  'setting alpha = %.1e' % _ALPHA_MIN)\n"
     ]
    }
   ],
   "source": [
    "## Cross-validation and fit\n",
    "gs_clf_mnb = GridSearchCV(text_clf_mnb, parameters, cv=5)\n",
    "gs_clf_mnb = gs_clf_mnb.fit(X_train,Y_train)\n",
    "predicted_gs = gs_clf_mnb.predict(X_test)\n",
    "accuracy = np.mean(predicted_gs == Y_test)"
   ]
  },
  {
   "cell_type": "code",
   "execution_count": 270,
   "metadata": {},
   "outputs": [
    {
     "name": "stdout",
     "output_type": "stream",
     "text": [
      "Grid search best score: 0.8416228903543087\n",
      "{'clf-mnb__alpha': 0.1, 'vect__ngram_range': (1, 2)}\n",
      "Accuracy: 0.8710832587287377\n"
     ]
    }
   ],
   "source": [
    "print(\"Grid search best score:\", gs_clf_mnb.best_score_)\n",
    "print(gs_clf_mnb.best_params_)\n",
    "print(\"Accuracy:\", accuracy)"
   ]
  },
  {
   "cell_type": "code",
   "execution_count": 271,
   "metadata": {},
   "outputs": [
    {
     "name": "stdout",
     "output_type": "stream",
     "text": [
      "Confusion Matrix:\n",
      "[[472  86]\n",
      " [ 58 501]]\n"
     ]
    },
    {
     "data": {
      "image/png": "[encoded data removed]",
      "text/plain": [
       "<Figure size 432x288 with 2 Axes>"
      ]
     },
     "metadata": {},
     "output_type": "display_data"
    },
    {
     "name": "stdout",
     "output_type": "stream",
     "text": [
      "              precision    recall  f1-score   support\n",
      "\n",
      "       False       0.89      0.85      0.87       558\n",
      "        True       0.85      0.90      0.87       559\n",
      "\n",
      "   micro avg       0.87      0.87      0.87      1117\n",
      "   macro avg       0.87      0.87      0.87      1117\n",
      "weighted avg       0.87      0.87      0.87      1117\n",
      "\n"
     ]
    }
   ],
   "source": [
    "## Graphical visualization\n",
    "cnf_matrix = confusion_matrix(Y_test, predicted_gs)\n",
    "plt.figure()\n",
    "class_names = ['False', 'True']\n",
    "plot_confusion_matrix(cnf_matrix, classes=class_names,\n",
    "                      Y_test = Y_test, predictions = predicted_gs,\n",
    "                      title='Confusion matrix')"
   ]
  },
  {
   "cell_type": "markdown",
   "metadata": {},
   "source": [
    "## Complement Naive Bayes classifier:"
   ]
  },
  {
   "cell_type": "code",
   "execution_count": 254,
   "metadata": {
    "collapsed": true
   },
   "outputs": [],
   "source": [
    "#### Complement Naive Bayes\n",
    "text_clf_cnb = Pipeline([('vect', CountVectorizer()),\n",
    " ('tfidf', TfidfTransformer()),\n",
    " ('clf-cnb', ComplementNB()),\n",
    "])"
   ]
  },
  {
   "cell_type": "code",
   "execution_count": 255,
   "metadata": {
    "collapsed": true
   },
   "outputs": [],
   "source": [
    "text_clf_cnb = text_clf_cnb.fit(X_train,Y_train)"
   ]
  },
  {
   "cell_type": "code",
   "execution_count": 257,
   "metadata": {},
   "outputs": [
    {
     "name": "stdout",
     "output_type": "stream",
     "text": [
      "Accuracy: 0.8513876454789615\n",
      "[[446 112]\n",
      " [ 54 505]]\n"
     ]
    }
   ],
   "source": [
    "predicted_cnb = text_clf_cnb.predict(X_test)\n",
    "accuracy = np.mean(predicted_cnb == Y_test)\n",
    "print(\"Accuracy:\", accuracy)\n",
    "cm = confusion_matrix(Y_test, predicted_cnb)\n",
    "print(cm)"
   ]
  },
  {
   "cell_type": "code",
   "execution_count": 258,
   "metadata": {},
   "outputs": [
    {
     "name": "stdout",
     "output_type": "stream",
     "text": [
      "Confusion Matrix:\n",
      "[[446 112]\n",
      " [ 54 505]]\n"
     ]
    },
    {
     "data": {
      "image/png": "[encoded data removed]",
      "text/plain": [
       "<Figure size 432x288 with 2 Axes>"
      ]
     },
     "metadata": {},
     "output_type": "display_data"
    },
    {
     "name": "stdout",
     "output_type": "stream",
     "text": [
      "              precision    recall  f1-score   support\n",
      "\n",
      "       False       0.89      0.80      0.84       558\n",
      "        True       0.82      0.90      0.86       559\n",
      "\n",
      "   micro avg       0.85      0.85      0.85      1117\n",
      "   macro avg       0.86      0.85      0.85      1117\n",
      "weighted avg       0.86      0.85      0.85      1117\n",
      "\n"
     ]
    }
   ],
   "source": [
    "## Graphical visualization\n",
    "cnf_matrix = confusion_matrix(Y_test, predicted_cnb)\n",
    "plt.figure()\n",
    "class_names = ['False', 'True']\n",
    "plot_confusion_matrix(cnf_matrix, classes=class_names,\n",
    "                      Y_test = Y_test, predictions = predicted_cnb,\n",
    "                      title='Confusion matrix')"
   ]
  },
  {
   "cell_type": "markdown",
   "metadata": {},
   "source": [
    "### Gridsearch: Complement Naive Bayes"
   ]
  },
  {
   "cell_type": "code",
   "execution_count": 259,
   "metadata": {
    "collapsed": true
   },
   "outputs": [],
   "source": [
    "#### Gridsearch\n",
    "parameters = {'vect__ngram_range': [(1, 1), (1, 2)],\n",
    "#               'tfidf__use_idf': (True, False),\n",
    "              'clf-cnb__alpha': (0, 1e-1, 1e-2),\n",
    "    }"
   ]
  },
  {
   "cell_type": "code",
   "execution_count": 261,
   "metadata": {},
   "outputs": [
    {
     "data": {
      "text/plain": [
       "dict_keys(['memory', 'steps', 'vect', 'tfidf', 'clf-cnb', 'vect__analyzer', 'vect__binary', 'vect__decode_error', 'vect__dtype', 'vect__encoding', 'vect__input', 'vect__lowercase', 'vect__max_df', 'vect__max_features', 'vect__min_df', 'vect__ngram_range', 'vect__preprocessor', 'vect__stop_words', 'vect__strip_accents', 'vect__token_pattern', 'vect__tokenizer', 'vect__vocabulary', 'tfidf__norm', 'tfidf__smooth_idf', 'tfidf__sublinear_tf', 'tfidf__use_idf', 'clf-cnb__alpha', 'clf-cnb__class_prior', 'clf-cnb__fit_prior', 'clf-cnb__norm'])"
      ]
     },
     "execution_count": 261,
     "metadata": {},
     "output_type": "execute_result"
    }
   ],
   "source": [
    "text_clf_cnb.get_params().keys()"
   ]
  },
  {
   "cell_type": "code",
   "execution_count": 263,
   "metadata": {},
   "outputs": [
    {
     "name": "stderr",
     "output_type": "stream",
     "text": [
      "C:\\Users\\Gabri\\Anaconda3\\lib\\site-packages\\sklearn\\naive_bayes.py:480: UserWarning: alpha too small will result in numeric errors, setting alpha = 1.0e-10\n",
      "  'setting alpha = %.1e' % _ALPHA_MIN)\n",
      "C:\\Users\\Gabri\\Anaconda3\\lib\\site-packages\\sklearn\\naive_bayes.py:480: UserWarning: alpha too small will result in numeric errors, setting alpha = 1.0e-10\n",
      "  'setting alpha = %.1e' % _ALPHA_MIN)\n",
      "C:\\Users\\Gabri\\Anaconda3\\lib\\site-packages\\sklearn\\naive_bayes.py:480: UserWarning: alpha too small will result in numeric errors, setting alpha = 1.0e-10\n",
      "  'setting alpha = %.1e' % _ALPHA_MIN)\n",
      "C:\\Users\\Gabri\\Anaconda3\\lib\\site-packages\\sklearn\\naive_bayes.py:480: UserWarning: alpha too small will result in numeric errors, setting alpha = 1.0e-10\n",
      "  'setting alpha = %.1e' % _ALPHA_MIN)\n",
      "C:\\Users\\Gabri\\Anaconda3\\lib\\site-packages\\sklearn\\naive_bayes.py:480: UserWarning: alpha too small will result in numeric errors, setting alpha = 1.0e-10\n",
      "  'setting alpha = %.1e' % _ALPHA_MIN)\n",
      "C:\\Users\\Gabri\\Anaconda3\\lib\\site-packages\\sklearn\\naive_bayes.py:480: UserWarning: alpha too small will result in numeric errors, setting alpha = 1.0e-10\n",
      "  'setting alpha = %.1e' % _ALPHA_MIN)\n",
      "C:\\Users\\Gabri\\Anaconda3\\lib\\site-packages\\sklearn\\naive_bayes.py:480: UserWarning: alpha too small will result in numeric errors, setting alpha = 1.0e-10\n",
      "  'setting alpha = %.1e' % _ALPHA_MIN)\n",
      "C:\\Users\\Gabri\\Anaconda3\\lib\\site-packages\\sklearn\\naive_bayes.py:480: UserWarning: alpha too small will result in numeric errors, setting alpha = 1.0e-10\n",
      "  'setting alpha = %.1e' % _ALPHA_MIN)\n",
      "C:\\Users\\Gabri\\Anaconda3\\lib\\site-packages\\sklearn\\naive_bayes.py:480: UserWarning: alpha too small will result in numeric errors, setting alpha = 1.0e-10\n",
      "  'setting alpha = %.1e' % _ALPHA_MIN)\n",
      "C:\\Users\\Gabri\\Anaconda3\\lib\\site-packages\\sklearn\\naive_bayes.py:480: UserWarning: alpha too small will result in numeric errors, setting alpha = 1.0e-10\n",
      "  'setting alpha = %.1e' % _ALPHA_MIN)\n"
     ]
    }
   ],
   "source": [
    "## Cross-validation and fit\n",
    "gs_clf_cnb = GridSearchCV(text_clf_cnb, parameters, cv=5)\n",
    "gs_clf_cnb = gs_clf_cnb.fit(X_train,Y_train)\n",
    "predicted_gs = gs_clf_cnb.predict(X_test)\n",
    "accuracy = np.mean(predicted_gs == Y_test)"
   ]
  },
  {
   "cell_type": "code",
   "execution_count": 265,
   "metadata": {},
   "outputs": [
    {
     "name": "stdout",
     "output_type": "stream",
     "text": [
      "Grid search best score: 0.8415111210461608\n",
      "{'clf-cnb__alpha': 0.1, 'vect__ngram_range': (1, 2)}\n",
      "Accuracy: 0.8710832587287377\n"
     ]
    }
   ],
   "source": [
    "print(\"Grid search best score:\", gs_clf_cnb.best_score_)\n",
    "print(gs_clf_cnb.best_params_)\n",
    "print(\"Accuracy:\", accuracy)"
   ]
  },
  {
   "cell_type": "code",
   "execution_count": 266,
   "metadata": {},
   "outputs": [
    {
     "name": "stdout",
     "output_type": "stream",
     "text": [
      "Confusion Matrix:\n",
      "[[472  86]\n",
      " [ 58 501]]\n"
     ]
    },
    {
     "data": {
      "image/png": "[encoded data removed]",
      "text/plain": [
       "<Figure size 432x288 with 2 Axes>"
      ]
     },
     "metadata": {},
     "output_type": "display_data"
    },
    {
     "name": "stdout",
     "output_type": "stream",
     "text": [
      "              precision    recall  f1-score   support\n",
      "\n",
      "       False       0.89      0.85      0.87       558\n",
      "        True       0.85      0.90      0.87       559\n",
      "\n",
      "   micro avg       0.87      0.87      0.87      1117\n",
      "   macro avg       0.87      0.87      0.87      1117\n",
      "weighted avg       0.87      0.87      0.87      1117\n",
      "\n"
     ]
    }
   ],
   "source": [
    "## Graphical visualization\n",
    "cnf_matrix = confusion_matrix(Y_test, predicted_gs)\n",
    "plt.figure()\n",
    "class_names = ['False', 'True']\n",
    "plot_confusion_matrix(cnf_matrix, classes=class_names,\n",
    "                      Y_test = Y_test, predictions = predicted_gs,\n",
    "                      title='Confusion matrix')"
   ]
  },
  {
   "cell_type": "markdown",
   "metadata": {},
   "source": [
    "## AdaBoost Classifier:"
   ]
  },
  {
   "cell_type": "code",
   "execution_count": 22,
   "metadata": {
    "collapsed": true
   },
   "outputs": [],
   "source": [
    "#### AdaBoost\n",
    "text_clf_adb = Pipeline([('vect', CountVectorizer()),\n",
    " ('tfidf', TfidfTransformer()),\n",
    " ('clf-adb', AdaBoostClassifier(learning_rate = 0.8, n_estimators = 170)),\n",
    "])"
   ]
  },
  {
   "cell_type": "code",
   "execution_count": 23,
   "metadata": {},
   "outputs": [],
   "source": [
    "text_clf_adb = text_clf_adb.fit(X_train,Y_train)"
   ]
  },
  {
   "cell_type": "code",
   "execution_count": 24,
   "metadata": {},
   "outputs": [
    {
     "name": "stdout",
     "output_type": "stream",
     "text": [
      "Accuracy: 0.8460161145926589\n",
      "[[472  87]\n",
      " [ 85 473]]\n"
     ]
    }
   ],
   "source": [
    "predicted_adb = text_clf_adb.predict(X_test)\n",
    "accuracy = np.mean(predicted_adb == Y_test)\n",
    "print(\"Accuracy:\", accuracy)\n",
    "cm = confusion_matrix(Y_test, predicted_adb)\n",
    "print(cm)"
   ]
  },
  {
   "cell_type": "code",
   "execution_count": 18,
   "metadata": {},
   "outputs": [
    {
     "name": "stdout",
     "output_type": "stream",
     "text": [
      "Confusion Matrix:\n",
      "[[471  88]\n",
      " [ 85 473]]\n"
     ]
    },
    {
     "data": {
      "image/png": "[encoded data removed]",
      "text/plain": [
       "<Figure size 432x288 with 2 Axes>"
      ]
     },
     "metadata": {},
     "output_type": "display_data"
    },
    {
     "name": "stdout",
     "output_type": "stream",
     "text": [
      "              precision    recall  f1-score   support\n",
      "\n",
      "       False       0.85      0.84      0.84       559\n",
      "        True       0.84      0.85      0.85       558\n",
      "\n",
      "   micro avg       0.85      0.85      0.85      1117\n",
      "   macro avg       0.85      0.85      0.85      1117\n",
      "weighted avg       0.85      0.85      0.85      1117\n",
      "\n"
     ]
    }
   ],
   "source": [
    "## Graphical visualization\n",
    "cnf_matrix = confusion_matrix(Y_test, predicted_adb)\n",
    "plt.figure()\n",
    "class_names = ['False', 'True']\n",
    "plot_confusion_matrix(cnf_matrix, classes=class_names,\n",
    "                      Y_test = Y_test, predictions = predicted_adb,\n",
    "                      title='Confusion matrix')"
   ]
  },
  {
   "cell_type": "markdown",
   "metadata": {},
   "source": [
    "### Gridsearch: AdaBoost"
   ]
  },
  {
   "cell_type": "code",
   "execution_count": 25,
   "metadata": {
    "collapsed": true
   },
   "outputs": [],
   "source": [
    "#### Gridsearch\n",
    "parameters = {'vect__ngram_range': [(1, 1), (1, 2)],\n",
    "#               'tfidf__use_idf': (True, False),\n",
    "              'clf-adb__n_estimators': (140, 160),\n",
    "#               'clf-adb__learning_rate': (0.6, 0.8),\n",
    "    }"
   ]
  },
  {
   "cell_type": "code",
   "execution_count": 404,
   "metadata": {},
   "outputs": [
    {
     "data": {
      "text/plain": [
       "dict_keys(['memory', 'steps', 'vect', 'tfidf', 'clf-adb', 'vect__analyzer', 'vect__binary', 'vect__decode_error', 'vect__dtype', 'vect__encoding', 'vect__input', 'vect__lowercase', 'vect__max_df', 'vect__max_features', 'vect__min_df', 'vect__ngram_range', 'vect__preprocessor', 'vect__stop_words', 'vect__strip_accents', 'vect__token_pattern', 'vect__tokenizer', 'vect__vocabulary', 'tfidf__norm', 'tfidf__smooth_idf', 'tfidf__sublinear_tf', 'tfidf__use_idf', 'clf-adb__algorithm', 'clf-adb__base_estimator', 'clf-adb__learning_rate', 'clf-adb__n_estimators', 'clf-adb__random_state'])"
      ]
     },
     "execution_count": 404,
     "metadata": {},
     "output_type": "execute_result"
    }
   ],
   "source": [
    "text_clf_adb.get_params().keys()"
   ]
  },
  {
   "cell_type": "code",
   "execution_count": 405,
   "metadata": {
    "collapsed": true
   },
   "outputs": [],
   "source": [
    "## Cross-validation and fit\n",
    "gs_clf_adb = GridSearchCV(text_clf_adb, parameters, cv=5)\n",
    "gs_clf_adb = gs_clf_adb.fit(X_train,Y_train)\n",
    "predicted_gs = gs_clf_adb.predict(X_test)\n",
    "accuracy = np.mean(predicted_gs == Y_test)"
   ]
  },
  {
   "cell_type": "code",
   "execution_count": 406,
   "metadata": {},
   "outputs": [
    {
     "name": "stdout",
     "output_type": "stream",
     "text": [
      "Grid search best score: 0.8454230468313401\n",
      "{'clf-adb__learning_rate': 0.8, 'clf-adb__n_estimators': 160, 'vect__ngram_range': (1, 2)}\n",
      "Accuracy: 0.864816472694718\n"
     ]
    }
   ],
   "source": [
    "print(\"Grid search best score:\", gs_clf_adb.best_score_)\n",
    "print(gs_clf_adb.best_params_)\n",
    "print(\"Accuracy:\", accuracy)"
   ]
  },
  {
   "cell_type": "code",
   "execution_count": 407,
   "metadata": {},
   "outputs": [
    {
     "name": "stdout",
     "output_type": "stream",
     "text": [
      "Confusion Matrix:\n",
      "[[490  68]\n",
      " [ 83 476]]\n"
     ]
    },
    {
     "data": {
      "image/png": "[encoded data removed]",
      "text/plain": [
       "<Figure size 432x288 with 2 Axes>"
      ]
     },
     "metadata": {},
     "output_type": "display_data"
    },
    {
     "name": "stdout",
     "output_type": "stream",
     "text": [
      "              precision    recall  f1-score   support\n",
      "\n",
      "       False       0.86      0.88      0.87       558\n",
      "        True       0.88      0.85      0.86       559\n",
      "\n",
      "   micro avg       0.86      0.86      0.86      1117\n",
      "   macro avg       0.87      0.86      0.86      1117\n",
      "weighted avg       0.87      0.86      0.86      1117\n",
      "\n"
     ]
    }
   ],
   "source": [
    "## Graphical visualization\n",
    "cnf_matrix = confusion_matrix(Y_test, predicted_gs)\n",
    "plt.figure()\n",
    "class_names = ['False', 'True']\n",
    "plot_confusion_matrix(cnf_matrix, classes=class_names,\n",
    "                      Y_test = Y_test, predictions = predicted_gs,\n",
    "                      title='Confusion matrix')"
   ]
  },
  {
   "cell_type": "markdown",
   "metadata": {},
   "source": [
    "## Gradient Boosting Classifier:"
   ]
  },
  {
   "cell_type": "code",
   "execution_count": 101,
   "metadata": {
    "collapsed": true
   },
   "outputs": [],
   "source": [
    "#### Gradient Boosting\n",
    "text_clf_gdb = Pipeline([('vect', CountVectorizer()),\n",
    " ('tfidf', TfidfTransformer()),\n",
    " ('clf-gdb', AdaBoostClassifier(learning_rate = 0.9, n_estimators = 100)),\n",
    "])"
   ]
  },
  {
   "cell_type": "code",
   "execution_count": 92,
   "metadata": {},
   "outputs": [],
   "source": [
    "text_clf_gdb = text_clf_gdb.fit(X_train,Y_train)"
   ]
  },
  {
   "cell_type": "code",
   "execution_count": 93,
   "metadata": {},
   "outputs": [
    {
     "name": "stdout",
     "output_type": "stream",
     "text": [
      "Accuracy: 0.8603401969561325\n",
      "[[482  76]\n",
      " [ 80 479]]\n"
     ]
    }
   ],
   "source": [
    "predicted_gdb = text_clf_gdb.predict(X_test)\n",
    "accuracy = np.mean(predicted_gdb == Y_test)\n",
    "print(\"Accuracy:\", accuracy)\n",
    "cm = confusion_matrix(Y_test, predicted_gdb)\n",
    "print(cm)"
   ]
  },
  {
   "cell_type": "code",
   "execution_count": 94,
   "metadata": {},
   "outputs": [
    {
     "name": "stdout",
     "output_type": "stream",
     "text": [
      "Confusion Matrix:\n",
      "[[482  76]\n",
      " [ 80 479]]\n"
     ]
    },
    {
     "data": {
      "image/png": "[encoded data removed]",
      "text/plain": [
       "<Figure size 432x288 with 2 Axes>"
      ]
     },
     "metadata": {},
     "output_type": "display_data"
    },
    {
     "name": "stdout",
     "output_type": "stream",
     "text": [
      "              precision    recall  f1-score   support\n",
      "\n",
      "       False       0.86      0.86      0.86       558\n",
      "        True       0.86      0.86      0.86       559\n",
      "\n",
      "   micro avg       0.86      0.86      0.86      1117\n",
      "   macro avg       0.86      0.86      0.86      1117\n",
      "weighted avg       0.86      0.86      0.86      1117\n",
      "\n"
     ]
    }
   ],
   "source": [
    "## Graphical visualization\n",
    "cnf_matrix = confusion_matrix(Y_test, predicted_gdb)\n",
    "plt.figure()\n",
    "class_names = ['False', 'True']\n",
    "plot_confusion_matrix(cnf_matrix, classes=class_names,\n",
    "                      Y_test = Y_test, predictions = predicted_gdb,\n",
    "                      title='Confusion matrix')"
   ]
  },
  {
   "cell_type": "markdown",
   "metadata": {},
   "source": [
    "### Gridsearch: AdaBoost"
   ]
  },
  {
   "cell_type": "code",
   "execution_count": 100,
   "metadata": {
    "collapsed": true
   },
   "outputs": [],
   "source": [
    "#### Gridsearch\n",
    "parameters = {'vect__ngram_range': [(1, 1), (1, 2)],\n",
    "#               'tfidf__use_idf': (True, False),\n",
    "              'clf-gdb__n_estimators': (100, 150),\n",
    "#               'clf-adb__learning_rate': (0.7, 0.9),\n",
    "    }"
   ]
  },
  {
   "cell_type": "code",
   "execution_count": 96,
   "metadata": {},
   "outputs": [
    {
     "data": {
      "text/plain": [
       "dict_keys(['memory', 'steps', 'vect', 'tfidf', 'clf-gdb', 'vect__analyzer', 'vect__binary', 'vect__decode_error', 'vect__dtype', 'vect__encoding', 'vect__input', 'vect__lowercase', 'vect__max_df', 'vect__max_features', 'vect__min_df', 'vect__ngram_range', 'vect__preprocessor', 'vect__stop_words', 'vect__strip_accents', 'vect__token_pattern', 'vect__tokenizer', 'vect__vocabulary', 'tfidf__norm', 'tfidf__smooth_idf', 'tfidf__sublinear_tf', 'tfidf__use_idf', 'clf-gdb__algorithm', 'clf-gdb__base_estimator', 'clf-gdb__learning_rate', 'clf-gdb__n_estimators', 'clf-gdb__random_state'])"
      ]
     },
     "execution_count": 96,
     "metadata": {},
     "output_type": "execute_result"
    }
   ],
   "source": [
    "text_clf_gdb.get_params().keys() a b c ab bc"
   ]
  },
  {
   "cell_type": "code",
   "execution_count": 97,
   "metadata": {
    "collapsed": true
   },
   "outputs": [],
   "source": [
    "## Cross-validation and fit\n",
    "gs_clf_gdb = GridSearchCV(text_clf_gdb, parameters, cv=5)\n",
    "gs_clf_gdb = gs_clf_gdb.fit(X_train,Y_train)\n",
    "predicted_gs = gs_clf_gdb.predict(X_test)\n",
    "accuracy = np.mean(predicted_gs == Y_test)"
   ]
  },
  {
   "cell_type": "code",
   "execution_count": 98,
   "metadata": {},
   "outputs": [
    {
     "name": "stdout",
     "output_type": "stream",
     "text": [
      "Grid search best score: 0.8411758131217167\n",
      "{'clf-gdb__n_estimators': 150, 'vect__ngram_range': (1, 2)}\n",
      "Accuracy: 0.8594449418084154\n"
     ]
    }
   ],
   "source": [
    "print(\"Grid search best score:\", gs_clf_gdb.best_score_)\n",
    "print(gs_clf_gdb.best_params_)\n",
    "print(\"Accuracy:\", accuracy)"
   ]
  },
  {
   "cell_type": "code",
   "execution_count": 99,
   "metadata": {},
   "outputs": [
    {
     "name": "stdout",
     "output_type": "stream",
     "text": [
      "Confusion Matrix:\n",
      "[[487  71]\n",
      " [ 86 473]]\n"
     ]
    },
    {
     "data": {
      "image/png": "[encoded data removed]",
      "text/plain": [
       "<Figure size 432x288 with 2 Axes>"
      ]
     },
     "metadata": {},
     "output_type": "display_data"
    },
    {
     "name": "stdout",
     "output_type": "stream",
     "text": [
      "              precision    recall  f1-score   support\n",
      "\n",
      "       False       0.85      0.87      0.86       558\n",
      "        True       0.87      0.85      0.86       559\n",
      "\n",
      "   micro avg       0.86      0.86      0.86      1117\n",
      "   macro avg       0.86      0.86      0.86      1117\n",
      "weighted avg       0.86      0.86      0.86      1117\n",
      "\n"
     ]
    }
   ],
   "source": [
    "## Graphical visualization\n",
    "cnf_matrix = confusion_matrix(Y_test, predicted_gs)\n",
    "plt.figure()\n",
    "class_names = ['False', 'True']\n",
    "plot_confusion_matrix(cnf_matrix, classes=class_names,\n",
    "                      Y_test = Y_test, predictions = predicted_gs,\n",
    "                      title='Confusion matrix')"
   ]
  },
  {
   "cell_type": "markdown",
   "metadata": {},
   "source": [
    "## Support Vector Machine classifier:"
   ]
  },
  {
   "cell_type": "code",
   "execution_count": 172,
   "metadata": {
    "collapsed": true
   },
   "outputs": [],
   "source": [
    "#### Support Vector Machine\n",
    "text_clf_svm = Pipeline([('vect', CountVectorizer()),\n",
    "                         ('tfidf', TfidfTransformer()),\n",
    "                         ('clf-svm', SVC(C=1.0, kernel='linear')), \n",
    "                    ])"
   ]
  },
  {
   "cell_type": "code",
   "execution_count": 282,
   "metadata": {
    "collapsed": true
   },
   "outputs": [],
   "source": [
    "text_clf_svm = text_clf_svm.fit(X_train,Y_train)"
   ]
  },
  {
   "cell_type": "code",
   "execution_count": 283,
   "metadata": {},
   "outputs": [
    {
     "name": "stdout",
     "output_type": "stream",
     "text": [
      "Accuracy: 0.7269471799462847\n",
      "[[397 162]\n",
      " [143 415]]\n"
     ]
    }
   ],
   "source": [
    "predicted_svm = text_clf_svm.predict(X_test)\n",
    "accuracy = np.mean(predicted_svm == Y_test)\n",
    "print(\"Accuracy:\", accuracy)\n",
    "cm = confusion_matrix(Y_test, predicted_svm)\n",
    "print(cm)"
   ]
  },
  {
   "cell_type": "code",
   "execution_count": 284,
   "metadata": {},
   "outputs": [
    {
     "name": "stdout",
     "output_type": "stream",
     "text": [
      "Confusion Matrix:\n",
      "[[367 192]\n",
      " [135 423]]\n"
     ]
    },
    {
     "data": {
      "image/png": "[encoded data removed]",
      "text/plain": [
       "<Figure size 432x288 with 2 Axes>"
      ]
     },
     "metadata": {},
     "output_type": "display_data"
    },
    {
     "name": "stdout",
     "output_type": "stream",
     "text": [
      "              precision    recall  f1-score   support\n",
      "\n",
      "       False       0.74      0.71      0.72       559\n",
      "        True       0.72      0.74      0.73       558\n",
      "\n",
      "   micro avg       0.73      0.73      0.73      1117\n",
      "   macro avg       0.73      0.73      0.73      1117\n",
      "weighted avg       0.73      0.73      0.73      1117\n",
      "\n"
     ]
    }
   ],
   "source": [
    "## Graphical visualization\n",
    "cnf_matrix = confusion_matrix(Y_test, predicted_svm)\n",
    "plt.figure()\n",
    "class_names = ['False', 'True']\n",
    "plot_confusion_matrix(cnf_matrix, classes=class_names,\n",
    "                      Y_test = Y_test, predictions = predicted_svm,\n",
    "                      title='Confusion matrix')"
   ]
  },
  {
   "cell_type": "markdown",
   "metadata": {},
   "source": [
    "### Gridsearch: Support Vector Machine"
   ]
  },
  {
   "cell_type": "code",
   "execution_count": 197,
   "metadata": {
    "collapsed": true
   },
   "outputs": [],
   "source": [
    "#### Gridsearch\n",
    "## To save time, do sigmoid with degree separately from other kernels\n",
    "parameters = {'vect__ngram_range': [(1, 1), (1, 2)],\n",
    "              #'tfidf__use_idf': (True, False),\n",
    "              'clf-svm__C': (10, 1, 1e-1),\n",
    "    }"
   ]
  },
  {
   "cell_type": "code",
   "execution_count": 40,
   "metadata": {},
   "outputs": [
    {
     "data": {
      "text/plain": [
       "dict_keys(['memory', 'steps', 'vect', 'tfidf', 'clf-svm', 'vect__analyzer', 'vect__binary', 'vect__decode_error', 'vect__dtype', 'vect__encoding', 'vect__input', 'vect__lowercase', 'vect__max_df', 'vect__max_features', 'vect__min_df', 'vect__ngram_range', 'vect__preprocessor', 'vect__stop_words', 'vect__strip_accents', 'vect__token_pattern', 'vect__tokenizer', 'vect__vocabulary', 'tfidf__norm', 'tfidf__smooth_idf', 'tfidf__sublinear_tf', 'tfidf__use_idf', 'clf-svm__C', 'clf-svm__cache_size', 'clf-svm__class_weight', 'clf-svm__coef0', 'clf-svm__decision_function_shape', 'clf-svm__degree', 'clf-svm__gamma', 'clf-svm__kernel', 'clf-svm__max_iter', 'clf-svm__probability', 'clf-svm__random_state', 'clf-svm__shrinking', 'clf-svm__tol', 'clf-svm__verbose'])"
      ]
     },
     "execution_count": 40,
     "metadata": {},
     "output_type": "execute_result"
    }
   ],
   "source": [
    "text_clf_svm.get_params().keys()"
   ]
  },
  {
   "cell_type": "code",
   "execution_count": 41,
   "metadata": {
    "collapsed": true
   },
   "outputs": [],
   "source": [
    "## Cross-validation and fit\n",
    "gs_clf_svm = GridSearchCV(text_clf_svm, parameters, cv=5, n_jobs=-1)\n",
    "gs_clf_svm = gs_clf_svm.fit(X_train,Y_train)\n",
    "predicted_gs = gs_clf_svm.predict(X_test)\n",
    "accuracy = np.mean(predicted_gs == Y_test)"
   ]
  },
  {
   "cell_type": "code",
   "execution_count": 42,
   "metadata": {},
   "outputs": [
    {
     "name": "stdout",
     "output_type": "stream",
     "text": [
      "Grid search best score: 0.7998536406878888\n",
      "{'clf-svm__C': 1, 'vect__ngram_range': (1, 2)}\n",
      "Accuracy: 0.8388157894736842\n"
     ]
    }
   ],
   "source": [
    "print(\"Grid search best score:\", gs_clf.best_score_)\n",
    "print(gs_clf.best_params_)\n",
    "print(\"Accuracy:\", accuracy)"
   ]
  },
  {
   "cell_type": "code",
   "execution_count": 43,
   "metadata": {},
   "outputs": [
    {
     "name": "stdout",
     "output_type": "stream",
     "text": [
      "Confusion Matrix:\n",
      "[[132  27]\n",
      " [ 22 123]]\n"
     ]
    },
    {
     "data": {
      "image/png": "[encoded data removed]",
      "text/plain": [
       "<Figure size 432x288 with 2 Axes>"
      ]
     },
     "metadata": {},
     "output_type": "display_data"
    },
    {
     "name": "stdout",
     "output_type": "stream",
     "text": [
      "              precision    recall  f1-score   support\n",
      "\n",
      "       False       0.86      0.83      0.84       159\n",
      "        True       0.82      0.85      0.83       145\n",
      "\n",
      "   micro avg       0.84      0.84      0.84       304\n",
      "   macro avg       0.84      0.84      0.84       304\n",
      "weighted avg       0.84      0.84      0.84       304\n",
      "\n"
     ]
    }
   ],
   "source": [
    "## Graphical visualization\n",
    "cnf_matrix = confusion_matrix(Y_test, predicted_gs)\n",
    "plt.figure()\n",
    "class_names = ['False', 'True']\n",
    "plot_confusion_matrix(cnf_matrix, classes=class_names,\n",
    "                      Y_test = Y_test, predictions = predicted_gs,\n",
    "                      title='Confusion matrix')"
   ]
  },
  {
   "cell_type": "markdown",
   "metadata": {},
   "source": [
    "## Stochastic Gradient Decent (SVM) classifier:"
   ]
  },
  {
   "cell_type": "code",
   "execution_count": 173,
   "metadata": {
    "collapsed": true
   },
   "outputs": [],
   "source": [
    "#### Stochastic Gradient Descent (SVM hinge loss) !!! STEMMING REDUCES 2% !!!\n",
    "text_clf_sgd = Pipeline([('vect', CountVectorizer()),\n",
    "                         ('tfidf', TfidfTransformer()),\n",
    "                         ('clf-sgd', SGDClassifier(loss='hinge', # modified_huber\n",
    "                                                  penalty='l2',\n",
    "                                                  max_iter=5,\n",
    "                                                  random_state=42)), \n",
    "                    ])"
   ]
  },
  {
   "cell_type": "code",
   "execution_count": 286,
   "metadata": {},
   "outputs": [
    {
     "name": "stderr",
     "output_type": "stream",
     "text": [
      "C:\\Users\\Gabri\\Anaconda3\\lib\\site-packages\\sklearn\\linear_model\\stochastic_gradient.py:183: FutureWarning: max_iter and tol parameters have been added in SGDClassifier in 0.19. If max_iter is set but tol is left unset, the default value for tol in 0.19 and 0.20 will be None (which is equivalent to -infinity, so it has no effect) but will change in 0.21 to 1e-3. Specify tol to silence this warning.\n",
      "  FutureWarning)\n"
     ]
    }
   ],
   "source": [
    "_ = text_clf_sgd.fit(X_train,Y_train)"
   ]
  },
  {
   "cell_type": "code",
   "execution_count": 287,
   "metadata": {},
   "outputs": [
    {
     "name": "stdout",
     "output_type": "stream",
     "text": [
      "Accuracy: 0.7224709042076992\n"
     ]
    }
   ],
   "source": [
    "predicted_sgd = text_clf_sgd.predict(X_test)\n",
    "accuracy = np.mean(predicted_sgd == Y_test)\n",
    "print(\"Accuracy:\", accuracy)"
   ]
  },
  {
   "cell_type": "code",
   "execution_count": 288,
   "metadata": {},
   "outputs": [
    {
     "name": "stdout",
     "output_type": "stream",
     "text": [
      "Confusion Matrix:\n",
      "[[458 101]\n",
      " [209 349]]\n"
     ]
    },
    {
     "data": {
      "image/png": "[encoded data removed]",
      "text/plain": [
       "<Figure size 432x288 with 2 Axes>"
      ]
     },
     "metadata": {},
     "output_type": "display_data"
    },
    {
     "name": "stdout",
     "output_type": "stream",
     "text": [
      "              precision    recall  f1-score   support\n",
      "\n",
      "       False       0.69      0.82      0.75       559\n",
      "        True       0.78      0.63      0.69       558\n",
      "\n",
      "   micro avg       0.72      0.72      0.72      1117\n",
      "   macro avg       0.73      0.72      0.72      1117\n",
      "weighted avg       0.73      0.72      0.72      1117\n",
      "\n"
     ]
    }
   ],
   "source": [
    "## Graphical visualization\n",
    "cnf_matrix = confusion_matrix(Y_test, predicted_sgd)\n",
    "plt.figure()\n",
    "class_names = ['False', 'True']\n",
    "plot_confusion_matrix(cnf_matrix, classes=class_names,\n",
    "                      Y_test = Y_test, predictions = predicted_sgd,\n",
    "                      title='Confusion matrix')"
   ]
  },
  {
   "cell_type": "markdown",
   "metadata": {},
   "source": [
    "### Gridsearch: Stochastic Gradient Descent"
   ]
  },
  {
   "cell_type": "code",
   "execution_count": 198,
   "metadata": {
    "collapsed": true
   },
   "outputs": [],
   "source": [
    "#### Gridsearch\n",
    "parameters = {'vect__ngram_range': [(1, 1), (1, 2)],\n",
    "#               'tfidf__use_idf': (True, False),\n",
    "              'clf-sgd__alpha': (1e-2, 1e-3, 1e-4),\n",
    "              'clf-sgd__l1_ratio': (0, 0.15, 1)\n",
    "              #'clf-sgd__learning_rate': (1, 1e-1, 1e-2, 1e-3, 1e-4),\n",
    "    }"
   ]
  },
  {
   "cell_type": "code",
   "execution_count": 49,
   "metadata": {},
   "outputs": [
    {
     "data": {
      "text/plain": [
       "dict_keys(['memory', 'steps', 'vect', 'tfidf', 'clf-sgd', 'vect__analyzer', 'vect__binary', 'vect__decode_error', 'vect__dtype', 'vect__encoding', 'vect__input', 'vect__lowercase', 'vect__max_df', 'vect__max_features', 'vect__min_df', 'vect__ngram_range', 'vect__preprocessor', 'vect__stop_words', 'vect__strip_accents', 'vect__token_pattern', 'vect__tokenizer', 'vect__vocabulary', 'tfidf__norm', 'tfidf__smooth_idf', 'tfidf__sublinear_tf', 'tfidf__use_idf', 'clf-sgd__alpha', 'clf-sgd__average', 'clf-sgd__class_weight', 'clf-sgd__early_stopping', 'clf-sgd__epsilon', 'clf-sgd__eta0', 'clf-sgd__fit_intercept', 'clf-sgd__l1_ratio', 'clf-sgd__learning_rate', 'clf-sgd__loss', 'clf-sgd__max_iter', 'clf-sgd__n_iter', 'clf-sgd__n_iter_no_change', 'clf-sgd__n_jobs', 'clf-sgd__penalty', 'clf-sgd__power_t', 'clf-sgd__random_state', 'clf-sgd__shuffle', 'clf-sgd__tol', 'clf-sgd__validation_fraction', 'clf-sgd__verbose', 'clf-sgd__warm_start'])"
      ]
     },
     "execution_count": 49,
     "metadata": {},
     "output_type": "execute_result"
    }
   ],
   "source": [
    "text_clf_sgd.get_params().keys()"
   ]
  },
  {
   "cell_type": "code",
   "execution_count": 50,
   "metadata": {},
   "outputs": [
    {
     "name": "stderr",
     "output_type": "stream",
     "text": [
      "C:\\Users\\Gabri\\Anaconda3\\lib\\site-packages\\sklearn\\linear_model\\stochastic_gradient.py:183: FutureWarning: max_iter and tol parameters have been added in SGDClassifier in 0.19. If max_iter is set but tol is left unset, the default value for tol in 0.19 and 0.20 will be None (which is equivalent to -infinity, so it has no effect) but will change in 0.21 to 1e-3. Specify tol to silence this warning.\n",
      "  FutureWarning)\n"
     ]
    }
   ],
   "source": [
    "## Cross-validation and fit\n",
    "gs_clf_sgd = GridSearchCV(text_clf_sgd, parameters, cv=5)\n",
    "gs_clf_sgd = gs_clf_sgd.fit(X_train,Y_train)\n",
    "predicted_gs = gs_clf_sgd.predict(X_test)\n",
    "accuracy = np.mean(predicted_gs == Y_test)"
   ]
  },
  {
   "cell_type": "code",
   "execution_count": 51,
   "metadata": {},
   "outputs": [
    {
     "name": "stdout",
     "output_type": "stream",
     "text": [
      "Grid search best score: 0.8024149286498353\n",
      "{'clf-sgd__alpha': 0.001, 'clf-sgd__l1_ratio': 0, 'vect__ngram_range': (1, 2)}\n",
      "Accuracy: 0.8651315789473685\n"
     ]
    }
   ],
   "source": [
    "print(\"Grid search best score:\", gs_clf.best_score_)\n",
    "print(gs_clf.best_params_)\n",
    "print(\"Accuracy:\", accuracy)"
   ]
  },
  {
   "cell_type": "code",
   "execution_count": 52,
   "metadata": {},
   "outputs": [
    {
     "name": "stdout",
     "output_type": "stream",
     "text": [
      "Confusion Matrix:\n",
      "[[138  21]\n",
      " [ 20 125]]\n"
     ]
    },
    {
     "data": {
      "image/png": "[encoded data removed]",
      "text/plain": [
       "<Figure size 432x288 with 2 Axes>"
      ]
     },
     "metadata": {},
     "output_type": "display_data"
    },
    {
     "name": "stdout",
     "output_type": "stream",
     "text": [
      "              precision    recall  f1-score   support\n",
      "\n",
      "       False       0.87      0.87      0.87       159\n",
      "        True       0.86      0.86      0.86       145\n",
      "\n",
      "   micro avg       0.87      0.87      0.87       304\n",
      "   macro avg       0.86      0.86      0.86       304\n",
      "weighted avg       0.87      0.87      0.87       304\n",
      "\n"
     ]
    }
   ],
   "source": [
    "## Graphical visualization\n",
    "cnf_matrix = confusion_matrix(Y_test, predicted_gs)\n",
    "plt.figure()\n",
    "class_names = ['False', 'True']\n",
    "plot_confusion_matrix(cnf_matrix, classes=class_names,\n",
    "                      Y_test = Y_test, predictions = predicted_gs,\n",
    "                      title='Confusion matrix')"
   ]
  },
  {
   "cell_type": "markdown",
   "metadata": {},
   "source": [
    "## Classifier Sample Generator"
   ]
  },
  {
   "cell_type": "code",
   "execution_count": 102,
   "metadata": {},
   "outputs": [
    {
     "name": "stdout",
     "output_type": "stream",
     "text": [
      "On round: 5\n",
      "On round: 10\n",
      "On round: 15\n",
      "On round: 20\n",
      "On round: 25\n",
      "On round: 30\n"
     ]
    }
   ],
   "source": [
    "#### Collect f1-scores of the 30 train/test splits of the dataset\n",
    "# classifiers = [text_clf_log, text_clf_rfc, text_clf_mnb, text_clf_svm, text_clf_sgd] # No gridsearch\n",
    "classifiers = [gs_clf_log, gs_clf_rfc, gs_clf_mnb, gs_clf_svm, gs_clf_sgd, gs_clf_adb, gs_clf_gdb] # With gridsearch\n",
    "classifier_names = [\"Log\", \"RF\", \"MNB\", \"SVM\", \"SGD\", \"ADB\", \"GDB\"]\n",
    "# classifiers = [gs_clf_gdb] # With gridsearch\n",
    "# classifier_names = [\"GDB\"]\n",
    "all_classifier_f1scores = []\n",
    "for i in range(len(classifiers)):\n",
    "    classifier_f1scores = []\n",
    "    model = classifiers[i]\n",
    "    for j in range(1, 31):\n",
    "        if (j % 5 == 0):\n",
    "            print(\"On round:\", j)\n",
    "        # Retrieve dataset and split the data into train-validation-test splits of approximately 80-10-10%\n",
    "        stratified_file = \"problems_expertiza_randomized_fullsplit\" + str(j) + \".csv\"\n",
    "        df = pd.read_csv(stratified_file, engine = 'python');\n",
    "        X_train = df[\"REVIEW\"][:8947]\n",
    "        X_val = df[\"REVIEW\"][8947:10053]\n",
    "        X_test = df[\"REVIEW\"][10053:]\n",
    "        Y_train = df[\"TAG\"][:8947]\n",
    "        Y_val = df[\"TAG\"][8947:10053]\n",
    "        Y_test = df[\"TAG\"][10053:]\n",
    "        # Train and test a classifier to get its performance\n",
    "        model = model.fit(X_train,Y_train)\n",
    "        predicted = model.predict(X_test)\n",
    "        # Retreive the f1-score metric and append this to the list of obtained classifier scores\n",
    "        rep = classification_report(Y_test, predicted, target_names = class_names, output_dict = True)\n",
    "        f1score = rep['weighted avg']['f1-score']\n",
    "        classifier_f1scores.append(f1score)\n",
    "    # Save classifier results and add it to the list of classifiers results\n",
    "    pickle.dump(classifier_f1scores, open(classifier_names[i] + \"_f1scores_OTHER\", \"wb\"))\n",
    "    all_classifier_f1scores.append(classifier_f1scores)"
   ]
  },
  {
   "cell_type": "markdown",
   "metadata": {},
   "source": [
    "### Boxplot Visualization and Summary Statistics"
   ]
  },
  {
   "cell_type": "code",
   "execution_count": 107,
   "metadata": {
    "collapsed": true
   },
   "outputs": [],
   "source": [
    "read_in = False\n",
    "def load_classifier_f1scores():\n",
    "    all_classifier_f1scores = []\n",
    "    classifier_names = [\"Log\", \"RF\", \"MNB\", \"SVM\", \"SGD\", \"ADB\", \"GDB\"]\n",
    "    for name in classifier_names:\n",
    "        classifier_f1scores = pickle.load(open(name + \"_f1scores\", \"rb\"))\n",
    "        all_classifier_f1scores.append(classifier_f1scores)\n",
    "    return all_classifier_f1scores\n",
    "if(read_in):\n",
    "    all_classifier_f1scores = load_classifier_f1scores()"
   ]
  },
  {
   "cell_type": "code",
   "execution_count": 119,
   "metadata": {},
   "outputs": [],
   "source": [
    "## Sorting (manually) classifiers by median f1-score\n",
    "cn = classifier_names\n",
    "classifier_names = [cn[1], cn[2], cn[6], cn[5], cn[0], cn[4], cn[3]]\n",
    "acl = all_classifier_f1scores\n",
    "all_classifier_f1scores = [acl[1], acl[2], acl[6], acl[5], acl[0], acl[4], acl[3]]"
   ]
  },
  {
   "cell_type": "code",
   "execution_count": 120,
   "metadata": {},
   "outputs": [
    {
     "name": "stderr",
     "output_type": "stream",
     "text": [
      "C:\\Users\\Gabri\\Anaconda3\\lib\\site-packages\\seaborn\\categorical.py:462: FutureWarning: remove_na is deprecated and is a private function. Do not use.\n",
      "  box_data = remove_na(group_data)\n"
     ]
    },
    {
     "data": {
      "text/plain": [
       "<Figure size 432x288 with 0 Axes>"
      ]
     },
     "metadata": {},
     "output_type": "display_data"
    },
    {
     "data": {
      "image/png": "[encoded data removed]",
      "text/plain": [
       "<Figure size 432x288 with 1 Axes>"
      ]
     },
     "metadata": {},
     "output_type": "display_data"
    }
   ],
   "source": [
    "## Graphical Visualization of f1-scores for classifiers\n",
    "stats_df = pd.DataFrame(all_classifier_f1scores)\n",
    "stats_df = stats_df.transpose()\n",
    "stats_df.columns = classifier_names\n",
    "plt.clf()\n",
    "fig1, ax1 = plt.subplots()\n",
    "ax1.set_title(\"Classifier F1-scores\")\n",
    "sns.boxplot(x=\"variable\", y=\"value\", data=pd.melt(stats_df))\n",
    "plt.xlabel(\"Classifiers\")\n",
    "plt.ylabel(\"F1-scores\")\n",
    "plt.show()"
   ]
  },
  {
   "cell_type": "code",
   "execution_count": 121,
   "metadata": {},
   "outputs": [
    {
     "name": "stdout",
     "output_type": "stream",
     "text": [
      "           RF     MNB     GDB     ADB     Log     SGD     SVM\n",
      "count  30.000  30.000  30.000  30.000  30.000  30.000  30.000\n",
      "mean    0.770   0.844   0.844   0.847   0.877   0.880   0.881\n",
      "std     0.015   0.011   0.012   0.012   0.010   0.009   0.009\n",
      "min     0.733   0.826   0.812   0.816   0.864   0.861   0.869\n",
      "25%     0.763   0.839   0.838   0.842   0.870   0.875   0.874\n",
      "50%     0.772   0.842   0.843   0.847   0.875   0.880   0.880\n",
      "75%     0.778   0.850   0.851   0.853   0.882   0.886   0.886\n",
      "max     0.808   0.871   0.872   0.873   0.905   0.896   0.902\n"
     ]
    }
   ],
   "source": [
    "## Summary Statistics\n",
    "summary_stats = (stats_df.describe())\n",
    "print(round(summary_stats, 3))\n",
    "# summary_stats[\"GDB\"][\"mean\"]"
   ]
  },
  {
   "cell_type": "markdown",
   "metadata": {},
   "source": [
    "## Neural Network Setup"
   ]
  },
  {
   "cell_type": "markdown",
   "metadata": {},
   "source": [
    "#### Create a numeric version of this text data set if not present (uncomment below if to do so). Also determines length of vocabulary to use for embedding layer size:"
   ]
  },
  {
   "cell_type": "code",
   "execution_count": 66,
   "metadata": {
    "collapsed": true
   },
   "outputs": [],
   "source": [
    "# Create the word mappings\n",
    "def bagofwords():\n",
    "    num_data = len(df)\n",
    "    a = []\n",
    "    loop = 0\n",
    "    for loop in range(num_data):\n",
    "        if (loop % 50000 == 0): # For larger datasets\n",
    "            print(\"Update:\", loop) # Check spot in dictionary creator\n",
    "        comment = df[data_col][loop]\n",
    "        sentTok = nltk.sent_tokenize(comment)\n",
    "        for sentence in sentTok:\n",
    "            a.append(sentence)    \n",
    "    a = (' '.join(a)).lower()\n",
    "    text = nltk.word_tokenize(a)\n",
    "    newset = set()\n",
    "    for word in text:\n",
    "        newset.add(word)\n",
    "    # Fill in found words\n",
    "    word_to_ix = { w:(i+4) for i,w in enumerate(sorted(newset)) }\n",
    "    ix_to_word = { (i+4):w for i,w in enumerate(sorted(newset)) }\n",
    "    # Fill in reserved values\n",
    "    ix_to_word[0] = \"<PAD>\"\n",
    "    ix_to_word[1] = \"<START>\"\n",
    "    ix_to_word[2] = \"<UNK>\"\n",
    "    ix_to_word[3] = \"<UNUSED>\"\n",
    "    word_to_ix[\"<PAD>\"] = 0 # Used to equalize text length\n",
    "    word_to_ix[\"<START>\"] = 1\n",
    "    word_to_ix[\"<UNK>\"] = 2  # unknown value\n",
    "    word_to_ix[\"<UNUSED>\"] = 3\n",
    "    return word_to_ix, ix_to_word"
   ]
  },
  {
   "cell_type": "code",
   "execution_count": 67,
   "metadata": {},
   "outputs": [
    {
     "name": "stdout",
     "output_type": "stream",
     "text": [
      "Update: 0\n",
      "Size of vocabulary: 6082\n"
     ]
    }
   ],
   "source": [
    "word_to_ix, ix_to_word = bagofwords()\n",
    "# print(ix_to_word[3853])\n",
    "# print(word_to_ix[\"please\"]) # Ensure word is in dictionary\n",
    "print(\"Size of vocabulary:\", len(ix_to_word))"
   ]
  },
  {
   "cell_type": "markdown",
   "metadata": {},
   "source": [
    "##### An update text will be printed in order to keep track of the conversion process."
   ]
  },
  {
   "cell_type": "code",
   "execution_count": 68,
   "metadata": {},
   "outputs": [
    {
     "name": "stdout",
     "output_type": "stream",
     "text": [
      "Total to print: 3037\n",
      "Update: 0\n"
     ]
    }
   ],
   "source": [
    "## Convert original data to number representations\n",
    "if (re_read == 1):\n",
    "    num_data = len(df)\n",
    "    loop = 0\n",
    "    converted_text_data = []\n",
    "    print(\"Total to print:\", num_data)\n",
    "    for loop in range(num_data):\n",
    "        if (loop % 50000 == 0): # For larger datasets\n",
    "            print(\"Update:\", loop) # Check spot in converter\n",
    "        comment = df[data_col][loop]\n",
    "        if isinstance(comment, str) == False: # Skip missing text from dataset if present\n",
    "            continue\n",
    "        comment = comment.lower()\n",
    "        text = nltk.word_tokenize(comment)\n",
    "        length = len(text)\n",
    "        i = 0\n",
    "        for i in range(length):\n",
    "            try:\n",
    "                text[i] = word_to_ix[text[i]]\n",
    "            except KeyError:\n",
    "                text[i] = 2 # Unknown mapping\n",
    "        text = [int(i) for i in text]\n",
    "        converted_text_data.append(text)"
   ]
  },
  {
   "cell_type": "code",
   "execution_count": 69,
   "metadata": {},
   "outputs": [
    {
     "name": "stdout",
     "output_type": "stream",
     "text": [
      "Update: 0\n"
     ]
    }
   ],
   "source": [
    "if (re_read == 1):\n",
    "    with open(file_out, 'w', newline = '') as f:\n",
    "        writer = csv.writer(f)\n",
    "        writer.writerow([data_col, label_col])\n",
    "        i = 0\n",
    "        for i in range(num_data):\n",
    "            if (i % 50000 == 0): # For larger datasets\n",
    "                print(\"Update:\", i) # Check spot in converter\n",
    "            rev = converted_text_data[i]\n",
    "            label = df[label_col][i]\n",
    "            ### Below tow lines are optional\n",
    "#             if (label != 1):\n",
    "#                 label = 0\n",
    "            writer.writerow([rev, label])"
   ]
  },
  {
   "cell_type": "code",
   "execution_count": 70,
   "metadata": {},
   "outputs": [
    {
     "name": "stdout",
     "output_type": "stream",
     "text": [
      "3037\n",
      "3037\n"
     ]
    }
   ],
   "source": [
    "if (re_read == 1):\n",
    "    print(len(df))\n",
    "    print(len(converted_text_data))"
   ]
  },
  {
   "cell_type": "markdown",
   "metadata": {},
   "source": [
    "#### Read in the converted text to number dataset, shuffle data, and run the classifier:"
   ]
  },
  {
   "cell_type": "code",
   "execution_count": 71,
   "metadata": {},
   "outputs": [
    {
     "name": "stdout",
     "output_type": "stream",
     "text": [
      "problems_expertiza_balanced_spring2019_converted.csv\n",
      "REVIEW    object\n",
      "TAG        int64\n",
      "dtype: object\n",
      "Sample size: 3037\n"
     ]
    }
   ],
   "source": [
    "df = pd.read_csv(file_out, engine = 'python');\n",
    "print(file_out)\n",
    "print(df.dtypes)\n",
    "np.random.seed(42) # Keep permutation assortment the same\n",
    "df = df.iloc[np.random.permutation(len(df))]\n",
    "df = df.reset_index(drop=True)\n",
    "print(\"Sample size:\", len(df))"
   ]
  },
  {
   "cell_type": "code",
   "execution_count": 72,
   "metadata": {},
   "outputs": [
    {
     "name": "stdout",
     "output_type": "stream",
     "text": [
      "Dataset length: 3037\n"
     ]
    }
   ],
   "source": [
    "## Parses the integer list data from file into a proper integer list for the classifier\n",
    "full_data = []\n",
    "for dat in df[data_col]:\n",
    "    paragraph = []\n",
    "    sentence = []\n",
    "    for letter in dat:\n",
    "        if (letter == '[' or letter == ']' or letter == ' '):\n",
    "            continue\n",
    "        elif (letter == ','):\n",
    "            sentence = (''.join(sentence))\n",
    "            paragraph.append(sentence)\n",
    "            sentence = []\n",
    "        else:\n",
    "            sentence.append(letter)\n",
    "    paragraph = [int(i) for i in paragraph]\n",
    "    full_data.append(paragraph)\n",
    "print(\"Dataset length:\", len(full_data))"
   ]
  },
  {
   "cell_type": "code",
   "execution_count": 73,
   "metadata": {},
   "outputs": [
    {
     "name": "stdout",
     "output_type": "stream",
     "text": [
      "Number train data: 2733\n",
      "Number test data: 304\n"
     ]
    }
   ],
   "source": [
    "## Initialize train and test data, train and test labels\n",
    "num_data = len(df)\n",
    "num_train = int(num_data * 0.9) # df.head this amount\n",
    "num_test = int(num_data - num_train) # df.tail this amount\n",
    "train_data = full_data[:num_train]\n",
    "test_data = full_data[num_train:]\n",
    "train_labels = df[label_col].head(num_train) # is_prompt_exists\n",
    "test_labels = df[label_col].tail(num_test)\n",
    "print(\"Number train data:\", len(train_data))\n",
    "print(\"Number test data:\", len(test_data))"
   ]
  },
  {
   "cell_type": "code",
   "execution_count": 74,
   "metadata": {},
   "outputs": [
    {
     "name": "stdout",
     "output_type": "stream",
     "text": [
      "Max text length: 1176\n",
      "Average text length: 45.90253539677313\n",
      "Median text length: 30.0\n"
     ]
    }
   ],
   "source": [
    "## Find the maximum sentence length to use for padding training data\n",
    "maxlength = 0\n",
    "data_lengths = []\n",
    "for i in range(len(full_data)):\n",
    "    data_lengths.append(len(full_data[i]))\n",
    "    maxlength = max(len(full_data[i]), maxlength)\n",
    "#     if maxlength > 4000:\n",
    "#         print(i)\n",
    "print(\"Max text length:\", maxlength)\n",
    "print(\"Average text length:\", np.average(data_lengths))\n",
    "print(\"Median text length:\", np.median(data_lengths))"
   ]
  },
  {
   "cell_type": "code",
   "execution_count": 78,
   "metadata": {},
   "outputs": [
    {
     "name": "stdout",
     "output_type": "stream",
     "text": [
      "3037\n",
      "19\n"
     ]
    }
   ],
   "source": [
    "numabove = 0\n",
    "for i in range(len(data_lengths)):\n",
    "    if (data_lengths[i] > 500):\n",
    "        numabove = numabove + 1\n",
    "print(len(data_lengths))\n",
    "print(numabove)\n",
    "maxlengths = 35 # Create a function later to determine based on proportion\n",
    "# maxlength = 201"
   ]
  },
  {
   "cell_type": "code",
   "execution_count": 79,
   "metadata": {
    "collapsed": true
   },
   "outputs": [],
   "source": [
    "## Pad the words to standardized text array length\n",
    "maxlength = 500 ######## CHANGED ##########\n",
    "train_data = keras.preprocessing.sequence.pad_sequences(train_data,\n",
    "                                                       value=word_to_ix[\"<PAD>\"],\n",
    "                                                       padding='post',\n",
    "                                                       maxlen=maxlength)\n",
    "\n",
    "test_data = keras.preprocessing.sequence.pad_sequences(test_data,\n",
    "                                                      value=word_to_ix[\"<PAD>\"],\n",
    "                                                      padding='post',\n",
    "                                                      maxlen=maxlength)"
   ]
  },
  {
   "cell_type": "code",
   "execution_count": 111,
   "metadata": {},
   "outputs": [
    {
     "name": "stdout",
     "output_type": "stream",
     "text": [
      "Training data length: 2459\n",
      "Validation data length: 274\n"
     ]
    }
   ],
   "source": [
    "## Initiate validation sets\n",
    "val_size = int(num_train * 0.9) # Set apart 10% of train data for validation\n",
    "\n",
    "x_val = train_data[:num_train-val_size]\n",
    "partial_x_train = train_data[num_train-val_size:]\n",
    "\n",
    "y_val = train_labels[:num_train-val_size]\n",
    "partial_y_train = train_labels[num_train-val_size:]\n",
    "\n",
    "print(\"Training data length:\", len(partial_x_train))\n",
    "print(\"Validation data length:\",len(x_val))"
   ]
  },
  {
   "cell_type": "markdown",
   "metadata": {},
   "source": [
    "### Convolutional Neural Network"
   ]
  },
  {
   "cell_type": "code",
   "execution_count": 116,
   "metadata": {},
   "outputs": [
    {
     "name": "stdout",
     "output_type": "stream",
     "text": [
      "Vocabulary size: 6082\n",
      "_________________________________________________________________\n",
      "Layer (type)                 Output Shape              Param #   \n",
      "=================================================================\n",
      "embedding_8 (Embedding)      (None, None, 80)          486560    \n",
      "_________________________________________________________________\n",
      "conv1d_8 (Conv1D)            (None, None, 80)          32080     \n",
      "_________________________________________________________________\n",
      "dropout_22 (Dropout)         (None, None, 80)          0         \n",
      "_________________________________________________________________\n",
      "global_max_pooling1d_8 (Glob (None, 80)                0         \n",
      "_________________________________________________________________\n",
      "dropout_23 (Dropout)         (None, 80)                0         \n",
      "_________________________________________________________________\n",
      "dense_15 (Dense)             (None, 80)                6480      \n",
      "_________________________________________________________________\n",
      "dropout_24 (Dropout)         (None, 80)                0         \n",
      "_________________________________________________________________\n",
      "dense_16 (Dense)             (None, 1)                 81        \n",
      "=================================================================\n",
      "Total params: 525,201\n",
      "Trainable params: 525,201\n",
      "Non-trainable params: 0\n",
      "_________________________________________________________________\n"
     ]
    }
   ],
   "source": [
    "## Create the model\n",
    "import operator # Finding vocabulary length, max dictionary index + 1\n",
    "vocab_size = max(ix_to_word.items(), key=operator.itemgetter(1))[0] + 1\n",
    "print(\"Vocabulary size:\", vocab_size)\n",
    "\n",
    "# def create_model(optimizer='adam'):\n",
    "model = keras.Sequential()\n",
    "model.add(keras.layers.Embedding(vocab_size, 80))\n",
    "model.add(keras.layers.Conv1D(80,5,padding='valid',activation='relu',strides=1))\n",
    "model.add(keras.layers.Dropout(0.5))\n",
    "model.add(keras.layers.GlobalMaxPooling1D())\n",
    "model.add(keras.layers.Dropout(0.5))\n",
    "model.add(keras.layers.Dense(80, activation=tf.nn.relu))\n",
    "model.add(keras.layers.Dropout(0.5))\n",
    "model.add(keras.layers.Dense(1, activation=tf.nn.sigmoid))\n",
    "\n",
    "## Configured model with optimizer and loss function\n",
    "model.compile(optimizer = 'adam',\n",
    "             loss = 'binary_crossentropy',\n",
    "             metrics=['accuracy'])\n",
    "\n",
    "model.summary()"
   ]
  },
  {
   "cell_type": "code",
   "execution_count": 117,
   "metadata": {},
   "outputs": [
    {
     "name": "stdout",
     "output_type": "stream",
     "text": [
      "Train on 2459 samples, validate on 274 samples\n",
      "Epoch 1/5\n",
      "2459/2459 [==============================] - 3s 1ms/step - loss: 0.6735 - acc: 0.5742 - val_loss: 0.6508 - val_acc: 0.6642\n",
      "Epoch 2/5\n",
      "2459/2459 [==============================] - 2s 845us/step - loss: 0.5831 - acc: 0.7003 - val_loss: 0.5536 - val_acc: 0.7701\n",
      "Epoch 3/5\n",
      "2459/2459 [==============================] - 2s 851us/step - loss: 0.4696 - acc: 0.8032 - val_loss: 0.5023 - val_acc: 0.8102\n",
      "Epoch 4/5\n",
      "2459/2459 [==============================] - 2s 845us/step - loss: 0.4016 - acc: 0.8357 - val_loss: 0.4782 - val_acc: 0.7993\n",
      "Epoch 5/5\n",
      "2459/2459 [==============================] - 2s 850us/step - loss: 0.3330 - acc: 0.8699 - val_loss: 0.4759 - val_acc: 0.7774\n"
     ]
    }
   ],
   "source": [
    "## Train the model\n",
    "history = model.fit(partial_x_train,\n",
    "                   partial_y_train,\n",
    "                   epochs=5,\n",
    "                   batch_size=50,\n",
    "                   validation_data=(x_val, y_val),\n",
    "                   verbose=1)"
   ]
  },
  {
   "cell_type": "code",
   "execution_count": 118,
   "metadata": {
    "scrolled": true
   },
   "outputs": [
    {
     "name": "stdout",
     "output_type": "stream",
     "text": [
      "304/304 [==============================] - 0s 207us/step\n",
      "Test loss: 0.4792244983346839\n",
      "Test accuracy: 0.7927631578947368\n"
     ]
    }
   ],
   "source": [
    "## Evaluate the model\n",
    "predicted_nn = model.predict_classes(test_data)\n",
    "results = model.evaluate(test_data, test_labels)\n",
    "print(\"Test loss:\", results[0])\n",
    "print(\"Test accuracy:\", results[1])"
   ]
  },
  {
   "cell_type": "code",
   "execution_count": 119,
   "metadata": {
    "scrolled": true
   },
   "outputs": [
    {
     "name": "stdout",
     "output_type": "stream",
     "text": [
      "Confusion Matrix:\n",
      "[[121  42]\n",
      " [ 21 120]]\n"
     ]
    },
    {
     "data": {
      "image/png": "[encoded data removed]",
      "text/plain": [
       "<Figure size 432x288 with 2 Axes>"
      ]
     },
     "metadata": {},
     "output_type": "display_data"
    },
    {
     "name": "stdout",
     "output_type": "stream",
     "text": [
      "              precision    recall  f1-score   support\n",
      "\n",
      "       False       0.85      0.74      0.79       163\n",
      "        True       0.74      0.85      0.79       141\n",
      "\n",
      "   micro avg       0.79      0.79      0.79       304\n",
      "   macro avg       0.80      0.80      0.79       304\n",
      "weighted avg       0.80      0.79      0.79       304\n",
      "\n"
     ]
    }
   ],
   "source": [
    "## Graphical visualization\n",
    "cnf_matrix = confusion_matrix(test_labels, predicted_nn)\n",
    "plt.figure()\n",
    "class_names = ['False', 'True']\n",
    "plot_confusion_matrix(cnf_matrix, classes=class_names,\n",
    "                      Y_test = test_labels, predictions = predicted_nn,\n",
    "                      title='Confusion matrix')"
   ]
  },
  {
   "cell_type": "code",
   "execution_count": 108,
   "metadata": {},
   "outputs": [
    {
     "data": {
      "text/plain": [
       "dict_keys(['val_loss', 'val_acc', 'loss', 'acc'])"
      ]
     },
     "execution_count": 108,
     "metadata": {},
     "output_type": "execute_result"
    }
   ],
   "source": [
    "## Graph the data\n",
    "history_dict = history.history\n",
    "history_dict.keys()"
   ]
  },
  {
   "cell_type": "code",
   "execution_count": 109,
   "metadata": {},
   "outputs": [
    {
     "data": {
      "image/png": "[encoded data removed]",
      "text/plain": [
       "<Figure size 432x288 with 1 Axes>"
      ]
     },
     "metadata": {},
     "output_type": "display_data"
    }
   ],
   "source": [
    "## Visualize training and validation loss\n",
    "mse = history.history['acc']\n",
    "val_mse = history.history['val_acc']\n",
    "loss = history.history['loss']\n",
    "val_loss = history.history['val_loss']\n",
    "\n",
    "epochs = range(1, len(mse) + 1)\n",
    "\n",
    "plt.clf()   # clear figure\n",
    "# \"bo\" is for \"blue dot\"\n",
    "plt.plot(epochs, loss, 'bo', label='Training loss')\n",
    "# b is for \"solid blue line\"\n",
    "plt.plot(epochs, val_loss, 'b', label='Validation loss')\n",
    "plt.title('Training and Validation Loss')\n",
    "plt.xlabel('Epochs')\n",
    "plt.ylabel('Loss')\n",
    "plt.legend()\n",
    "\n",
    "plt.show()"
   ]
  },
  {
   "cell_type": "code",
   "execution_count": 110,
   "metadata": {},
   "outputs": [
    {
     "data": {
      "image/png": "[encoded data removed]",
      "text/plain": [
       "<Figure size 432x288 with 1 Axes>"
      ]
     },
     "metadata": {},
     "output_type": "display_data"
    }
   ],
   "source": [
    "## Visualize training and validation accuracy\n",
    "plt.clf()   # clear figure\n",
    "mse = history.history['acc']\n",
    "val_mse = history.history['val_acc']\n",
    "\n",
    "plt.plot(epochs, mse, 'bo', label='Training Accuracy')\n",
    "plt.plot(epochs, val_mse, 'b', label='Validation Accuracy')\n",
    "plt.title('Training and Validation Accuracy')\n",
    "plt.xlabel('Epochs')\n",
    "plt.ylabel('Accuracy')\n",
    "plt.legend()\n",
    "\n",
    "plt.show()"
   ]
  },
  {
   "cell_type": "markdown",
   "metadata": {
    "collapsed": true
   },
   "source": [
    "### Bidirectional Long Short Term Memory"
   ]
  },
  {
   "cell_type": "code",
   "execution_count": 120,
   "metadata": {},
   "outputs": [
    {
     "name": "stdout",
     "output_type": "stream",
     "text": [
      "Vocabulary size: 6082\n",
      "_________________________________________________________________\n",
      "Layer (type)                 Output Shape              Param #   \n",
      "=================================================================\n",
      "embedding_9 (Embedding)      (None, None, 30)          182460    \n",
      "_________________________________________________________________\n",
      "bidirectional_1 (Bidirection (None, 30)                5520      \n",
      "_________________________________________________________________\n",
      "dense_17 (Dense)             (None, 1)                 31        \n",
      "=================================================================\n",
      "Total params: 188,011\n",
      "Trainable params: 188,011\n",
      "Non-trainable params: 0\n",
      "_________________________________________________________________\n"
     ]
    }
   ],
   "source": [
    "## Create the model\n",
    "import operator # Finding vocabulary length, max dictionary index + 1\n",
    "vocab_size = max(ix_to_word.items(), key=operator.itemgetter(1))[0] + 1\n",
    "print(\"Vocabulary size:\", vocab_size)\n",
    "\n",
    "model = keras.Sequential()\n",
    "model.add(keras.layers.Embedding(vocab_size, 30))\n",
    "model.add(keras.layers.Bidirectional(keras.layers.LSTM(units=(15),recurrent_dropout=0.3)))\n",
    "model.add(keras.layers.Dense(1, activation=tf.nn.sigmoid))\n",
    "\n",
    "## Configured model with optimizer and loss function\n",
    "model.compile(optimizer = 'adam',\n",
    "             loss = 'binary_crossentropy',\n",
    "             metrics=['accuracy'])\n",
    "\n",
    "model.summary()"
   ]
  },
  {
   "cell_type": "code",
   "execution_count": 121,
   "metadata": {},
   "outputs": [
    {
     "name": "stdout",
     "output_type": "stream",
     "text": [
      "Train on 2459 samples, validate on 274 samples\n",
      "Epoch 1/5\n",
      "2459/2459 [==============================] - 38s 16ms/step - loss: 0.6899 - acc: 0.5209 - val_loss: 0.6849 - val_acc: 0.5438\n",
      "Epoch 2/5\n",
      "2459/2459 [==============================] - 37s 15ms/step - loss: 0.6517 - acc: 0.6535 - val_loss: 0.5969 - val_acc: 0.7409\n",
      "Epoch 3/5\n",
      "2459/2459 [==============================] - 37s 15ms/step - loss: 0.5512 - acc: 0.7605 - val_loss: 0.5429 - val_acc: 0.7299\n",
      "Epoch 4/5\n",
      "2459/2459 [==============================] - 38s 15ms/step - loss: 0.4831 - acc: 0.7832 - val_loss: 0.4908 - val_acc: 0.7518\n",
      "Epoch 5/5\n",
      "2459/2459 [==============================] - 38s 15ms/step - loss: 0.4192 - acc: 0.8247 - val_loss: 0.4718 - val_acc: 0.7737\n"
     ]
    }
   ],
   "source": [
    "## Train the model\n",
    "history = model.fit(partial_x_train,\n",
    "                   partial_y_train,\n",
    "                   epochs=5,\n",
    "                   batch_size=80,\n",
    "                   validation_data=(x_val, y_val),\n",
    "                   verbose=1)"
   ]
  },
  {
   "cell_type": "code",
   "execution_count": 122,
   "metadata": {},
   "outputs": [
    {
     "name": "stdout",
     "output_type": "stream",
     "text": [
      "304/304 [==============================] - 2s 7ms/step\n",
      "Test loss: 0.5086274617596677\n",
      "Test Accuracy: 0.7730263157894737\n"
     ]
    }
   ],
   "source": [
    "## Evaluate the model\n",
    "predicted_nn = model.predict_classes(test_data)\n",
    "results = model.evaluate(test_data, test_labels)\n",
    "print(\"Test loss:\", results[0])\n",
    "print(\"Test Accuracy:\", results[1])"
   ]
  },
  {
   "cell_type": "code",
   "execution_count": 123,
   "metadata": {},
   "outputs": [
    {
     "name": "stdout",
     "output_type": "stream",
     "text": [
      "Confusion Matrix:\n",
      "[[129  34]\n",
      " [ 35 106]]\n"
     ]
    },
    {
     "data": {
      "image/png": "[encoded data removed]",
      "text/plain": [
       "<Figure size 432x288 with 2 Axes>"
      ]
     },
     "metadata": {},
     "output_type": "display_data"
    },
    {
     "name": "stdout",
     "output_type": "stream",
     "text": [
      "              precision    recall  f1-score   support\n",
      "\n",
      "       False       0.79      0.79      0.79       163\n",
      "        True       0.76      0.75      0.75       141\n",
      "\n",
      "   micro avg       0.77      0.77      0.77       304\n",
      "   macro avg       0.77      0.77      0.77       304\n",
      "weighted avg       0.77      0.77      0.77       304\n",
      "\n"
     ]
    }
   ],
   "source": [
    "## Graphical visualization\n",
    "cnf_matrix = confusion_matrix(test_labels, predicted_nn)\n",
    "plt.figure()\n",
    "class_names = ['False', 'True']\n",
    "plot_confusion_matrix(cnf_matrix, classes=class_names,\n",
    "                      Y_test = test_labels, predictions = predicted_nn,\n",
    "                      title='Confusion matrix')"
   ]
  },
  {
   "cell_type": "code",
   "execution_count": 46,
   "metadata": {},
   "outputs": [
    {
     "data": {
      "text/plain": [
       "dict_keys(['val_loss', 'val_acc', 'loss', 'acc'])"
      ]
     },
     "execution_count": 46,
     "metadata": {},
     "output_type": "execute_result"
    }
   ],
   "source": [
    "## Graph the data\n",
    "history_dict = history.history\n",
    "history_dict.keys()"
   ]
  },
  {
   "cell_type": "code",
   "execution_count": 48,
   "metadata": {},
   "outputs": [
    {
     "data": {
      "image/png": "[encoded data removed]",
      "text/plain": [
       "<Figure size 432x288 with 1 Axes>"
      ]
     },
     "metadata": {},
     "output_type": "display_data"
    }
   ],
   "source": [
    "## Visualize training and validation loss\n",
    "acc = history.history['acc']\n",
    "val_acc = history.history['val_acc']\n",
    "loss = history.history['loss']\n",
    "val_loss = history.history['val_loss']\n",
    "\n",
    "epochs = range(1, len(acc) + 1)\n",
    "\n",
    "plt.clf()   # clear figure\n",
    "# \"bo\" is for \"blue dot\"\n",
    "plt.plot(epochs, loss, 'bo', label='Training Loss')\n",
    "# b is for \"solid blue line\"\n",
    "plt.plot(epochs, val_loss, 'b', label='Validation Loss')\n",
    "plt.title('Training and Validation Loss')\n",
    "plt.xlabel('Epochs')\n",
    "plt.ylabel('Loss')\n",
    "plt.legend()\n",
    "\n",
    "plt.show()"
   ]
  },
  {
   "cell_type": "code",
   "execution_count": 49,
   "metadata": {},
   "outputs": [
    {
     "data": {
      "image/png": "[encoded data removed]",
      "text/plain": [
       "<Figure size 432x288 with 1 Axes>"
      ]
     },
     "metadata": {},
     "output_type": "display_data"
    }
   ],
   "source": [
    "## Visualize training and validation accuracy\n",
    "plt.clf()   # clear figure\n",
    "acc = history.history['acc']\n",
    "val_acc = history.history['val_acc']\n",
    "\n",
    "plt.plot(epochs, acc, 'bo', label='Training Accuracy')\n",
    "plt.plot(epochs, val_acc, 'b', label='Validation Accuracy')\n",
    "plt.title('Training and Validation Accuracy')\n",
    "plt.xlabel('Epochs')\n",
    "plt.ylabel('Accuracy')\n",
    "plt.legend()\n",
    "\n",
    "plt.show()"
   ]
  },
  {
   "cell_type": "markdown",
   "metadata": {
    "collapsed": true
   },
   "source": [
    "## Other NN Approach"
   ]
  },
  {
   "cell_type": "code",
   "execution_count": 227,
   "metadata": {
    "collapsed": true
   },
   "outputs": [],
   "source": [
    "from tensorflow.keras.preprocessing.text import Tokenizer\n",
    "from tensorflow.keras.preprocessing.sequence import pad_sequences"
   ]
  },
  {
   "cell_type": "code",
   "execution_count": 228,
   "metadata": {},
   "outputs": [
    {
     "name": "stdout",
     "output_type": "stream",
     "text": [
      "Train data amount: 10053\n",
      "Test data amount: 1117\n"
     ]
    }
   ],
   "source": [
    "X = df[data_col]\n",
    "Y = df[label_col]\n",
    "train_data, test_data, train_labels, test_labels = train_test_split(\n",
    " X, Y, test_size=0.1, random_state=42, stratify=df[label_col])\n",
    "print(\"Train data amount:\", len(train_data))\n",
    "print(\"Test data amount:\", len(test_data))"
   ]
  },
  {
   "cell_type": "code",
   "execution_count": 230,
   "metadata": {},
   "outputs": [
    {
     "ename": "AttributeError",
     "evalue": "'int' object has no attribute 'lower'",
     "output_type": "error",
     "traceback": [
      "\u001b[1;31m---------------------------------------------------------------------------\u001b[0m",
      "\u001b[1;31mAttributeError\u001b[0m                            Traceback (most recent call last)",
      "\u001b[1;32m<ipython-input-230-f2a6a54f198a>\u001b[0m in \u001b[0;36m<module>\u001b[1;34m()\u001b[0m\n\u001b[0;32m      9\u001b[0m \u001b[1;31m## Get transformed version of train data\u001b[0m\u001b[1;33m\u001b[0m\u001b[1;33m\u001b[0m\u001b[0m\n\u001b[0;32m     10\u001b[0m \u001b[0mtokenizer\u001b[0m \u001b[1;33m=\u001b[0m \u001b[0mTokenizer\u001b[0m\u001b[1;33m(\u001b[0m\u001b[0moov_token\u001b[0m\u001b[1;33m=\u001b[0m\u001b[1;34m\"<OOV>\"\u001b[0m\u001b[1;33m)\u001b[0m\u001b[1;33m\u001b[0m\u001b[0m\n\u001b[1;32m---> 11\u001b[1;33m \u001b[0mtokenizer\u001b[0m\u001b[1;33m.\u001b[0m\u001b[0mfit_on_texts\u001b[0m\u001b[1;33m(\u001b[0m\u001b[0mtrain_data\u001b[0m\u001b[1;33m)\u001b[0m\u001b[1;33m\u001b[0m\u001b[0m\n\u001b[0m\u001b[0;32m     12\u001b[0m \u001b[0mword_index\u001b[0m \u001b[1;33m=\u001b[0m \u001b[0mtokenizer\u001b[0m\u001b[1;33m.\u001b[0m\u001b[0mword_index\u001b[0m\u001b[1;33m\u001b[0m\u001b[0m\n\u001b[0;32m     13\u001b[0m \u001b[0mvocab_size\u001b[0m \u001b[1;33m=\u001b[0m \u001b[0mlen\u001b[0m\u001b[1;33m(\u001b[0m\u001b[0mword_index\u001b[0m\u001b[1;33m)\u001b[0m\u001b[1;33m\u001b[0m\u001b[0m\n",
      "\u001b[1;32m~\\Anaconda3\\lib\\site-packages\\keras_preprocessing\\text.py\u001b[0m in \u001b[0;36mfit_on_texts\u001b[1;34m(self, texts)\u001b[0m\n\u001b[0;32m    212\u001b[0m                 \u001b[1;32mif\u001b[0m \u001b[0mself\u001b[0m\u001b[1;33m.\u001b[0m\u001b[0mlower\u001b[0m\u001b[1;33m:\u001b[0m\u001b[1;33m\u001b[0m\u001b[0m\n\u001b[0;32m    213\u001b[0m                     \u001b[1;32mif\u001b[0m \u001b[0misinstance\u001b[0m\u001b[1;33m(\u001b[0m\u001b[0mtext\u001b[0m\u001b[1;33m,\u001b[0m \u001b[0mlist\u001b[0m\u001b[1;33m)\u001b[0m\u001b[1;33m:\u001b[0m\u001b[1;33m\u001b[0m\u001b[0m\n\u001b[1;32m--> 214\u001b[1;33m                         \u001b[0mtext\u001b[0m \u001b[1;33m=\u001b[0m \u001b[1;33m[\u001b[0m\u001b[0mtext_elem\u001b[0m\u001b[1;33m.\u001b[0m\u001b[0mlower\u001b[0m\u001b[1;33m(\u001b[0m\u001b[1;33m)\u001b[0m \u001b[1;32mfor\u001b[0m \u001b[0mtext_elem\u001b[0m \u001b[1;32min\u001b[0m \u001b[0mtext\u001b[0m\u001b[1;33m]\u001b[0m\u001b[1;33m\u001b[0m\u001b[0m\n\u001b[0m\u001b[0;32m    215\u001b[0m                     \u001b[1;32melse\u001b[0m\u001b[1;33m:\u001b[0m\u001b[1;33m\u001b[0m\u001b[0m\n\u001b[0;32m    216\u001b[0m                         \u001b[0mtext\u001b[0m \u001b[1;33m=\u001b[0m \u001b[0mtext\u001b[0m\u001b[1;33m.\u001b[0m\u001b[0mlower\u001b[0m\u001b[1;33m(\u001b[0m\u001b[1;33m)\u001b[0m\u001b[1;33m\u001b[0m\u001b[0m\n",
      "\u001b[1;32m~\\Anaconda3\\lib\\site-packages\\keras_preprocessing\\text.py\u001b[0m in \u001b[0;36m<listcomp>\u001b[1;34m(.0)\u001b[0m\n\u001b[0;32m    212\u001b[0m                 \u001b[1;32mif\u001b[0m \u001b[0mself\u001b[0m\u001b[1;33m.\u001b[0m\u001b[0mlower\u001b[0m\u001b[1;33m:\u001b[0m\u001b[1;33m\u001b[0m\u001b[0m\n\u001b[0;32m    213\u001b[0m                     \u001b[1;32mif\u001b[0m \u001b[0misinstance\u001b[0m\u001b[1;33m(\u001b[0m\u001b[0mtext\u001b[0m\u001b[1;33m,\u001b[0m \u001b[0mlist\u001b[0m\u001b[1;33m)\u001b[0m\u001b[1;33m:\u001b[0m\u001b[1;33m\u001b[0m\u001b[0m\n\u001b[1;32m--> 214\u001b[1;33m                         \u001b[0mtext\u001b[0m \u001b[1;33m=\u001b[0m \u001b[1;33m[\u001b[0m\u001b[0mtext_elem\u001b[0m\u001b[1;33m.\u001b[0m\u001b[0mlower\u001b[0m\u001b[1;33m(\u001b[0m\u001b[1;33m)\u001b[0m \u001b[1;32mfor\u001b[0m \u001b[0mtext_elem\u001b[0m \u001b[1;32min\u001b[0m \u001b[0mtext\u001b[0m\u001b[1;33m]\u001b[0m\u001b[1;33m\u001b[0m\u001b[0m\n\u001b[0m\u001b[0;32m    215\u001b[0m                     \u001b[1;32melse\u001b[0m\u001b[1;33m:\u001b[0m\u001b[1;33m\u001b[0m\u001b[0m\n\u001b[0;32m    216\u001b[0m                         \u001b[0mtext\u001b[0m \u001b[1;33m=\u001b[0m \u001b[0mtext\u001b[0m\u001b[1;33m.\u001b[0m\u001b[0mlower\u001b[0m\u001b[1;33m(\u001b[0m\u001b[1;33m)\u001b[0m\u001b[1;33m\u001b[0m\u001b[0m\n",
      "\u001b[1;31mAttributeError\u001b[0m: 'int' object has no attribute 'lower'"
     ]
    }
   ],
   "source": [
    "## Initialize train and test data, train and test labels\n",
    "num_data = len(df)\n",
    "num_train = int(num_data * 0.9) # df.head this amount\n",
    "num_test = int(num_data - num_train) # df.tail this amount\n",
    "# train_data = df[data_col][:num_train]\n",
    "# test_data = df[data_col][num_train:]\n",
    "# train_labels = df[label_col][:num_train] # is_prompt_exists\n",
    "# test_labels = df[label_col][num_train:]\n",
    "## Get transformed version of train data\n",
    "tokenizer = Tokenizer(oov_token=\"<OOV>\")\n",
    "tokenizer.fit_on_texts(train_data)\n",
    "word_index = tokenizer.word_index\n",
    "vocab_size = len(word_index)\n",
    "sequences = tokenizer.texts_to_sequences(train_data)\n",
    "test_data = tokenizer.texts_to_sequences(test_data)\n",
    "train_portion = sequences # for maxlength reference later\n",
    "## Initiate validation sets\n",
    "train_data, x_val, train_labels, y_val = train_test_split(\n",
    " sequences, train_labels, test_size=0.11, random_state=42, stratify=train_labels)\n",
    "print(\"Train data amount:\", len(train_data))\n",
    "print(\"Validation data amount:\", len(x_val))\n",
    "print(\"Test data amount:\", len(test_data))\n",
    "# val_size = num_test # Set apart 10% of all data from train for validation\n",
    "# x_val = sequences[num_train-val_size:num_train]\n",
    "# train_data = sequences[:num_train-val_size]\n",
    "# y_val = train_labels[num_train-val_size:num_train]\n",
    "# train_labels = train_labels[:num_train-val_size]\n",
    "# print(\"Number train data:\", len(train_data))\n",
    "# print(\"Number validation data:\", len(x_val))\n",
    "# print(\"Number test data:\", len(test_data))"
   ]
  },
  {
   "cell_type": "code",
   "execution_count": 232,
   "metadata": {},
   "outputs": [
    {
     "name": "stdout",
     "output_type": "stream",
     "text": [
      "10053\n",
      "29\n"
     ]
    }
   ],
   "source": [
    "numabove = 0\n",
    "max_length = 400\n",
    "for i in range(len(train_portion)):\n",
    "    if (len(train_portion[i]) > max_length):\n",
    "        numabove = numabove + 1\n",
    "print(len(train_portion))\n",
    "print(numabove)"
   ]
  },
  {
   "cell_type": "code",
   "execution_count": 233,
   "metadata": {
    "collapsed": true
   },
   "outputs": [],
   "source": [
    "# Pad train-val-test data\n",
    "train_data = pad_sequences(train_data, maxlen=max_length, padding='post', truncating='post')\n",
    "x_val = pad_sequences(x_val, maxlen=max_length, padding='post', truncating='post')\n",
    "test_data = pad_sequences(test_data, maxlen=max_length, padding='post', truncating='post')"
   ]
  },
  {
   "cell_type": "code",
   "execution_count": 234,
   "metadata": {
    "collapsed": true
   },
   "outputs": [],
   "source": [
    "embeddings_index = {}\n",
    "f = open('glove.6B.300d.txt',encoding=\"utf8\")\n",
    "for line in f:\n",
    "    values = line.split()\n",
    "    word = values[0]\n",
    "    try:\n",
    "        coefs = np.asarray(values[1:], dtype='float32')\n",
    "    except:\n",
    "        pass\n",
    "    embeddings_index[word] = coefs\n",
    "f.close()"
   ]
  },
  {
   "cell_type": "code",
   "execution_count": 235,
   "metadata": {
    "collapsed": true
   },
   "outputs": [],
   "source": [
    "#create the embedding matrix mapping every index in the corpus to it's respective embedding_vector\n",
    "embedding_dim = 300\n",
    "embedding_matrix = np.zeros((len(word_index) + 1, embedding_dim))\n",
    "for word, i in word_index.items():\n",
    "    embedding_vector = embeddings_index.get(word)\n",
    "    if embedding_vector is not None:\n",
    "        embedding_matrix[i] = embedding_vector"
   ]
  },
  {
   "cell_type": "code",
   "execution_count": 246,
   "metadata": {},
   "outputs": [
    {
     "name": "stdout",
     "output_type": "stream",
     "text": [
      "_________________________________________________________________\n",
      "Layer (type)                 Output Shape              Param #   \n",
      "=================================================================\n",
      "embedding_4 (Embedding)      (None, 400, 300)          2599800   \n",
      "_________________________________________________________________\n",
      "dropout_8 (Dropout)          (None, 400, 300)          0         \n",
      "_________________________________________________________________\n",
      "bidirectional_3 (Bidirection (None, 300)               541200    \n",
      "_________________________________________________________________\n",
      "dropout_9 (Dropout)          (None, 300)               0         \n",
      "_________________________________________________________________\n",
      "dense_5 (Dense)              (None, 1)                 301       \n",
      "=================================================================\n",
      "Total params: 3,141,301\n",
      "Trainable params: 541,501\n",
      "Non-trainable params: 2,599,800\n",
      "_________________________________________________________________\n"
     ]
    }
   ],
   "source": [
    "# model = tf.keras.Sequential([\n",
    "#     tf.keras.layers.Embedding(vocab_size+1, embedding_dim, input_length=max_length, weights=[embedding_matrix], trainable=False),\n",
    "#     tf.keras.layers.Dropout(0.4),\n",
    "#     tf.keras.layers.Conv1D(64, 5, activation='relu'),\n",
    "#     tf.keras.layers.GlobalMaxPool1D(),\n",
    "#     tf.keras.layers.Dense(64, activation=tf.nn.relu),\n",
    "#     tf.keras.layers.Dropout(0.4),\n",
    "#     tf.keras.layers.Dense(1, activation='sigmoid')\n",
    "# ])\n",
    "model = tf.keras.Sequential([\n",
    "    tf.keras.layers.Embedding(vocab_size+1, embedding_dim, input_length=max_length, weights=[embedding_matrix], trainable=False),\n",
    "    tf.keras.layers.Dropout(0.4),\n",
    "    tf.keras.layers.Bidirectional(tf.keras.layers.LSTM(150,recurrent_dropout=0.4)),\n",
    "    tf.keras.layers.Dropout(0.4),\n",
    "    tf.keras.layers.Dense(1, activation='sigmoid')\n",
    "])\n",
    "\n",
    "model.compile(optimizer = 'adam',\n",
    "             loss = 'binary_crossentropy',\n",
    "             metrics=['accuracy'])\n",
    "\n",
    "model.summary()"
   ]
  },
  {
   "cell_type": "code",
   "execution_count": 250,
   "metadata": {},
   "outputs": [
    {
     "name": "stdout",
     "output_type": "stream",
     "text": [
      "Train on 8947 samples, validate on 1106 samples\n",
      "Epoch 1/5\n",
      "8947/8947 [==============================] - 153s 17ms/step - loss: 0.4062 - acc: 0.8213 - val_loss: 0.3704 - val_acc: 0.8418\n",
      "Epoch 2/5\n",
      "8947/8947 [==============================] - 153s 17ms/step - loss: 0.3847 - acc: 0.8328 - val_loss: 0.3773 - val_acc: 0.8400\n",
      "Epoch 3/5\n",
      "8947/8947 [==============================] - 153s 17ms/step - loss: 0.3801 - acc: 0.8353 - val_loss: 0.3569 - val_acc: 0.8499\n",
      "Epoch 4/5\n",
      "8947/8947 [==============================] - 154s 17ms/step - loss: 0.3670 - acc: 0.8441 - val_loss: 0.3509 - val_acc: 0.8544\n",
      "Epoch 5/5\n",
      "8947/8947 [==============================] - 153s 17ms/step - loss: 0.3573 - acc: 0.8453 - val_loss: 0.3447 - val_acc: 0.8590\n"
     ]
    }
   ],
   "source": [
    "## Train the model\n",
    "# history = model.fit(training_sequences, training_labels, epochs=num_epochs, validation_data=(test_sequences, test_labels), verbose=2)\n",
    "\n",
    "history = model.fit(train_data,\n",
    "                   train_labels,\n",
    "                   epochs=5,\n",
    "                   batch_size=150,\n",
    "                   validation_data=(x_val, y_val),\n",
    "                   verbose=1)"
   ]
  },
  {
   "cell_type": "code",
   "execution_count": 248,
   "metadata": {},
   "outputs": [
    {
     "name": "stdout",
     "output_type": "stream",
     "text": [
      "1117/1117 [==============================] - 15s 14ms/step\n",
      "Test loss: 0.3492166290564951\n",
      "Test Accuracy: 0.8460161138455998\n"
     ]
    }
   ],
   "source": [
    "## Evaluate the model\n",
    "predicted_nn = model.predict_classes(test_data)\n",
    "results = model.evaluate(test_data, test_labels)\n",
    "print(\"Test loss:\", results[0])\n",
    "print(\"Test Accuracy:\", results[1])"
   ]
  },
  {
   "cell_type": "code",
   "execution_count": 249,
   "metadata": {},
   "outputs": [
    {
     "name": "stdout",
     "output_type": "stream",
     "text": [
      "Confusion Matrix:\n",
      "[[455 104]\n",
      " [ 68 490]]\n"
     ]
    },
    {
     "data": {
      "image/png": "[encoded data removed]",
      "text/plain": [
       "<Figure size 432x288 with 2 Axes>"
      ]
     },
     "metadata": {},
     "output_type": "display_data"
    },
    {
     "name": "stdout",
     "output_type": "stream",
     "text": [
      "              precision    recall  f1-score   support\n",
      "\n",
      "       False       0.87      0.81      0.84       559\n",
      "        True       0.82      0.88      0.85       558\n",
      "\n",
      "   micro avg       0.85      0.85      0.85      1117\n",
      "   macro avg       0.85      0.85      0.85      1117\n",
      "weighted avg       0.85      0.85      0.85      1117\n",
      "\n"
     ]
    }
   ],
   "source": [
    "## Graphical visualization\n",
    "cnf_matrix = confusion_matrix(test_labels, predicted_nn)\n",
    "plt.figure()\n",
    "class_names = ['False', 'True']\n",
    "plot_confusion_matrix(cnf_matrix, classes=class_names,\n",
    "                      Y_test = test_labels, predictions = predicted_nn,\n",
    "                      title='Confusion matrix')"
   ]
  },
  {
   "cell_type": "code",
   "execution_count": null,
   "metadata": {
    "collapsed": true
   },
   "outputs": [],
   "source": []
  }
 ],
 "metadata": {
  "kernelspec": {
   "display_name": "Python 3",
   "language": "python",
   "name": "python3"
  },
  "language_info": {
   "codemirror_mode": {
    "name": "ipython",
    "version": 3
   },
   "file_extension": ".py",
   "mimetype": "text/x-python",
   "name": "python",
   "nbconvert_exporter": "python",
   "pygments_lexer": "ipython3",
   "version": "3.6.8"
  }
 },
 "nbformat": 4,
 "nbformat_minor": 2
}
