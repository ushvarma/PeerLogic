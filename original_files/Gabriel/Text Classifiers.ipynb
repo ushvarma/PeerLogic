{
 "cells": [
  {
   "cell_type": "markdown",
   "metadata": {},
   "source": [
    "# Text Classifiers:\n",
    "#### This notebook contains various classifiers that can be used on a provided text dataset."
   ]
  },
  {
   "cell_type": "code",
   "execution_count": 1,
   "metadata": {},
   "outputs": [
    {
     "name": "stderr",
     "output_type": "stream",
     "text": [
      "Using TensorFlow backend.\n"
     ]
    }
   ],
   "source": [
    "import pandas as pd\n",
    "import numpy as np\n",
    "from sklearn.model_selection import train_test_split\n",
    "from sklearn.feature_extraction.text import CountVectorizer\n",
    "from sklearn.feature_extraction.text import TfidfTransformer\n",
    "from sklearn.naive_bayes import MultinomialNB\n",
    "from sklearn.pipeline import Pipeline\n",
    "from sklearn.linear_model import SGDClassifier\n",
    "from sklearn.metrics import confusion_matrix, classification_report\n",
    "\n",
    "import nltk\n",
    "import tensorflow as tf\n",
    "import keras\n",
    "import sklearn\n",
    "import csv"
   ]
  },
  {
   "cell_type": "code",
   "execution_count": 2,
   "metadata": {},
   "outputs": [],
   "source": [
    "import itertools\n",
    "import matplotlib.pyplot as plt\n",
    "from sklearn import svm, datasets\n",
    "\n",
    "## This function is called by the classifiers to provide a visulization of the results\n",
    "def plot_confusion_matrix(cm, classes, Y_test,\n",
    "                          predictions,\n",
    "                          title='Confusion matrix',\n",
    "                          cmap=plt.cm.Blues):\n",
    "    print(\"Confusion Matrix:\")\n",
    "    print(cm)\n",
    "\n",
    "    plt.imshow(cm, interpolation='nearest', cmap=cmap)\n",
    "    plt.title(title)\n",
    "    plt.colorbar()\n",
    "    tick_marks = np.arange(len(classes))\n",
    "    plt.xticks(tick_marks, classes, rotation=45)\n",
    "    plt.yticks(tick_marks, classes)\n",
    "\n",
    "    thresh = cm.max() / 2.\n",
    "    for i, j in itertools.product(range(cm.shape[0]), range(cm.shape[1])):\n",
    "        plt.text(j, i, format(cm[i, j],'d'),\n",
    "                 horizontalalignment=\"center\",\n",
    "                 color=\"white\" if cm[i, j] > thresh else \"black\")\n",
    "\n",
    "    plt.ylabel('True label')\n",
    "    plt.xlabel('Predicted label')\n",
    "    plt.tight_layout()\n",
    "    print(classification_report(Y_test, predictions, target_names = classes))\n",
    "    print(\"True Negative:\", cm[0][0])\n",
    "    print(\"False Negative:\", cm[1][0])\n",
    "    print(\"True Positive:\", cm[1][1])\n",
    "    print(\"False Positive:\", cm[0][1])"
   ]
  },
  {
   "cell_type": "markdown",
   "metadata": {},
   "source": [
    "### Complete -> Enter the name of the dataset you want to test into the file_in variable:\n",
    "##### The file_out dataset is the name of the dataset that will stored the number converted version of the text data. Set the name of file_out to the name of the converted dataset if you already have a dataset that has numeric representations of the dataset already instead of words. Otherwise, file_out will be the output file name that is the converted data of the file_in dataset that gets read in for classification for the tensorflow model. Also, if you already have a converted file, make sure that re_read is set to 0 so that it does not get overwritten."
   ]
  },
  {
   "cell_type": "code",
   "execution_count": 5,
   "metadata": {},
   "outputs": [],
   "source": [
    "### Enter filenames below:\n",
    "file_in = \"problems_expertiza_all.csv\"\n",
    "file_out = \"problems_expertiza_all_converted.csv\"\n",
    "### Enter column names for data and labels below:\n",
    "data_col = \"Comments\"\n",
    "label_col = \"Mentions_Problem\"\n",
    "### Set re_read to 0 if you already have a converted text file, 1 if it needs to be created\n",
    "re_read = 0"
   ]
  },
  {
   "cell_type": "code",
   "execution_count": 6,
   "metadata": {},
   "outputs": [
    {
     "name": "stdout",
     "output_type": "stream",
     "text": [
      "problems_expertiza_all.csv\n",
      "Mentions_Problem     int64\n",
      "Comments            object\n",
      "dtype: object\n",
      "Sample size: 14609\n",
      "   Mentions_Problem                                           Comments\n",
      "0                 1                                      Yes it works.\n",
      "1                 1                      Test Plan section is missing.\n",
      "2                 1  The write up contains clear explanation to wha...\n",
      "3                 1  The Wiki page did not have a test plan. Howeve...\n",
      "4                 1  There was no link to the test plan, so I could...\n"
     ]
    }
   ],
   "source": [
    "df = pd.read_csv(file_in, engine = 'python');\n",
    "print(file_in)\n",
    "print(df.dtypes)\n",
    "print(\"Sample size:\", len(df))\n",
    "print(df.head(5))"
   ]
  },
  {
   "cell_type": "markdown",
   "metadata": {},
   "source": [
    "#### Setting up the data."
   ]
  },
  {
   "cell_type": "code",
   "execution_count": 5,
   "metadata": {},
   "outputs": [],
   "source": [
    "X = df[data_col]\n",
    "Y = df[label_col]"
   ]
  },
  {
   "cell_type": "code",
   "execution_count": 6,
   "metadata": {},
   "outputs": [
    {
     "name": "stdout",
     "output_type": "stream",
     "text": [
      "Train data amount: 13148\n",
      "Test data amount: 1461\n"
     ]
    }
   ],
   "source": [
    "X_train, X_test, Y_train, Y_test = train_test_split(\n",
    " X, Y, test_size=0.1, random_state=42)\n",
    "print(\"Train data amount:\", len(X_train))\n",
    "print(\"Test data amount:\", len(X_test))"
   ]
  },
  {
   "cell_type": "code",
   "execution_count": 9,
   "metadata": {},
   "outputs": [],
   "source": [
    "### Stemming somtimes improves performance\n",
    "# from nltk.stem import *\n",
    "# stemmer = PorterStemmer()\n",
    "# new_xtr = []\n",
    "# new_xte = []\n",
    "# for sent in X_train:\n",
    "#     sent = nltk.word_tokenize(sent)\n",
    "#     sent = [stemmer.stem(w) for w in sent]\n",
    "#     sent = \" \".join(sent)\n",
    "#     new_xtr.append(sent)\n",
    "# X_train = new_xtr\n",
    "# for sent in X_test:\n",
    "#     sent = nltk.word_tokenize(sent)\n",
    "#     sent = [stemmer.stem(w) for w in sent]\n",
    "#     sent = \" \".join(sent)\n",
    "#     new_xte.append(sent)\n",
    "# X_test = new_xte"
   ]
  },
  {
   "cell_type": "code",
   "execution_count": 156,
   "metadata": {},
   "outputs": [],
   "source": [
    "### Might improve performance on Keras Model (try this)\n",
    "from nltk.tokenize import RegexpTokenizer\n",
    "import string\n",
    "tokenizer = RegexpTokenizer(r'\\w+')\n",
    "table = str.maketrans('', '', string.punctuation)\n",
    "new_xtr = []\n",
    "new_xte = []\n",
    "for sent in X_train:\n",
    "    sent = sent.split()\n",
    "    sent = [w.translate(table) for w in sent]\n",
    "    sent = \" \".join(sent)\n",
    "    sent = str.lower(sent)\n",
    "    new_xtr.append(sent)\n",
    "X_train = new_xtr\n",
    "for sent in X_test:\n",
    "    sent = sent.split()\n",
    "    sent = [w.translate(table) for w in sent]\n",
    "    sent = \" \".join(sent)\n",
    "    sent = str.lower(sent)\n",
    "    new_xte.append(sent)\n",
    "X_test = new_xte\n",
    "all_data = X_train + X_test"
   ]
  },
  {
   "cell_type": "code",
   "execution_count": 203,
   "metadata": {},
   "outputs": [],
   "source": [
    "### Stemming somtimes improves performance\n",
    "from nltk.stem import *\n",
    "stemmer = PorterStemmer()\n",
    "new_xtr2 = []\n",
    "new_xte2 = []\n",
    "for sent in X_train:\n",
    "    sent = nltk.word_tokenize(sent)\n",
    "    sent = [stemmer.stem(w) for w in sent]\n",
    "    sent = \" \".join(sent)\n",
    "    new_xtr2.append(sent)\n",
    "X_train = new_xtr2\n",
    "for sent in X_test:\n",
    "    sent = nltk.word_tokenize(sent)\n",
    "    sent = [stemmer.stem(w) for w in sent]\n",
    "    sent = \" \".join(sent)\n",
    "    new_xte2.append(sent)\n",
    "X_test = new_xte2\n",
    "all_data = X_train + X_test"
   ]
  },
  {
   "cell_type": "markdown",
   "metadata": {},
   "source": [
    "## Rule-based classifier:\n"
   ]
  },
  {
   "cell_type": "code",
   "execution_count": 206,
   "metadata": {},
   "outputs": [],
   "source": [
    "#### Rule Approach\n",
    "## Uses nltk pos-tagging to label words\n",
    "loop = 0\n",
    "count = 0\n",
    "numComments = 0\n",
    "suggestions_per_comment = []\n",
    "end = len(df)\n",
    "labels = []\n",
    "predictions = []\n",
    "for loop in range(end):\n",
    "    comment = df[data_col][loop]\n",
    "    comment = all_data[loop]\n",
    "    prompt = df[label_col][loop]\n",
    "#     #### Uncomment below condition only when using suggestions_data_balanced.csv ####\n",
    "    if isinstance(comment, str) == False:\n",
    "        continue\n",
    "#     ####\n",
    "    sentTok = nltk.sent_tokenize(comment)\n",
    "    modalVerb = False\n",
    "    foundSuggestion = False\n",
    "    for sentence in sentTok:\n",
    "        wordTok = nltk.word_tokenize(sentence)\n",
    "        words = nltk.pos_tag(wordTok)\n",
    "        for word in words:\n",
    "            if word[1] == \"MD\":\n",
    "                modalVerb = True\n",
    "                continue\n",
    "            elif word[1] == \"VB\" or word[1] == \"VBZ\" or word[1] == \"VBP\":\n",
    "                if modalVerb:\n",
    "                    count += 1\n",
    "                    foundSuggestion = True\n",
    "                    break\n",
    "            elif word[1] == \".\":\n",
    "                phraseList = {\"have more\", \"suggestion\", \"perhaps\", \"better if\"}\n",
    "                endSentence = False\n",
    "                for phrase in phraseList:\n",
    "                    if (phrase in comment):\n",
    "                        count += 1\n",
    "                        foundSuggestion = True\n",
    "                        endSentence = True\n",
    "                        break\n",
    "                if endSentence:\n",
    "                    break\n",
    "            modalVerb = False\n",
    "        if (foundSuggestion):\n",
    "            break\n",
    "    actual = df[label_col][loop]\n",
    "    if (foundSuggestion):\n",
    "        predictions.append(1)\n",
    "    else:\n",
    "        predictions.append(0)\n",
    "    if (actual == '1' or actual == 1.0):\n",
    "        labels.append(1)\n",
    "    else:\n",
    "        labels.append(0)\n",
    "    count = 0"
   ]
  },
  {
   "cell_type": "code",
   "execution_count": 208,
   "metadata": {},
   "outputs": [
    {
     "name": "stdout",
     "output_type": "stream",
     "text": [
      "Confusion Matrix:\n",
      "[[1107  832]\n",
      " [1124  815]]\n",
      "             precision    recall  f1-score   support\n",
      "\n",
      "      False       0.50      0.57      0.53      1939\n",
      "       True       0.49      0.42      0.45      1939\n",
      "\n",
      "avg / total       0.50      0.50      0.49      3878\n",
      "\n",
      "True Negative: 1107\n",
      "False Negative: 1124\n",
      "True Positive: 815\n",
      "False Positive: 832\n"
     ]
    },
    {
     "data": {
      "image/png": "[encoded data removed]",
      "text/plain": [
       "<Figure size 432x288 with 2 Axes>"
      ]
     },
     "metadata": {},
     "output_type": "display_data"
    }
   ],
   "source": [
    "## Graphical visualization\n",
    "cnf_matrix = confusion_matrix(labels, predictions)\n",
    "plt.figure()\n",
    "class_names = ['False, True']\n",
    "plot_confusion_matrix(cnf_matrix, classes=['False', 'True'],\n",
    "                      Y_test = labels, predictions = predictions,\n",
    "                      title='Confusion matrix')"
   ]
  },
  {
   "cell_type": "markdown",
   "metadata": {},
   "source": [
    "## Multinomial Naive Bayes classifier:"
   ]
  },
  {
   "cell_type": "code",
   "execution_count": 7,
   "metadata": {},
   "outputs": [],
   "source": [
    "#### Multinomial Naive Bayes !!! STEMMING IMPROVES 2% !!!\n",
    "# text_clf = Pipeline([('vect', CountVectorizer(stop_words='english')),\n",
    "text_clf = Pipeline([('vect', CountVectorizer()),\n",
    " ('tfidf', TfidfTransformer()),\n",
    " ('clf', MultinomialNB()),\n",
    "])"
   ]
  },
  {
   "cell_type": "code",
   "execution_count": 8,
   "metadata": {},
   "outputs": [],
   "source": [
    "text_clf = text_clf.fit(X_train,Y_train)"
   ]
  },
  {
   "cell_type": "code",
   "execution_count": 9,
   "metadata": {},
   "outputs": [
    {
     "name": "stdout",
     "output_type": "stream",
     "text": [
      "Accuracy: 0.783025325119781\n",
      "[[501 205]\n",
      " [112 643]]\n"
     ]
    }
   ],
   "source": [
    "predicted = text_clf.predict(X_test)\n",
    "accuracy = np.mean(predicted == Y_test)\n",
    "print(\"Accuracy:\", accuracy)\n",
    "cm = confusion_matrix(Y_test, predicted)\n",
    "print(cm)"
   ]
  },
  {
   "cell_type": "code",
   "execution_count": 10,
   "metadata": {},
   "outputs": [
    {
     "name": "stdout",
     "output_type": "stream",
     "text": [
      "Confusion Matrix:\n",
      "[[501 205]\n",
      " [112 643]]\n",
      "             precision    recall  f1-score   support\n",
      "\n",
      "      False       0.82      0.71      0.76       706\n",
      "       True       0.76      0.85      0.80       755\n",
      "\n",
      "avg / total       0.79      0.78      0.78      1461\n",
      "\n",
      "True Negative: 501\n",
      "False Negative: 112\n",
      "True Positive: 643\n",
      "False Positive: 205\n"
     ]
    },
    {
     "data": {
      "image/png": "[encoded data removed]",
      "text/plain": [
       "<Figure size 432x288 with 2 Axes>"
      ]
     },
     "metadata": {},
     "output_type": "display_data"
    }
   ],
   "source": [
    "## Graphical visualization\n",
    "cnf_matrix = confusion_matrix(Y_test, predicted)\n",
    "plt.figure()\n",
    "class_names = ['False, True']\n",
    "plot_confusion_matrix(cnf_matrix, classes=['False', 'True'],\n",
    "                      Y_test = Y_test, predictions = predicted,\n",
    "                      title='Confusion matrix')"
   ]
  },
  {
   "cell_type": "markdown",
   "metadata": {},
   "source": [
    "## Support Vector Machine classifier:"
   ]
  },
  {
   "cell_type": "code",
   "execution_count": 11,
   "metadata": {},
   "outputs": [],
   "source": [
    "#### Support Vector Machine !!! STEMMING REDUCES 2% !!!\n",
    "text_clf_svm = Pipeline([('vect', CountVectorizer()),\n",
    "                         ('tfidf', TfidfTransformer()),\n",
    "                         ('clf-svm', SGDClassifier(loss='hinge',\n",
    "                                                  penalty='l2',\n",
    "                                                  max_iter=5,\n",
    "                                                  random_state=42)), \n",
    "                    ])"
   ]
  },
  {
   "cell_type": "code",
   "execution_count": 12,
   "metadata": {},
   "outputs": [],
   "source": [
    "_ = text_clf_svm.fit(X_train,Y_train)"
   ]
  },
  {
   "cell_type": "code",
   "execution_count": 13,
   "metadata": {},
   "outputs": [
    {
     "name": "stdout",
     "output_type": "stream",
     "text": [
      "Accuracy: 0.8350444900752909\n"
     ]
    }
   ],
   "source": [
    "predicted_svm = text_clf_svm.predict(X_test)\n",
    "accuracy = np.mean(predicted_svm == Y_test)\n",
    "print(\"Accuracy:\", accuracy)"
   ]
  },
  {
   "cell_type": "code",
   "execution_count": 14,
   "metadata": {},
   "outputs": [
    {
     "name": "stdout",
     "output_type": "stream",
     "text": [
      "Confusion Matrix:\n",
      "[[557 149]\n",
      " [ 92 663]]\n",
      "             precision    recall  f1-score   support\n",
      "\n",
      "      False       0.86      0.79      0.82       706\n",
      "       True       0.82      0.88      0.85       755\n",
      "\n",
      "avg / total       0.84      0.84      0.83      1461\n",
      "\n",
      "True Negative: 557\n",
      "False Negative: 92\n",
      "True Positive: 663\n",
      "False Positive: 149\n"
     ]
    },
    {
     "data": {
      "image/png": "[encoded data removed]",
      "text/plain": [
       "<Figure size 432x288 with 2 Axes>"
      ]
     },
     "metadata": {},
     "output_type": "display_data"
    }
   ],
   "source": [
    "## Graphical visualization\n",
    "cnf_matrix = confusion_matrix(Y_test, predicted_svm)\n",
    "plt.figure()\n",
    "class_names = ['False, True']\n",
    "plot_confusion_matrix(cnf_matrix, classes=['False', 'True'],\n",
    "                      Y_test = Y_test, predictions = predicted_svm,\n",
    "                      title='Confusion matrix')"
   ]
  },
  {
   "cell_type": "markdown",
   "metadata": {},
   "source": [
    "## Gridsearch classifier:"
   ]
  },
  {
   "cell_type": "code",
   "execution_count": 15,
   "metadata": {},
   "outputs": [],
   "source": [
    "#### Gridsearch\n",
    "from sklearn.model_selection import GridSearchCV\n",
    "parameters = {'vect__ngram_range': [(1, 1), (1, 2)],\n",
    "              'tfidf__use_idf': (True, False),\n",
    "              'clf-svm__alpha': (1e-2, 1e-3),\n",
    "    }"
   ]
  },
  {
   "cell_type": "code",
   "execution_count": 16,
   "metadata": {},
   "outputs": [],
   "source": [
    "## Can use on previous svm or bayes classifier\n",
    "gs_clf = GridSearchCV(text_clf_svm, parameters, n_jobs=-1)\n",
    "gs_clf = gs_clf.fit(X_train,Y_train)\n",
    "predicted_gs = gs_clf.predict(X_test)\n",
    "accuracy = np.mean(predicted_gs == Y_test)"
   ]
  },
  {
   "cell_type": "code",
   "execution_count": 17,
   "metadata": {},
   "outputs": [
    {
     "name": "stdout",
     "output_type": "stream",
     "text": [
      "Grid search best score: 0.8197444478247642\n",
      "{'clf-svm__alpha': 0.001, 'tfidf__use_idf': True, 'vect__ngram_range': (1, 1)}\n",
      "Accuracy: 0.8186173853524983\n"
     ]
    }
   ],
   "source": [
    "print(\"Grid search best score:\", gs_clf.best_score_)\n",
    "print(gs_clf.best_params_)\n",
    "print(\"Accuracy:\", accuracy)"
   ]
  },
  {
   "cell_type": "code",
   "execution_count": 18,
   "metadata": {},
   "outputs": [
    {
     "name": "stdout",
     "output_type": "stream",
     "text": [
      "Confusion Matrix:\n",
      "[[537 169]\n",
      " [ 96 659]]\n",
      "             precision    recall  f1-score   support\n",
      "\n",
      "      False       0.85      0.76      0.80       706\n",
      "       True       0.80      0.87      0.83       755\n",
      "\n",
      "avg / total       0.82      0.82      0.82      1461\n",
      "\n",
      "True Negative: 537\n",
      "False Negative: 96\n",
      "True Positive: 659\n",
      "False Positive: 169\n"
     ]
    },
    {
     "data": {
      "image/png": "[encoded data removed]",
      "text/plain": [
       "<Figure size 432x288 with 2 Axes>"
      ]
     },
     "metadata": {},
     "output_type": "display_data"
    }
   ],
   "source": [
    "## Graphical visualization\n",
    "cnf_matrix = confusion_matrix(Y_test, predicted_gs)\n",
    "plt.figure()\n",
    "class_names = ['False, True']\n",
    "plot_confusion_matrix(cnf_matrix, classes=['False', 'True'],\n",
    "                      Y_test = Y_test, predictions = predicted_gs,\n",
    "                      title='Confusion matrix')"
   ]
  },
  {
   "cell_type": "markdown",
   "metadata": {},
   "source": [
    "## Combined Scores of Above"
   ]
  },
  {
   "cell_type": "code",
   "execution_count": 19,
   "metadata": {},
   "outputs": [],
   "source": [
    "## Ensemble classification\n",
    "# p1 = predictions\n",
    "p2 = predicted\n",
    "p3 = predicted_svm\n",
    "p4 = predicted_gs\n",
    "pall = []\n",
    "p_test = []\n",
    "# print(len(p2))\n",
    "# print(len(p3))\n",
    "# print(len(p4))\n",
    "for i in range(len(p2)):\n",
    "    if p2[i] == 0:\n",
    "        p2[i] = -1\n",
    "    if p3[i] == 0:\n",
    "        p3[i] = -1\n",
    "    if p4[i] == 0:\n",
    "        p4[i] = -1\n",
    "for i in range(len(p2)):\n",
    "    lab = p2[i] + p3[i] + p4[i]\n",
    "    if lab >= 0:\n",
    "        lab = 1\n",
    "    else:\n",
    "        lab = 0\n",
    "    pall.append(lab)"
   ]
  },
  {
   "cell_type": "code",
   "execution_count": 20,
   "metadata": {},
   "outputs": [
    {
     "name": "stdout",
     "output_type": "stream",
     "text": [
      "Confusion Matrix:\n",
      "[[542 164]\n",
      " [ 97 658]]\n",
      "             precision    recall  f1-score   support\n",
      "\n",
      "      False       0.85      0.77      0.81       706\n",
      "       True       0.80      0.87      0.83       755\n",
      "\n",
      "avg / total       0.82      0.82      0.82      1461\n",
      "\n",
      "True Negative: 542\n",
      "False Negative: 97\n",
      "True Positive: 658\n",
      "False Positive: 164\n"
     ]
    },
    {
     "data": {
      "image/png": "[encoded data removed]",
      "text/plain": [
       "<Figure size 432x288 with 2 Axes>"
      ]
     },
     "metadata": {},
     "output_type": "display_data"
    }
   ],
   "source": [
    "cnf_matrix = confusion_matrix(Y_test, pall)\n",
    "plt.figure()\n",
    "class_names = ['False, True']\n",
    "plot_confusion_matrix(cnf_matrix, classes=['False', 'True'],\n",
    "                      Y_test = Y_test, predictions = pall,\n",
    "                      title='Confusion matrix')"
   ]
  },
  {
   "cell_type": "markdown",
   "metadata": {},
   "source": [
    "## Tensorflow/Keras Classifier"
   ]
  },
  {
   "cell_type": "markdown",
   "metadata": {},
   "source": [
    "#### Create a numeric version of this text data set if not present (uncomment below if to do so). Also determines length of vocabulary to use for embedding layer size:"
   ]
  },
  {
   "cell_type": "code",
   "execution_count": 7,
   "metadata": {},
   "outputs": [],
   "source": [
    "# Create the word mappings\n",
    "def bagofwords():\n",
    "    num_data = len(df)\n",
    "    a = []\n",
    "    loop = 0\n",
    "    for loop in range(num_data):\n",
    "        if (loop % 50000 == 0): # For larger datasets\n",
    "            print(\"Update:\", loop) # Check spot in dictionary creator\n",
    "        comment = df[data_col][loop]\n",
    "        sentTok = nltk.sent_tokenize(comment)\n",
    "        for sentence in sentTok:\n",
    "            a.append(sentence)    \n",
    "    a = (' '.join(a)).lower()\n",
    "    text = nltk.word_tokenize(a)\n",
    "    newset = set()\n",
    "    for word in text:\n",
    "        newset.add(word)\n",
    "    # Fill in found words\n",
    "    word_to_ix = { w:(i+4) for i,w in enumerate(sorted(newset)) }\n",
    "    ix_to_word = { (i+4):w for i,w in enumerate(sorted(newset)) }\n",
    "    # Fill in reserved values\n",
    "    ix_to_word[0] = \"<PAD>\"\n",
    "    ix_to_word[1] = \"<START>\"\n",
    "    ix_to_word[2] = \"<UNK>\"\n",
    "    ix_to_word[3] = \"<UNUSED>\"\n",
    "    word_to_ix[\"<PAD>\"] = 0 # Used to equalize text length\n",
    "    word_to_ix[\"<START>\"] = 1\n",
    "    word_to_ix[\"<UNK>\"] = 2  # unknown value\n",
    "    word_to_ix[\"<UNUSED>\"] = 3\n",
    "    return word_to_ix, ix_to_word"
   ]
  },
  {
   "cell_type": "code",
   "execution_count": 8,
   "metadata": {},
   "outputs": [
    {
     "name": "stdout",
     "output_type": "stream",
     "text": [
      "Update: 0\n",
      "Size of vocabulary: 12190\n"
     ]
    }
   ],
   "source": [
    "word_to_ix, ix_to_word = bagofwords()\n",
    "# print(ix_to_word[3853])\n",
    "# print(word_to_ix[\"please\"]) # Ensure word is in dictionary\n",
    "print(\"Size of vocabulary:\", len(ix_to_word))"
   ]
  },
  {
   "cell_type": "markdown",
   "metadata": {},
   "source": [
    "##### An update text will be printed in order to keep track of the conversion process."
   ]
  },
  {
   "cell_type": "code",
   "execution_count": 29,
   "metadata": {},
   "outputs": [],
   "source": [
    "## Convert original data to number representations\n",
    "if (re_read == 1):\n",
    "    num_data = len(df)\n",
    "    loop = 0\n",
    "    converted_text_data = []\n",
    "    print(\"Total to print:\", num_data)\n",
    "    for loop in range(num_data):\n",
    "        if (loop % 50000 == 0): # For larger datasets\n",
    "            print(\"Update:\", loop) # Check spot in converter\n",
    "        comment = df[data_col][loop]\n",
    "        if isinstance(comment, str) == False: # Skip missing text from dataset if present\n",
    "            continue\n",
    "        comment = comment.lower()\n",
    "        text = nltk.word_tokenize(comment)\n",
    "        length = len(text)\n",
    "        i = 0\n",
    "        for i in range(length):\n",
    "            try:\n",
    "                text[i] = word_to_ix[text[i]]\n",
    "            except KeyError:\n",
    "                text[i] = 2 # Unknown mapping\n",
    "        text = [int(i) for i in text]\n",
    "        converted_text_data.append(text)"
   ]
  },
  {
   "cell_type": "code",
   "execution_count": 30,
   "metadata": {},
   "outputs": [],
   "source": [
    "if (re_read == 1):\n",
    "    with open(file_out, 'w', newline = '') as f:\n",
    "        writer = csv.writer(f)\n",
    "        writer.writerow([data_col, label_col])\n",
    "        i = 0\n",
    "        for i in range(num_data):\n",
    "            if (i % 50000 == 0): # For larger datasets\n",
    "                print(\"Update:\", i) # Check spot in converter\n",
    "            rev = converted_text_data[i]\n",
    "            label = df[label_col][i]\n",
    "            if (label != 1):\n",
    "                label = 0\n",
    "            writer.writerow([rev, label])"
   ]
  },
  {
   "cell_type": "code",
   "execution_count": 31,
   "metadata": {},
   "outputs": [],
   "source": [
    "if (re_read == 1):\n",
    "    print(len(df))\n",
    "    print(len(converted_text_data))"
   ]
  },
  {
   "cell_type": "markdown",
   "metadata": {},
   "source": [
    "#### Read in the converted text to number dataset, shuffle data, and run the classifier:"
   ]
  },
  {
   "cell_type": "code",
   "execution_count": 9,
   "metadata": {},
   "outputs": [
    {
     "name": "stdout",
     "output_type": "stream",
     "text": [
      "problems_expertiza_all_converted.csv\n",
      "Comments            object\n",
      "Mentions_Problem     int64\n",
      "dtype: object\n",
      "Sample size: 14609\n"
     ]
    }
   ],
   "source": [
    "df = pd.read_csv(file_out, engine = 'python');\n",
    "print(file_out)\n",
    "print(df.dtypes)\n",
    "np.random.seed(42) # Keep permutation assortment the same\n",
    "df = df.iloc[np.random.permutation(len(df))]\n",
    "df = df.reset_index(drop=True)\n",
    "print(\"Sample size:\", len(df))"
   ]
  },
  {
   "cell_type": "code",
   "execution_count": 10,
   "metadata": {},
   "outputs": [
    {
     "name": "stdout",
     "output_type": "stream",
     "text": [
      "Dataset length: 14609\n"
     ]
    }
   ],
   "source": [
    "## Parses the integer list data from file into a proper integer list for the classifier\n",
    "full_data = []\n",
    "for dat in df[data_col]:\n",
    "    paragraph = []\n",
    "    sentence = []\n",
    "    for letter in dat:\n",
    "        if (letter == '[' or letter == ']' or letter == ' '):\n",
    "            continue\n",
    "        elif (letter == ','):\n",
    "            sentence = (''.join(sentence))\n",
    "            paragraph.append(sentence)\n",
    "            sentence = []\n",
    "        else:\n",
    "            sentence.append(letter)\n",
    "    paragraph = [int(i) for i in paragraph]\n",
    "    full_data.append(paragraph)\n",
    "print(\"Dataset length:\", len(full_data))"
   ]
  },
  {
   "cell_type": "code",
   "execution_count": 11,
   "metadata": {},
   "outputs": [
    {
     "name": "stdout",
     "output_type": "stream",
     "text": [
      "Number train data: 13148\n",
      "Number test data: 1461\n"
     ]
    }
   ],
   "source": [
    "## Initialize train and test data, train and test labels\n",
    "num_data = len(df)\n",
    "num_train = int(num_data * 0.9) # df.head this amount\n",
    "num_test = int(num_data - num_train) # df.tail this amount\n",
    "train_data = full_data[:num_train]\n",
    "test_data = full_data[num_train:]\n",
    "train_labels = df[label_col].head(num_train) # is_prompt_exists\n",
    "test_labels = df[label_col].tail(num_test)\n",
    "print(\"Number train data:\", len(train_data))\n",
    "print(\"Number test data:\", len(test_data))"
   ]
  },
  {
   "cell_type": "code",
   "execution_count": 12,
   "metadata": {},
   "outputs": [
    {
     "name": "stdout",
     "output_type": "stream",
     "text": [
      "Max text length: 1344\n",
      "Average text length: 33.45779998630981\n",
      "Median text length: 24.0\n"
     ]
    }
   ],
   "source": [
    "## Find the maximum sentence length to use for padding training data\n",
    "maxlength = 0\n",
    "data_lengths = []\n",
    "for i in range(len(full_data)):\n",
    "    data_lengths.append(len(full_data[i]))\n",
    "    maxlength = max(len(full_data[i]), maxlength)\n",
    "#     if maxlength > 4000:\n",
    "#         print(i)\n",
    "print(\"Max text length:\", maxlength)\n",
    "print(\"Average text length:\", np.average(data_lengths))\n",
    "print(\"Median text length:\", np.median(data_lengths))"
   ]
  },
  {
   "cell_type": "code",
   "execution_count": 13,
   "metadata": {},
   "outputs": [
    {
     "name": "stdout",
     "output_type": "stream",
     "text": [
      "14609\n",
      "3\n"
     ]
    }
   ],
   "source": [
    "numabove = 0\n",
    "for i in range(len(data_lengths)):\n",
    "    if (data_lengths[i] > 300):\n",
    "        numabove = numabove + 1\n",
    "print(len(data_lengths))\n",
    "print(numabove)\n",
    "maxlengths = 250 # Create a function later to determine based on proportion\n",
    "maxlength = 300 #### Changed"
   ]
  },
  {
   "cell_type": "code",
   "execution_count": 14,
   "metadata": {},
   "outputs": [],
   "source": [
    "## Pad the words to standardized text array length\n",
    "train_data = keras.preprocessing.sequence.pad_sequences(train_data,\n",
    "                                                       value=word_to_ix[\"<PAD>\"],\n",
    "                                                       padding='post',\n",
    "                                                       maxlen=maxlength)\n",
    "\n",
    "test_data = keras.preprocessing.sequence.pad_sequences(test_data,\n",
    "                                                      value=word_to_ix[\"<PAD>\"],\n",
    "                                                      padding='post',\n",
    "                                                      maxlen=maxlength)"
   ]
  },
  {
   "cell_type": "code",
   "execution_count": 15,
   "metadata": {},
   "outputs": [
    {
     "name": "stdout",
     "output_type": "stream",
     "text": [
      "Training data length: 11833\n",
      "Validation data length: 1315\n"
     ]
    }
   ],
   "source": [
    "## Initiate validation sets\n",
    "val_size = int(num_train * 0.9) # Set apart 10% of train data for validation\n",
    "\n",
    "x_val = train_data[:num_train-val_size]\n",
    "partial_x_train = train_data[num_train-val_size:]\n",
    "\n",
    "y_val = train_labels[:num_train-val_size]\n",
    "partial_y_train = train_labels[num_train-val_size:]\n",
    "\n",
    "print(\"Training data length:\", len(partial_x_train))\n",
    "print(\"Validation data length:\",len(x_val))"
   ]
  },
  {
   "cell_type": "code",
   "execution_count": 21,
   "metadata": {},
   "outputs": [
    {
     "name": "stdout",
     "output_type": "stream",
     "text": [
      "Vocabulary size: 12190\n",
      "_________________________________________________________________\n",
      "Layer (type)                 Output Shape              Param #   \n",
      "=================================================================\n",
      "embedding_6 (Embedding)      (None, None, 32)          390080    \n",
      "_________________________________________________________________\n",
      "conv1d_5 (Conv1D)            (None, None, 32)          2080      \n",
      "_________________________________________________________________\n",
      "dropout_9 (Dropout)          (None, None, 32)          0         \n",
      "_________________________________________________________________\n",
      "bidirectional_5 (Bidirection (None, 32)                6272      \n",
      "_________________________________________________________________\n",
      "dropout_10 (Dropout)         (None, 32)                0         \n",
      "_________________________________________________________________\n",
      "dense_6 (Dense)              (None, 1)                 33        \n",
      "=================================================================\n",
      "Total params: 398,465\n",
      "Trainable params: 398,465\n",
      "Non-trainable params: 0\n",
      "_________________________________________________________________\n"
     ]
    }
   ],
   "source": [
    "## Create the model\n",
    "import operator # Finding vocabulary length, max dictionary index + 1\n",
    "vocab_size = max(ix_to_word.items(), key=operator.itemgetter(1))[0] + 1\n",
    "print(\"Vocabulary size:\", vocab_size)\n",
    "\n",
    "model = keras.Sequential()\n",
    "model.add(keras.layers.Embedding(vocab_size, 32))\n",
    "model.add(keras.layers.Conv1D(32,2))\n",
    "model.add(keras.layers.Dropout(0.3))\n",
    "model.add(keras.layers.Bidirectional(keras.layers.LSTM(units=(16))))\n",
    "# model.add(keras.layers.Dropout(0.3))\n",
    "# model.add(keras.layers.GlobalAveragePooling1D())\n",
    "# model.add(keras.layers.Dense(32, activation=tf.nn.relu))\n",
    "model.add(keras.layers.Dropout(0.3))\n",
    "model.add(keras.layers.Dense(1, activation=tf.nn.sigmoid))\n",
    "\n",
    "model.summary()"
   ]
  },
  {
   "cell_type": "code",
   "execution_count": 22,
   "metadata": {},
   "outputs": [],
   "source": [
    "## Configured model with optimizer and loss function\n",
    "model.compile(optimizer = tf.train.AdamOptimizer(),\n",
    "             loss = 'binary_crossentropy',\n",
    "             metrics=['accuracy'])"
   ]
  },
  {
   "cell_type": "code",
   "execution_count": 23,
   "metadata": {},
   "outputs": [
    {
     "name": "stdout",
     "output_type": "stream",
     "text": [
      "Train on 11833 samples, validate on 1315 samples\n",
      "Epoch 1/5\n",
      "11833/11833 [==============================] - 37s 3ms/step - loss: 0.6041 - acc: 0.6658 - val_loss: 0.4561 - val_acc: 0.7924\n",
      "Epoch 2/5\n",
      "11833/11833 [==============================] - 35s 3ms/step - loss: 0.4252 - acc: 0.8246 - val_loss: 0.4233 - val_acc: 0.8198\n",
      "Epoch 3/5\n",
      "11833/11833 [==============================] - 36s 3ms/step - loss: 0.3647 - acc: 0.8618 - val_loss: 0.4280 - val_acc: 0.8236\n",
      "Epoch 4/5\n",
      "11833/11833 [==============================] - 35s 3ms/step - loss: 0.3252 - acc: 0.8809 - val_loss: 0.4305 - val_acc: 0.8236\n",
      "Epoch 5/5\n",
      "11833/11833 [==============================] - 34s 3ms/step - loss: 0.3036 - acc: 0.8895 - val_loss: 0.4469 - val_acc: 0.8160\n"
     ]
    }
   ],
   "source": [
    "## Train the model\n",
    "history = model.fit(partial_x_train,\n",
    "                   partial_y_train,\n",
    "                   epochs=5,\n",
    "                   batch_size=125,\n",
    "                   validation_data=(x_val, y_val),\n",
    "                   verbose=1)"
   ]
  },
  {
   "cell_type": "code",
   "execution_count": 84,
   "metadata": {},
   "outputs": [],
   "source": [
    "# Mask: 708537/708537 [==============================] - 297s 420us/step - loss: 0.6572 - acc: 0.6442 - val_loss: 0.5878 - val_acc: 0.7003\n",
    "# No-Mask: 708537/708537 [==============================] - 281s 397us/step - loss: 0.6633 - acc: 0.6286 - val_loss: 0.5946 - val_acc: 0.7131"
   ]
  },
  {
   "cell_type": "code",
   "execution_count": 69,
   "metadata": {
    "scrolled": true
   },
   "outputs": [
    {
     "name": "stdout",
     "output_type": "stream",
     "text": [
      "785/785 [==============================] - 0s 23us/step\n",
      "Test loss: 0.4532169457453831\n",
      "Test accuracy: 0.8178343952841061\n"
     ]
    }
   ],
   "source": [
    "## Evaluate the model\n",
    "predicted_nn = model.predict_classes(test_data)\n",
    "results = model.evaluate(test_data, test_labels)\n",
    "print(\"Test loss:\", results[0])\n",
    "print(\"Test accuracy:\", results[1])"
   ]
  },
  {
   "cell_type": "code",
   "execution_count": 70,
   "metadata": {
    "scrolled": true
   },
   "outputs": [
    {
     "name": "stdout",
     "output_type": "stream",
     "text": [
      "Confusion Matrix:\n",
      "[[336  76]\n",
      " [ 67 306]]\n",
      "             precision    recall  f1-score   support\n",
      "\n",
      "      False       0.83      0.82      0.82       412\n",
      "       True       0.80      0.82      0.81       373\n",
      "\n",
      "avg / total       0.82      0.82      0.82       785\n",
      "\n",
      "True Negative: 336\n",
      "False Negative: 67\n",
      "True Positive: 306\n",
      "False Positive: 76\n"
     ]
    },
    {
     "data": {
      "image/png": "[encoded data removed]",
      "text/plain": [
       "<Figure size 432x288 with 2 Axes>"
      ]
     },
     "metadata": {},
     "output_type": "display_data"
    }
   ],
   "source": [
    "## Graphical visualization\n",
    "cnf_matrix = confusion_matrix(test_labels, predicted_nn)\n",
    "plt.figure()\n",
    "class_names = ['False, True']\n",
    "plot_confusion_matrix(cnf_matrix, classes=['False', 'True'],\n",
    "                      Y_test = test_labels, predictions = predicted_nn,\n",
    "                      title='Confusion matrix')"
   ]
  },
  {
   "cell_type": "code",
   "execution_count": 68,
   "metadata": {},
   "outputs": [],
   "source": [
    "## Save the model for future reference\n",
    "# model.save('politness_chromium_1A.h5')"
   ]
  },
  {
   "cell_type": "code",
   "execution_count": 69,
   "metadata": {},
   "outputs": [],
   "source": [
    "# new_model = keras.models.load_model(Insert File Name Here)\n",
    "# new_model.summary()"
   ]
  },
  {
   "cell_type": "code",
   "execution_count": 70,
   "metadata": {},
   "outputs": [],
   "source": [
    "# new_model.compile(optimizer = tf.train.AdamOptimizer(),\n",
    "#              loss = 'binary_crossentropy',\n",
    "#              metrics=['accuracy'])\n",
    "# loss2, acc2 = new_model.evaluate(test_data, test_labels)\n",
    "# print(\"Loss:\", loss2)\n",
    "# print(\"Accuracy:\", acc2)"
   ]
  },
  {
   "cell_type": "code",
   "execution_count": 71,
   "metadata": {},
   "outputs": [
    {
     "data": {
      "text/plain": [
       "dict_keys(['val_loss', 'val_acc', 'loss', 'acc'])"
      ]
     },
     "execution_count": 71,
     "metadata": {},
     "output_type": "execute_result"
    }
   ],
   "source": [
    "## Graph the data\n",
    "history_dict = history.history\n",
    "history_dict.keys()"
   ]
  },
  {
   "cell_type": "code",
   "execution_count": 72,
   "metadata": {},
   "outputs": [
    {
     "data": {
      "image/png": "[encoded data removed]",
      "text/plain": [
       "<Figure size 432x288 with 1 Axes>"
      ]
     },
     "metadata": {},
     "output_type": "display_data"
    }
   ],
   "source": [
    "## Visualize training and validation loss\n",
    "acc = history.history['acc']\n",
    "val_acc = history.history['val_acc']\n",
    "loss = history.history['loss']\n",
    "val_loss = history.history['val_loss']\n",
    "\n",
    "epochs = range(1, len(acc) + 1)\n",
    "\n",
    "# \"bo\" is for \"blue dot\"\n",
    "plt.plot(epochs, loss, 'bo', label='Training loss')\n",
    "# b is for \"solid blue line\"\n",
    "plt.plot(epochs, val_loss, 'b', label='Validation loss')\n",
    "plt.title('Training and validation loss')\n",
    "plt.xlabel('Epochs')\n",
    "plt.ylabel('Loss')\n",
    "plt.legend()\n",
    "\n",
    "plt.show()"
   ]
  },
  {
   "cell_type": "code",
   "execution_count": 73,
   "metadata": {},
   "outputs": [
    {
     "data": {
      "image/png": "[encoded data removed]",
      "text/plain": [
       "<Figure size 432x288 with 1 Axes>"
      ]
     },
     "metadata": {},
     "output_type": "display_data"
    }
   ],
   "source": [
    "## Visualize training and validation accuracy\n",
    "plt.clf()   # clear figure\n",
    "acc_values = history_dict['acc']\n",
    "val_acc_values = history_dict['val_acc']\n",
    "\n",
    "plt.plot(epochs, acc, 'bo', label='Training acc')\n",
    "plt.plot(epochs, val_acc, 'b', label='Validation acc')\n",
    "plt.title('Training and validation accuracy')\n",
    "plt.xlabel('Epochs')\n",
    "plt.ylabel('Accuracy')\n",
    "plt.legend()\n",
    "\n",
    "plt.show()"
   ]
  },
  {
   "cell_type": "markdown",
   "metadata": {},
   "source": [
    "#### Citation for parts of keras model\n",
    "#@title MIT License\n",
    "'#\n",
    "'# Copyright (c) 2017 François Chollet\n",
    "'#\n",
    "'# Permission is hereby granted, free of charge, to any person obtaining a\n",
    "'# copy of this software and associated documentation files (the \"Software\"),\n",
    "'# to deal in the Software without restriction, including without limitation\n",
    "'# the rights to use, copy, modify, merge, publish, distribute, sublicense,\n",
    "'# and/or sell copies of the Software, and to permit persons to whom the\n",
    "'# Software is furnished to do so, subject to the following conditions:\n",
    "'#\n",
    "'# The above copyright notice and this permission notice shall be included in\n",
    "'# all copies or substantial portions of the Software."
   ]
  },
  {
   "cell_type": "code",
   "execution_count": null,
   "metadata": {},
   "outputs": [],
   "source": []
  }
 ],
 "metadata": {
  "kernelspec": {
   "display_name": "Python 3",
   "language": "python",
   "name": "python3"
  },
  "language_info": {
   "codemirror_mode": {
    "name": "ipython",
    "version": 3
   },
   "file_extension": ".py",
   "mimetype": "text/x-python",
   "name": "python",
   "nbconvert_exporter": "python",
   "pygments_lexer": "ipython3",
   "version": "3.6.8"
  }
 },
 "nbformat": 4,
 "nbformat_minor": 2
}
