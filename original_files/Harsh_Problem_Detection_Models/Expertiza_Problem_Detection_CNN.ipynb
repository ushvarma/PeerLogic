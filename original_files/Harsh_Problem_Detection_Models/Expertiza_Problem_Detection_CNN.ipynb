{
  "nbformat": 4,
  "nbformat_minor": 0,
  "metadata": {
    "colab": {
      "name": "Expertiza_Problem_Detection_CNN.ipynb",
      "provenance": [],
      "collapsed_sections": []
    },
    "kernelspec": {
      "name": "python3",
      "display_name": "Python 3"
    },
    "accelerator": "GPU"
  },
  "cells": [
    {
      "cell_type": "code",
      "metadata": {
        "id": "WDzZlGjqiLjf",
        "colab_type": "code",
        "colab": {}
      },
      "source": [
        "# Reading data from CSV"
      ],
      "execution_count": 0,
      "outputs": []
    },
    {
      "cell_type": "code",
      "metadata": {
        "id": "OKADcDuelsUP",
        "colab_type": "code",
        "outputId": "c143700a-ef26-490d-c8a0-57134b08b985",
        "colab": {
          "base_uri": "https://localhost:8080/",
          "height": 131
        }
      },
      "source": [
        "from google.colab import drive\n",
        "drive.mount('/content/gdrive')"
      ],
      "execution_count": 0,
      "outputs": [
        {
          "output_type": "stream",
          "text": [
            "Go to this URL in a browser: https://accounts.google.com/o/oauth2/auth?client_id=947318989803-6bn6qk8qdgf4n4g3pfee6491hc0brc4i.apps.googleusercontent.com&redirect_uri=urn%3Aietf%3Awg%3Aoauth%3A2.0%3Aoob&scope=email%20https%3A%2F%2Fwww.googleapis.com%2Fauth%2Fdocs.test%20https%3A%2F%2Fwww.googleapis.com%2Fauth%2Fdrive%20https%3A%2F%2Fwww.googleapis.com%2Fauth%2Fdrive.photos.readonly%20https%3A%2F%2Fwww.googleapis.com%2Fauth%2Fpeopleapi.readonly&response_type=code\n",
            "\n",
            "Enter your authorization code:\n",
            "··········\n",
            "Mounted at /content/gdrive\n"
          ],
          "name": "stdout"
        }
      ]
    },
    {
      "cell_type": "code",
      "metadata": {
        "id": "mD4siiFti1A6",
        "colab_type": "code",
        "colab": {}
      },
      "source": [
        "!cp gdrive/My\\ Drive/AI-In-Peer-Assessment/problems_expertiza_merged_gabe.csv ."
      ],
      "execution_count": 0,
      "outputs": []
    },
    {
      "cell_type": "code",
      "metadata": {
        "id": "w6_u3Mmcl1EB",
        "colab_type": "code",
        "outputId": "7138bec2-92fc-4f2e-a577-00030922d5c0",
        "colab": {
          "base_uri": "https://localhost:8080/",
          "height": 36
        }
      },
      "source": [
        "ls"
      ],
      "execution_count": 0,
      "outputs": [
        {
          "output_type": "stream",
          "text": [
            "\u001b[0m\u001b[01;34mgdrive\u001b[0m/  problems_expertiza_merged_gabe.csv  \u001b[01;34msample_data\u001b[0m/\n"
          ],
          "name": "stdout"
        }
      ]
    },
    {
      "cell_type": "code",
      "metadata": {
        "id": "Ypsi1OAPl3VJ",
        "colab_type": "code",
        "colab": {}
      },
      "source": [
        "import numpy as np\n",
        "\n",
        "# To store data\n",
        "import pandas as pd\n",
        "\n",
        "# To use regular expressions\n",
        "import re\n",
        "\n",
        "#To load and save data\n",
        "import pickle\n",
        "\n",
        "from sklearn.model_selection import train_test_split"
      ],
      "execution_count": 0,
      "outputs": []
    },
    {
      "cell_type": "code",
      "metadata": {
        "id": "GRm9aNTlmCJ4",
        "colab_type": "code",
        "colab": {}
      },
      "source": [
        "reviews = pd.read_csv(\"problems_expertiza_merged_gabe.csv\") "
      ],
      "execution_count": 0,
      "outputs": []
    },
    {
      "cell_type": "code",
      "metadata": {
        "id": "bvnWBw4kmHk8",
        "colab_type": "code",
        "outputId": "04b34c59-f321-4644-9914-8edf5b51a060",
        "colab": {
          "base_uri": "https://localhost:8080/",
          "height": 206
        }
      },
      "source": [
        "reviews.head(5)"
      ],
      "execution_count": 0,
      "outputs": [
        {
          "output_type": "execute_result",
          "data": {
            "text/html": [
              "<div>\n",
              "<style scoped>\n",
              "    .dataframe tbody tr th:only-of-type {\n",
              "        vertical-align: middle;\n",
              "    }\n",
              "\n",
              "    .dataframe tbody tr th {\n",
              "        vertical-align: top;\n",
              "    }\n",
              "\n",
              "    .dataframe thead th {\n",
              "        text-align: right;\n",
              "    }\n",
              "</style>\n",
              "<table border=\"1\" class=\"dataframe\">\n",
              "  <thead>\n",
              "    <tr style=\"text-align: right;\">\n",
              "      <th></th>\n",
              "      <th>TAG</th>\n",
              "      <th>REVIEW</th>\n",
              "    </tr>\n",
              "  </thead>\n",
              "  <tbody>\n",
              "    <tr>\n",
              "      <th>0</th>\n",
              "      <td>0</td>\n",
              "      <td>Great testing plan. They have worked on it ver...</td>\n",
              "    </tr>\n",
              "    <tr>\n",
              "      <th>1</th>\n",
              "      <td>0</td>\n",
              "      <td>Test plan is pretty good.</td>\n",
              "    </tr>\n",
              "    <tr>\n",
              "      <th>2</th>\n",
              "      <td>0</td>\n",
              "      <td>The test plan is good and covers every details...</td>\n",
              "    </tr>\n",
              "    <tr>\n",
              "      <th>3</th>\n",
              "      <td>1</td>\n",
              "      <td>The team has done good job in test plan sectio...</td>\n",
              "    </tr>\n",
              "    <tr>\n",
              "      <th>4</th>\n",
              "      <td>1</td>\n",
              "      <td>They have visualization which are some tables ...</td>\n",
              "    </tr>\n",
              "  </tbody>\n",
              "</table>\n",
              "</div>"
            ],
            "text/plain": [
              "   TAG                                             REVIEW\n",
              "0    0  Great testing plan. They have worked on it ver...\n",
              "1    0                          Test plan is pretty good.\n",
              "2    0  The test plan is good and covers every details...\n",
              "3    1  The team has done good job in test plan sectio...\n",
              "4    1  They have visualization which are some tables ..."
            ]
          },
          "metadata": {
            "tags": []
          },
          "execution_count": 6
        }
      ]
    },
    {
      "cell_type": "code",
      "metadata": {
        "id": "RrZqb5d-ITyp",
        "colab_type": "code",
        "colab": {}
      },
      "source": [
        "data = reviews.filter([\"REVIEW\",\"TAG\"])"
      ],
      "execution_count": 0,
      "outputs": []
    },
    {
      "cell_type": "code",
      "metadata": {
        "id": "hspQAVpiLEFL",
        "colab_type": "code",
        "colab": {}
      },
      "source": [
        "data = data.loc[data.REVIEW.apply(lambda x: not isinstance(x, (float, int)))]"
      ],
      "execution_count": 0,
      "outputs": []
    },
    {
      "cell_type": "code",
      "metadata": {
        "id": "t8f_7OiOInAI",
        "colab_type": "code",
        "outputId": "617a357b-7a5b-400a-ed09-738567e7ab36",
        "colab": {
          "base_uri": "https://localhost:8080/",
          "height": 206
        }
      },
      "source": [
        "data.head()"
      ],
      "execution_count": 0,
      "outputs": [
        {
          "output_type": "execute_result",
          "data": {
            "text/html": [
              "<div>\n",
              "<style scoped>\n",
              "    .dataframe tbody tr th:only-of-type {\n",
              "        vertical-align: middle;\n",
              "    }\n",
              "\n",
              "    .dataframe tbody tr th {\n",
              "        vertical-align: top;\n",
              "    }\n",
              "\n",
              "    .dataframe thead th {\n",
              "        text-align: right;\n",
              "    }\n",
              "</style>\n",
              "<table border=\"1\" class=\"dataframe\">\n",
              "  <thead>\n",
              "    <tr style=\"text-align: right;\">\n",
              "      <th></th>\n",
              "      <th>REVIEW</th>\n",
              "      <th>TAG</th>\n",
              "    </tr>\n",
              "  </thead>\n",
              "  <tbody>\n",
              "    <tr>\n",
              "      <th>0</th>\n",
              "      <td>The code seems to be readable and the naming c...</td>\n",
              "      <td>-1</td>\n",
              "    </tr>\n",
              "    <tr>\n",
              "      <th>1</th>\n",
              "      <td>The code was written in a clean and readable w...</td>\n",
              "      <td>1</td>\n",
              "    </tr>\n",
              "    <tr>\n",
              "      <th>2</th>\n",
              "      <td>Bookings_controller is huge. You should be put...</td>\n",
              "      <td>1</td>\n",
              "    </tr>\n",
              "    <tr>\n",
              "      <th>3</th>\n",
              "      <td>The code looks neat and each function is named...</td>\n",
              "      <td>-1</td>\n",
              "    </tr>\n",
              "    <tr>\n",
              "      <th>4</th>\n",
              "      <td>The team uses clean ruby practice. The code is...</td>\n",
              "      <td>-1</td>\n",
              "    </tr>\n",
              "  </tbody>\n",
              "</table>\n",
              "</div>"
            ],
            "text/plain": [
              "                                              REVIEW  TAG\n",
              "0  The code seems to be readable and the naming c...   -1\n",
              "1  The code was written in a clean and readable w...    1\n",
              "2  Bookings_controller is huge. You should be put...    1\n",
              "3  The code looks neat and each function is named...   -1\n",
              "4  The team uses clean ruby practice. The code is...   -1"
            ]
          },
          "metadata": {
            "tags": []
          },
          "execution_count": 10
        }
      ]
    },
    {
      "cell_type": "code",
      "metadata": {
        "id": "0aY5PYLXnxrx",
        "colab_type": "code",
        "outputId": "24637730-22a9-4073-d085-35db6e27a5c3",
        "colab": {
          "base_uri": "https://localhost:8080/",
          "height": 73
        }
      },
      "source": [
        "data['TAG'].value_counts() # 1 for problems, -1 are no problems"
      ],
      "execution_count": 0,
      "outputs": [
        {
          "output_type": "execute_result",
          "data": {
            "text/plain": [
              "1    5585\n",
              "0    5585\n",
              "Name: TAG, dtype: int64"
            ]
          },
          "metadata": {
            "tags": []
          },
          "execution_count": 9
        }
      ]
    },
    {
      "cell_type": "code",
      "metadata": {
        "id": "E1UPHFO3Q5uW",
        "colab_type": "code",
        "colab": {}
      },
      "source": [
        "train_set, test_set = train_test_split(data, test_size=0.05, random_state=42)"
      ],
      "execution_count": 0,
      "outputs": []
    },
    {
      "cell_type": "code",
      "metadata": {
        "id": "UONGWn8tNOk9",
        "colab_type": "code",
        "colab": {}
      },
      "source": [
        "train_reviews = list(train_set[\"REVIEW\"])"
      ],
      "execution_count": 0,
      "outputs": []
    },
    {
      "cell_type": "code",
      "metadata": {
        "id": "g1QTQuXbN8p5",
        "colab_type": "code",
        "colab": {}
      },
      "source": [
        "train_labels = list(train_set[\"TAG\"])"
      ],
      "execution_count": 0,
      "outputs": []
    },
    {
      "cell_type": "code",
      "metadata": {
        "id": "9aXVymWRoElG",
        "colab_type": "code",
        "outputId": "5afd745e-8ec3-4f6f-87d3-7423a823eaf3",
        "colab": {
          "base_uri": "https://localhost:8080/",
          "height": 74
        }
      },
      "source": [
        "train_reviews[1],train_labels[1]"
      ],
      "execution_count": 0,
      "outputs": [
        {
          "output_type": "execute_result",
          "data": {
            "text/plain": [
              "('The writeup can be improved to begin with a short description of the project backgound so that anyone reading the writeup can understand what the project is all about.',\n",
              " 1)"
            ]
          },
          "metadata": {
            "tags": []
          },
          "execution_count": 15
        }
      ]
    },
    {
      "cell_type": "code",
      "metadata": {
        "id": "q3o4douFOMX5",
        "colab_type": "code",
        "outputId": "3f09f965-a942-458c-c4e2-f6df23bf3820",
        "colab": {
          "base_uri": "https://localhost:8080/",
          "height": 36
        }
      },
      "source": [
        "len(train_reviews), len(train_labels)"
      ],
      "execution_count": 0,
      "outputs": [
        {
          "output_type": "execute_result",
          "data": {
            "text/plain": [
              "(14530, 14530)"
            ]
          },
          "metadata": {
            "tags": []
          },
          "execution_count": 16
        }
      ]
    },
    {
      "cell_type": "code",
      "metadata": {
        "id": "wn4HKy1GOlLU",
        "colab_type": "code",
        "colab": {}
      },
      "source": [
        "for i in range(len(train_reviews)):\n",
        "  train_reviews[i] = re.sub('\\d',' ',train_reviews[i]) # Replacing digits by space\n",
        "  train_reviews[i] = re.sub(r'\\s+[a-z][\\s$]', ' ',train_reviews[i]) # Removing single characters and spaces alongside\n",
        "  train_reviews[i] = re.sub(r'\\s+', ' ',train_reviews[i]) # Replacing more than one space with a single space"
      ],
      "execution_count": 0,
      "outputs": []
    },
    {
      "cell_type": "code",
      "metadata": {
        "id": "XwuaSfqsPT2P",
        "colab_type": "code",
        "outputId": "296cb972-fc00-4c62-9d02-7bf234455deb",
        "colab": {
          "base_uri": "https://localhost:8080/",
          "height": 92
        }
      },
      "source": [
        "for i in range(len(train_reviews)):\n",
        "    if 'www.' in train_reviews[i] or 'http:' in train_reviews[i] or 'https:' in train_reviews[i] or '.com' in train_reviews[i]:\n",
        "        train_reviews[i] = re.sub(r\"([^ ]+(?<=\\.[a-z]{3}))\", \"<url>\", train_reviews[i])\n",
        "        \n",
        "        \n",
        "train_reviews[1:5]"
      ],
      "execution_count": 0,
      "outputs": [
        {
          "output_type": "execute_result",
          "data": {
            "text/plain": [
              "['Yes. The team had bulleted list of tasked items to implement in the Proposed Imports Changes section.',\n",
              " 'Yes the design doc incorporates all the functionality mentioned in the above link.',\n",
              " 'They have test on most controllers and the user model',\n",
              " 'Yes, the team has indeed added test case and made test plan for both the issues that they have resolved.']"
            ]
          },
          "metadata": {
            "tags": []
          },
          "execution_count": 14
        }
      ]
    },
    {
      "cell_type": "code",
      "metadata": {
        "id": "g8ZtfTCxQhrJ",
        "colab_type": "code",
        "outputId": "93ed838c-9d1c-4a16-f8c1-1edf28276b34",
        "colab": {
          "base_uri": "https://localhost:8080/",
          "height": 36
        }
      },
      "source": [
        "# Use Tokenizer to remove punctuations and non-word characters and tokenize the text\n",
        "import os\n",
        "os.environ['KERAS_BACKEND']='tensorflow' # Or TenserFlow\n",
        "from keras.preprocessing.text import Tokenizer\n",
        "from keras.preprocessing.sequence import pad_sequences\n",
        "from keras.layers import *\n",
        "from keras.models import Model\n",
        "from keras.callbacks import ModelCheckpoint"
      ],
      "execution_count": 0,
      "outputs": [
        {
          "output_type": "stream",
          "text": [
            "Using TensorFlow backend.\n"
          ],
          "name": "stderr"
        }
      ]
    },
    {
      "cell_type": "code",
      "metadata": {
        "id": "X7xoaOquUO9q",
        "colab_type": "code",
        "colab": {}
      },
      "source": [
        "MAX_SEQUENCE_LENGTH = 100\n",
        "MAX_NB_WORDS = 80 # This specifies how many top tokens in each review to be stored. Wrongly interpreted as total number of words(token) together in whole dataset\n",
        "EMBEDDING_DIM = 100"
      ],
      "execution_count": 0,
      "outputs": []
    },
    {
      "cell_type": "code",
      "metadata": {
        "id": "SbeEEYBNUbP9",
        "colab_type": "code",
        "outputId": "62a08a03-e80a-4280-b2bb-bc38978b68a9",
        "colab": {
          "base_uri": "https://localhost:8080/",
          "height": 36
        }
      },
      "source": [
        "# Takes 5 minutes to run on entire training dataset\n",
        "tokenizer = Tokenizer(num_words=MAX_NB_WORDS)\n",
        "tokenizer.fit_on_texts(train_reviews)\n",
        "train_sequences = tokenizer.texts_to_sequences(train_reviews)\n",
        "\n",
        "word_index = tokenizer.word_index\n",
        "print('Number of Unique Tokens',len(word_index)) # Total 996497 unique words "
      ],
      "execution_count": 0,
      "outputs": [
        {
          "output_type": "stream",
          "text": [
            "Number of Unique Tokens 8577\n"
          ],
          "name": "stdout"
        }
      ]
    },
    {
      "cell_type": "code",
      "metadata": {
        "id": "j9GpydGTU-_e",
        "colab_type": "code",
        "colab": {}
      },
      "source": [
        "#Padding\n",
        "train_sequences_padded = pad_sequences(train_sequences, maxlen=MAX_SEQUENCE_LENGTH)"
      ],
      "execution_count": 0,
      "outputs": []
    },
    {
      "cell_type": "code",
      "metadata": {
        "colab_type": "code",
        "id": "Q1vp-MqbiNDy",
        "colab": {}
      },
      "source": [
        "#!cp gdrive/My\\ Drive/AI-In-Peer-Assessment/glovetwitter.zip .\n",
        "#!unzip glovetwitter.zip"
      ],
      "execution_count": 0,
      "outputs": []
    },
    {
      "cell_type": "code",
      "metadata": {
        "id": "KFlmjYIdpz04",
        "colab_type": "code",
        "outputId": "72728b35-932c-41ee-d5cc-603a08e048cb",
        "colab": {
          "base_uri": "https://localhost:8080/",
          "height": 54
        }
      },
      "source": [
        "!cp gdrive/My\\ Drive/glove100d.zip .\n",
        "!unzip glove100d.zip"
      ],
      "execution_count": 0,
      "outputs": [
        {
          "output_type": "stream",
          "text": [
            "Archive:  glove100d.zip\n",
            "  inflating: glove.6B.100d.txt       \n"
          ],
          "name": "stdout"
        }
      ]
    },
    {
      "cell_type": "code",
      "metadata": {
        "id": "ac8PmyDuVc44",
        "colab_type": "code",
        "colab": {}
      },
      "source": [
        "embeddings_index = {}\n",
        "for i, line in enumerate(open('glove.6B.100d.txt')):\n",
        "  values = line.split() # 0 th index will be the word and rest will the embedding vector (size 100 as we have used Glove.6B.100D embedding file) \n",
        "  embeddings_index[values[0]] = np.asarray(values[1:], dtype='float32')"
      ],
      "execution_count": 0,
      "outputs": []
    },
    {
      "cell_type": "code",
      "metadata": {
        "id": "mrj6bPE0VjOs",
        "colab_type": "code",
        "colab": {}
      },
      "source": [
        "# create token(words in word index)-embedding mapping\n",
        "embedding_matrix = np.zeros((len(word_index) + 1, 100)) # 100 since embedding_dimesion is 100, +1 because index 0 is reserved in word_index\n",
        "for word, i in word_index.items():\n",
        "  embedding_vector = embeddings_index.get(word)\n",
        "  if embedding_vector is not None:\n",
        "    embedding_matrix[i] = embedding_vector\n",
        "# We can initialize random vector and assign for words which are not present in embeddings.Other option is keep trainable=true in embedding layer of the NN model.\n",
        "# We choose 2nd option"
      ],
      "execution_count": 0,
      "outputs": []
    },
    {
      "cell_type": "code",
      "metadata": {
        "id": "dNsLRPPxVpPd",
        "colab_type": "code",
        "outputId": "9532a557-dded-414a-d48f-b375c0610d7e",
        "colab": {
          "base_uri": "https://localhost:8080/",
          "height": 36
        }
      },
      "source": [
        "nonzero_elements = np.count_nonzero(np.count_nonzero(embedding_matrix, axis=1))\n",
        "nonzero_elements / len(word_index)"
      ],
      "execution_count": 0,
      "outputs": [
        {
          "output_type": "execute_result",
          "data": {
            "text/plain": [
              "0.6510434883992072"
            ]
          },
          "metadata": {
            "tags": []
          },
          "execution_count": 22
        }
      ]
    },
    {
      "cell_type": "code",
      "metadata": {
        "id": "F7r-_qE1XkBT",
        "colab_type": "code",
        "colab": {}
      },
      "source": [
        "from sklearn.utils import shuffle\n",
        "x_train, y_train = shuffle(train_sequences_padded, train_labels)"
      ],
      "execution_count": 0,
      "outputs": []
    },
    {
      "cell_type": "code",
      "metadata": {
        "id": "wtTvPh_tYNG6",
        "colab_type": "code",
        "outputId": "0c361e96-9955-4e84-95e9-1ff77312a32e",
        "colab": {
          "base_uri": "https://localhost:8080/",
          "height": 36
        }
      },
      "source": [
        "x_train = np.array(x_train[:])\n",
        "train_labels = [[1,0] if x == 1 else [0,1] for x in y_train[:]] \n",
        "y_train = np.array(train_labels[:])\n",
        "len(x_train),len(y_train)"
      ],
      "execution_count": 0,
      "outputs": [
        {
          "output_type": "execute_result",
          "data": {
            "text/plain": [
              "(10611, 10611)"
            ]
          },
          "metadata": {
            "tags": []
          },
          "execution_count": 25
        }
      ]
    },
    {
      "cell_type": "code",
      "metadata": {
        "id": "q5IzhFT_WBhC",
        "colab_type": "code",
        "outputId": "28b0ea8a-b905-4f6e-9d8d-2ff626371c73",
        "colab": {
          "base_uri": "https://localhost:8080/",
          "height": 1000
        }
      },
      "source": [
        "# Defining the Convolutional NN model\n",
        "embedding_layer = Embedding(len(word_index) + 1,\n",
        "                            EMBEDDING_DIM,weights=[embedding_matrix],\n",
        "                            input_length=MAX_SEQUENCE_LENGTH,trainable=True)\n",
        "sequence_input = Input(shape=(MAX_SEQUENCE_LENGTH,), dtype='int32')\n",
        "embedded_sequences = embedding_layer(sequence_input)\n",
        "\n",
        "net = Dropout(0.3)(embedded_sequences)\n",
        "net = Conv1D(50, 3, padding='same', activation='relu')(net)\n",
        "net = BatchNormalization()(net)\n",
        "net = GlobalAveragePooling1D()(net)\n",
        "net = Dense(100, activation='relu')(net)\n",
        "net = Dropout(0.5)(net)\n",
        "output = Dense(2, activation='softmax')(net)\n",
        "\n",
        "model = Model(inputs = sequence_input, outputs = output)\n",
        "model.compile(optimizer='adam', loss='categorical_crossentropy', metrics=['acc'])\n",
        "model.summary()\n",
        "\n",
        "# Keeping a checkpoint to store only the model which gives best output validation accuracy\n",
        "chkpt=ModelCheckpoint('expertiza_cnn_model.h5',monitor='val_acc',verbose=1,save_best_only=True)\n",
        "model_history = model.fit(x_train, y_train, batch_size=128, epochs=20, validation_split=0.2,callbacks=[chkpt])"
      ],
      "execution_count": 0,
      "outputs": [
        {
          "output_type": "stream",
          "text": [
            "Model: \"model_6\"\n",
            "_________________________________________________________________\n",
            "Layer (type)                 Output Shape              Param #   \n",
            "=================================================================\n",
            "input_6 (InputLayer)         (None, 100)               0         \n",
            "_________________________________________________________________\n",
            "embedding_6 (Embedding)      (None, 100, 100)          857800    \n",
            "_________________________________________________________________\n",
            "dropout_11 (Dropout)         (None, 100, 100)          0         \n",
            "_________________________________________________________________\n",
            "conv1d_7 (Conv1D)            (None, 100, 50)           15050     \n",
            "_________________________________________________________________\n",
            "batch_normalization_7 (Batch (None, 100, 50)           200       \n",
            "_________________________________________________________________\n",
            "global_average_pooling1d_6 ( (None, 50)                0         \n",
            "_________________________________________________________________\n",
            "dense_11 (Dense)             (None, 100)               5100      \n",
            "_________________________________________________________________\n",
            "dropout_12 (Dropout)         (None, 100)               0         \n",
            "_________________________________________________________________\n",
            "dense_12 (Dense)             (None, 2)                 202       \n",
            "=================================================================\n",
            "Total params: 878,352\n",
            "Trainable params: 878,252\n",
            "Non-trainable params: 100\n",
            "_________________________________________________________________\n",
            "Train on 8488 samples, validate on 2123 samples\n",
            "Epoch 1/20\n",
            "8488/8488 [==============================] - 2s 265us/step - loss: 0.6041 - acc: 0.6804 - val_loss: 0.5651 - val_acc: 0.7584\n",
            "\n",
            "Epoch 00001: val_acc improved from -inf to 0.75836, saving model to expertiza_nn_model.h5\n",
            "Epoch 2/20\n",
            "8488/8488 [==============================] - 0s 56us/step - loss: 0.5038 - acc: 0.7700 - val_loss: 0.8229 - val_acc: 0.5318\n",
            "\n",
            "Epoch 00002: val_acc did not improve from 0.75836\n",
            "Epoch 3/20\n",
            "8488/8488 [==============================] - 1s 59us/step - loss: 0.4424 - acc: 0.8075 - val_loss: 0.4676 - val_acc: 0.8083\n",
            "\n",
            "Epoch 00003: val_acc improved from 0.75836 to 0.80829, saving model to expertiza_nn_model.h5\n",
            "Epoch 4/20\n",
            "8488/8488 [==============================] - 0s 58us/step - loss: 0.4350 - acc: 0.8081 - val_loss: 0.7391 - val_acc: 0.6750\n",
            "\n",
            "Epoch 00004: val_acc did not improve from 0.80829\n",
            "Epoch 5/20\n",
            "8488/8488 [==============================] - 0s 57us/step - loss: 0.4180 - acc: 0.8222 - val_loss: 0.6203 - val_acc: 0.7136\n",
            "\n",
            "Epoch 00005: val_acc did not improve from 0.80829\n",
            "Epoch 6/20\n",
            "8488/8488 [==============================] - 0s 54us/step - loss: 0.4128 - acc: 0.8221 - val_loss: 0.6057 - val_acc: 0.7414\n",
            "\n",
            "Epoch 00006: val_acc did not improve from 0.80829\n",
            "Epoch 7/20\n",
            "8488/8488 [==============================] - 0s 58us/step - loss: 0.4068 - acc: 0.8236 - val_loss: 0.6590 - val_acc: 0.7174\n",
            "\n",
            "Epoch 00007: val_acc did not improve from 0.80829\n",
            "Epoch 8/20\n",
            "8488/8488 [==============================] - 0s 56us/step - loss: 0.4051 - acc: 0.8263 - val_loss: 0.5850 - val_acc: 0.7438\n",
            "\n",
            "Epoch 00008: val_acc did not improve from 0.80829\n",
            "Epoch 9/20\n",
            "8488/8488 [==============================] - 0s 57us/step - loss: 0.3962 - acc: 0.8322 - val_loss: 0.5395 - val_acc: 0.7706\n",
            "\n",
            "Epoch 00009: val_acc did not improve from 0.80829\n",
            "Epoch 10/20\n",
            "8488/8488 [==============================] - 0s 58us/step - loss: 0.3912 - acc: 0.8320 - val_loss: 0.4733 - val_acc: 0.7909\n",
            "\n",
            "Epoch 00010: val_acc did not improve from 0.80829\n",
            "Epoch 11/20\n",
            "8488/8488 [==============================] - 1s 61us/step - loss: 0.3854 - acc: 0.8372 - val_loss: 0.4777 - val_acc: 0.7923\n",
            "\n",
            "Epoch 00011: val_acc did not improve from 0.80829\n",
            "Epoch 12/20\n",
            "8488/8488 [==============================] - 0s 56us/step - loss: 0.3791 - acc: 0.8391 - val_loss: 0.5143 - val_acc: 0.7819\n",
            "\n",
            "Epoch 00012: val_acc did not improve from 0.80829\n",
            "Epoch 13/20\n",
            "8488/8488 [==============================] - 0s 58us/step - loss: 0.3831 - acc: 0.8378 - val_loss: 0.5440 - val_acc: 0.7786\n",
            "\n",
            "Epoch 00013: val_acc did not improve from 0.80829\n",
            "Epoch 14/20\n",
            "8488/8488 [==============================] - 0s 57us/step - loss: 0.3776 - acc: 0.8386 - val_loss: 0.5070 - val_acc: 0.7833\n",
            "\n",
            "Epoch 00014: val_acc did not improve from 0.80829\n",
            "Epoch 15/20\n",
            "8488/8488 [==============================] - 0s 57us/step - loss: 0.3694 - acc: 0.8395 - val_loss: 0.4776 - val_acc: 0.7904\n",
            "\n",
            "Epoch 00015: val_acc did not improve from 0.80829\n",
            "Epoch 16/20\n",
            "8488/8488 [==============================] - 0s 58us/step - loss: 0.3710 - acc: 0.8424 - val_loss: 0.4862 - val_acc: 0.7923\n",
            "\n",
            "Epoch 00016: val_acc did not improve from 0.80829\n",
            "Epoch 17/20\n",
            "8488/8488 [==============================] - 0s 56us/step - loss: 0.3659 - acc: 0.8454 - val_loss: 0.4767 - val_acc: 0.7937\n",
            "\n",
            "Epoch 00017: val_acc did not improve from 0.80829\n",
            "Epoch 18/20\n",
            "8488/8488 [==============================] - 0s 56us/step - loss: 0.3639 - acc: 0.8471 - val_loss: 0.4468 - val_acc: 0.8106\n",
            "\n",
            "Epoch 00018: val_acc improved from 0.80829 to 0.81065, saving model to expertiza_nn_model.h5\n",
            "Epoch 19/20\n",
            "8488/8488 [==============================] - 0s 57us/step - loss: 0.3614 - acc: 0.8463 - val_loss: 0.4474 - val_acc: 0.8144\n",
            "\n",
            "Epoch 00019: val_acc improved from 0.81065 to 0.81441, saving model to expertiza_nn_model.h5\n",
            "Epoch 20/20\n",
            "8488/8488 [==============================] - 0s 58us/step - loss: 0.3551 - acc: 0.8491 - val_loss: 0.4063 - val_acc: 0.8276\n",
            "\n",
            "Epoch 00020: val_acc improved from 0.81441 to 0.82760, saving model to expertiza_nn_model.h5\n"
          ],
          "name": "stdout"
        }
      ]
    },
    {
      "cell_type": "code",
      "metadata": {
        "id": "v63u20gq0TQm",
        "colab_type": "code",
        "colab": {}
      },
      "source": [
        "# Saving the model so that it can be loaded easily again\n",
        "model.save_weights('expertiza_cnn_model_weights.h5')\n",
        "\n",
        "# Save the model architecture\n",
        "with open('expertiza_cnn_model_architecture.json', 'w') as f:\n",
        "    f.write(model.to_json())"
      ],
      "execution_count": 0,
      "outputs": []
    },
    {
      "cell_type": "code",
      "metadata": {
        "id": "dbrXx6jm0fVG",
        "colab_type": "code",
        "colab": {}
      },
      "source": [
        "# Persisting model weights\n",
        "!cp expertiza_cnn_model_weights.h5 gdrive/My\\ Drive/AI-In-Peer-Assessment/model/"
      ],
      "execution_count": 0,
      "outputs": []
    },
    {
      "cell_type": "code",
      "metadata": {
        "id": "sDsX8znk0yJN",
        "colab_type": "code",
        "colab": {}
      },
      "source": [
        "# Persisting model architecture\n",
        "!cp expertiza_cnn_model_architecture.json gdrive/My\\ Drive/AI-In-Peer-Assessment/model/"
      ],
      "execution_count": 0,
      "outputs": []
    },
    {
      "cell_type": "code",
      "metadata": {
        "id": "9ZuJ84AB1N8I",
        "colab_type": "code",
        "colab": {}
      },
      "source": [
        "!cp gdrive/My\\ Drive/AI-In-Peer-Assessment/model/expertiza_cnn_model_architecture.json .\n",
        "!cp gdrive/My\\ Drive/AI-In-Peer-Assessment/model/expertiza_cnn_model_weights.h5 ."
      ],
      "execution_count": 0,
      "outputs": []
    },
    {
      "cell_type": "code",
      "metadata": {
        "id": "3vMeYvs0094-",
        "colab_type": "code",
        "colab": {}
      },
      "source": [
        "# Loading model and weights again from drive\n",
        "from keras.models import model_from_json\n",
        "\n",
        "# Model reconstruction from JSON file\n",
        "with open('expertiza_cnn_model_architecture.json', 'r') as f:\n",
        "    model = model_from_json(f.read())\n",
        "\n",
        "# Load weights into the new model\n",
        "model.load_weights('expertiza_cnn_model_weights.h5')"
      ],
      "execution_count": 0,
      "outputs": []
    },
    {
      "cell_type": "code",
      "metadata": {
        "id": "mPLVTKSHaUQA",
        "colab_type": "code",
        "colab": {}
      },
      "source": [
        "import pandas as pd\n",
        "import numpy as np\n",
        "import matplotlib.pyplot as plt"
      ],
      "execution_count": 0,
      "outputs": []
    },
    {
      "cell_type": "code",
      "metadata": {
        "id": "GCwZuoC7ZZ8L",
        "colab_type": "code",
        "colab": {}
      },
      "source": [
        "allclassifierF1Score = []\n",
        "allclassifierF1Score.append(classifierF1ScoreCNN)\n",
        "allclassifierF1Score.append(classifierF1ScoreRNN)\n",
        "allclassifierF1Score.append(classifierF1ScoreCNN_plus_RNN)\n",
        "allclassifierF1Score.append(classifierF1ScoreHAN)"
      ],
      "execution_count": 0,
      "outputs": []
    },
    {
      "cell_type": "code",
      "metadata": {
        "id": "J2UUOjvPZrw5",
        "colab_type": "code",
        "colab": {}
      },
      "source": [
        "allclassifierF1Score\n",
        "classifier_names = [\"CNN\",\"LSTM\",\"CNN_Plus_LSTM\",\"HAN\"]"
      ],
      "execution_count": 0,
      "outputs": []
    },
    {
      "cell_type": "code",
      "metadata": {
        "id": "KQlMVYyPZ-U2",
        "colab_type": "code",
        "colab": {}
      },
      "source": [
        "stats_df = pd.DataFrame(allclassifierF1Score)\n",
        "stats_df = stats_df.transpose()\n",
        "stats_df.columns = classifier_names"
      ],
      "execution_count": 0,
      "outputs": []
    },
    {
      "cell_type": "code",
      "metadata": {
        "id": "vuKAcwqQalQ-",
        "colab_type": "code",
        "colab": {}
      },
      "source": [
        "import seaborn as sns"
      ],
      "execution_count": 0,
      "outputs": []
    },
    {
      "cell_type": "code",
      "metadata": {
        "id": "pmnMZHB4afmy",
        "colab_type": "code",
        "outputId": "4170e1af-9129-4996-8dfc-9f7d00d8d638",
        "colab": {
          "base_uri": "https://localhost:8080/",
          "height": 315
        }
      },
      "source": [
        "plt.clf()\n",
        "fig1, ax1 = plt.subplots()\n",
        "ax1.set_title(\"NN Classifier F1-scores\")\n",
        "sns.boxplot(x=\"variable\", y=\"value\", data=pd.melt(stats_df))\n",
        "plt.xlabel(\"Classifiers\")\n",
        "plt.ylabel(\"F1-scores\")\n",
        "plt.show()"
      ],
      "execution_count": 0,
      "outputs": [
        {
          "output_type": "display_data",
          "data": {
            "text/plain": [
              "<Figure size 432x288 with 0 Axes>"
            ]
          },
          "metadata": {
            "tags": []
          }
        },
        {
          "output_type": "display_data",
          "data": {
            "image/png": "[encoded data removed]",
            "text/plain": [
              "<Figure size 432x288 with 1 Axes>"
            ]
          },
          "metadata": {
            "tags": []
          }
        }
      ]
    }
  ]
}